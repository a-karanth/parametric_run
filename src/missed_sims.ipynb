{
 "cells": [
  {
   "cell_type": "code",
   "execution_count": 1,
   "id": "08ced2e6",
   "metadata": {},
   "outputs": [],
   "source": [
    "import os\n",
    "directory = os.getcwd()\n",
    "sample_folder = '\\\\res'\n",
    "res_folder = '\\\\res\\\\trn'\n",
    "os.chdir(directory+res_folder)"
   ]
  },
  {
   "cell_type": "code",
   "execution_count": 4,
   "id": "87b01918",
   "metadata": {},
   "outputs": [
    {
     "name": "stdout",
     "output_type": "stream",
     "text": [
      "1266\n",
      "422\n"
     ]
    }
   ],
   "source": [
    "import numpy as np\n",
    "import pandas as pd\n",
    "test = os.listdir()\n",
    "avl_labels_og = [] # avaliable labels in the \n",
    "for i in test:\n",
    "    if '_temp_flow' in i:\n",
    "        prefix = i[:-14]\n",
    "    elif '_control_signal' in i:\n",
    "        prefix = i[:-19]\n",
    "    elif '_energy' in i:\n",
    "        prefix = i[:-11]\n",
    "    else:\n",
    "        continue\n",
    "    avl_labels_og.append(prefix)\n",
    "print(len(avl_labels_og))        \n",
    "avl_labels_og = np.array(avl_labels_og)\n",
    "avl_labels_og = np.unique(avl_labels_og)\n",
    "print(len(avl_labels_og))"
   ]
  },
  {
   "cell_type": "code",
   "execution_count": 3,
   "id": "f135f02f",
   "metadata": {},
   "outputs": [
    {
     "name": "stdout",
     "output_type": "stream",
     "text": [
      "['1046', '882', '878', '884', '877', '997', '938', '880', '937', '998']\n"
     ]
    },
    {
     "ename": "KeyError",
     "evalue": "185",
     "output_type": "error",
     "traceback": [
      "\u001b[1;31m---------------------------------------------------------------------------\u001b[0m",
      "\u001b[1;31mKeyError\u001b[0m                                  Traceback (most recent call last)",
      "\u001b[1;32mC:\\ProgramData\\Anaconda3\\lib\\site-packages\\pandas\\core\\indexes\\base.py\u001b[0m in \u001b[0;36mget_loc\u001b[1;34m(self, key, method, tolerance)\u001b[0m\n\u001b[0;32m   3079\u001b[0m             \u001b[1;32mtry\u001b[0m\u001b[1;33m:\u001b[0m\u001b[1;33m\u001b[0m\u001b[1;33m\u001b[0m\u001b[0m\n\u001b[1;32m-> 3080\u001b[1;33m                 \u001b[1;32mreturn\u001b[0m \u001b[0mself\u001b[0m\u001b[1;33m.\u001b[0m\u001b[0m_engine\u001b[0m\u001b[1;33m.\u001b[0m\u001b[0mget_loc\u001b[0m\u001b[1;33m(\u001b[0m\u001b[0mcasted_key\u001b[0m\u001b[1;33m)\u001b[0m\u001b[1;33m\u001b[0m\u001b[1;33m\u001b[0m\u001b[0m\n\u001b[0m\u001b[0;32m   3081\u001b[0m             \u001b[1;32mexcept\u001b[0m \u001b[0mKeyError\u001b[0m \u001b[1;32mas\u001b[0m \u001b[0merr\u001b[0m\u001b[1;33m:\u001b[0m\u001b[1;33m\u001b[0m\u001b[1;33m\u001b[0m\u001b[0m\n",
      "\u001b[1;32mpandas\\_libs\\index.pyx\u001b[0m in \u001b[0;36mpandas._libs.index.IndexEngine.get_loc\u001b[1;34m()\u001b[0m\n",
      "\u001b[1;32mpandas\\_libs\\index.pyx\u001b[0m in \u001b[0;36mpandas._libs.index.IndexEngine.get_loc\u001b[1;34m()\u001b[0m\n",
      "\u001b[1;32mpandas\\_libs\\hashtable_class_helper.pxi\u001b[0m in \u001b[0;36mpandas._libs.hashtable.Int64HashTable.get_item\u001b[1;34m()\u001b[0m\n",
      "\u001b[1;32mpandas\\_libs\\hashtable_class_helper.pxi\u001b[0m in \u001b[0;36mpandas._libs.hashtable.Int64HashTable.get_item\u001b[1;34m()\u001b[0m\n",
      "\u001b[1;31mKeyError\u001b[0m: 185",
      "\nThe above exception was the direct cause of the following exception:\n",
      "\u001b[1;31mKeyError\u001b[0m                                  Traceback (most recent call last)",
      "\u001b[1;32m<ipython-input-3-be853dbbfcf3>\u001b[0m in \u001b[0;36m<module>\u001b[1;34m\u001b[0m\n\u001b[0;32m     24\u001b[0m \u001b[1;33m\u001b[0m\u001b[0m\n\u001b[0;32m     25\u001b[0m \u001b[1;32mfor\u001b[0m \u001b[0mi\u001b[0m \u001b[1;32min\u001b[0m \u001b[0mmissing\u001b[0m\u001b[1;33m:\u001b[0m\u001b[1;33m\u001b[0m\u001b[1;33m\u001b[0m\u001b[0m\n\u001b[1;32m---> 26\u001b[1;33m     \u001b[0mrepeat\u001b[0m \u001b[1;33m=\u001b[0m \u001b[0mrepeat\u001b[0m\u001b[1;33m.\u001b[0m\u001b[0mappend\u001b[0m\u001b[1;33m(\u001b[0m\u001b[0mcurrent\u001b[0m\u001b[1;33m.\u001b[0m\u001b[0mloc\u001b[0m\u001b[1;33m[\u001b[0m\u001b[0mint\u001b[0m\u001b[1;33m(\u001b[0m\u001b[0mi\u001b[0m\u001b[1;33m)\u001b[0m\u001b[1;33m-\u001b[0m\u001b[0mstarting_label\u001b[0m\u001b[1;33m]\u001b[0m\u001b[1;33m)\u001b[0m\u001b[1;33m\u001b[0m\u001b[1;33m\u001b[0m\u001b[0m\n\u001b[0m\u001b[0;32m     27\u001b[0m \u001b[0mrepeat\u001b[0m\u001b[1;33m.\u001b[0m\u001b[0mhead\u001b[0m\u001b[1;33m(\u001b[0m\u001b[1;33m)\u001b[0m\u001b[1;33m\u001b[0m\u001b[1;33m\u001b[0m\u001b[0m\n\u001b[0;32m     28\u001b[0m \u001b[1;33m\u001b[0m\u001b[0m\n",
      "\u001b[1;32mC:\\ProgramData\\Anaconda3\\lib\\site-packages\\pandas\\core\\indexing.py\u001b[0m in \u001b[0;36m__getitem__\u001b[1;34m(self, key)\u001b[0m\n\u001b[0;32m    893\u001b[0m \u001b[1;33m\u001b[0m\u001b[0m\n\u001b[0;32m    894\u001b[0m             \u001b[0mmaybe_callable\u001b[0m \u001b[1;33m=\u001b[0m \u001b[0mcom\u001b[0m\u001b[1;33m.\u001b[0m\u001b[0mapply_if_callable\u001b[0m\u001b[1;33m(\u001b[0m\u001b[0mkey\u001b[0m\u001b[1;33m,\u001b[0m \u001b[0mself\u001b[0m\u001b[1;33m.\u001b[0m\u001b[0mobj\u001b[0m\u001b[1;33m)\u001b[0m\u001b[1;33m\u001b[0m\u001b[1;33m\u001b[0m\u001b[0m\n\u001b[1;32m--> 895\u001b[1;33m             \u001b[1;32mreturn\u001b[0m \u001b[0mself\u001b[0m\u001b[1;33m.\u001b[0m\u001b[0m_getitem_axis\u001b[0m\u001b[1;33m(\u001b[0m\u001b[0mmaybe_callable\u001b[0m\u001b[1;33m,\u001b[0m \u001b[0maxis\u001b[0m\u001b[1;33m=\u001b[0m\u001b[0maxis\u001b[0m\u001b[1;33m)\u001b[0m\u001b[1;33m\u001b[0m\u001b[1;33m\u001b[0m\u001b[0m\n\u001b[0m\u001b[0;32m    896\u001b[0m \u001b[1;33m\u001b[0m\u001b[0m\n\u001b[0;32m    897\u001b[0m     \u001b[1;32mdef\u001b[0m \u001b[0m_is_scalar_access\u001b[0m\u001b[1;33m(\u001b[0m\u001b[0mself\u001b[0m\u001b[1;33m,\u001b[0m \u001b[0mkey\u001b[0m\u001b[1;33m:\u001b[0m \u001b[0mTuple\u001b[0m\u001b[1;33m)\u001b[0m\u001b[1;33m:\u001b[0m\u001b[1;33m\u001b[0m\u001b[1;33m\u001b[0m\u001b[0m\n",
      "\u001b[1;32mC:\\ProgramData\\Anaconda3\\lib\\site-packages\\pandas\\core\\indexing.py\u001b[0m in \u001b[0;36m_getitem_axis\u001b[1;34m(self, key, axis)\u001b[0m\n\u001b[0;32m   1122\u001b[0m         \u001b[1;31m# fall thru to straight lookup\u001b[0m\u001b[1;33m\u001b[0m\u001b[1;33m\u001b[0m\u001b[1;33m\u001b[0m\u001b[0m\n\u001b[0;32m   1123\u001b[0m         \u001b[0mself\u001b[0m\u001b[1;33m.\u001b[0m\u001b[0m_validate_key\u001b[0m\u001b[1;33m(\u001b[0m\u001b[0mkey\u001b[0m\u001b[1;33m,\u001b[0m \u001b[0maxis\u001b[0m\u001b[1;33m)\u001b[0m\u001b[1;33m\u001b[0m\u001b[1;33m\u001b[0m\u001b[0m\n\u001b[1;32m-> 1124\u001b[1;33m         \u001b[1;32mreturn\u001b[0m \u001b[0mself\u001b[0m\u001b[1;33m.\u001b[0m\u001b[0m_get_label\u001b[0m\u001b[1;33m(\u001b[0m\u001b[0mkey\u001b[0m\u001b[1;33m,\u001b[0m \u001b[0maxis\u001b[0m\u001b[1;33m=\u001b[0m\u001b[0maxis\u001b[0m\u001b[1;33m)\u001b[0m\u001b[1;33m\u001b[0m\u001b[1;33m\u001b[0m\u001b[0m\n\u001b[0m\u001b[0;32m   1125\u001b[0m \u001b[1;33m\u001b[0m\u001b[0m\n\u001b[0;32m   1126\u001b[0m     \u001b[1;32mdef\u001b[0m \u001b[0m_get_slice_axis\u001b[0m\u001b[1;33m(\u001b[0m\u001b[0mself\u001b[0m\u001b[1;33m,\u001b[0m \u001b[0mslice_obj\u001b[0m\u001b[1;33m:\u001b[0m \u001b[0mslice\u001b[0m\u001b[1;33m,\u001b[0m \u001b[0maxis\u001b[0m\u001b[1;33m:\u001b[0m \u001b[0mint\u001b[0m\u001b[1;33m)\u001b[0m\u001b[1;33m:\u001b[0m\u001b[1;33m\u001b[0m\u001b[1;33m\u001b[0m\u001b[0m\n",
      "\u001b[1;32mC:\\ProgramData\\Anaconda3\\lib\\site-packages\\pandas\\core\\indexing.py\u001b[0m in \u001b[0;36m_get_label\u001b[1;34m(self, label, axis)\u001b[0m\n\u001b[0;32m   1071\u001b[0m     \u001b[1;32mdef\u001b[0m \u001b[0m_get_label\u001b[0m\u001b[1;33m(\u001b[0m\u001b[0mself\u001b[0m\u001b[1;33m,\u001b[0m \u001b[0mlabel\u001b[0m\u001b[1;33m,\u001b[0m \u001b[0maxis\u001b[0m\u001b[1;33m:\u001b[0m \u001b[0mint\u001b[0m\u001b[1;33m)\u001b[0m\u001b[1;33m:\u001b[0m\u001b[1;33m\u001b[0m\u001b[1;33m\u001b[0m\u001b[0m\n\u001b[0;32m   1072\u001b[0m         \u001b[1;31m# GH#5667 this will fail if the label is not present in the axis.\u001b[0m\u001b[1;33m\u001b[0m\u001b[1;33m\u001b[0m\u001b[1;33m\u001b[0m\u001b[0m\n\u001b[1;32m-> 1073\u001b[1;33m         \u001b[1;32mreturn\u001b[0m \u001b[0mself\u001b[0m\u001b[1;33m.\u001b[0m\u001b[0mobj\u001b[0m\u001b[1;33m.\u001b[0m\u001b[0mxs\u001b[0m\u001b[1;33m(\u001b[0m\u001b[0mlabel\u001b[0m\u001b[1;33m,\u001b[0m \u001b[0maxis\u001b[0m\u001b[1;33m=\u001b[0m\u001b[0maxis\u001b[0m\u001b[1;33m)\u001b[0m\u001b[1;33m\u001b[0m\u001b[1;33m\u001b[0m\u001b[0m\n\u001b[0m\u001b[0;32m   1074\u001b[0m \u001b[1;33m\u001b[0m\u001b[0m\n\u001b[0;32m   1075\u001b[0m     \u001b[1;32mdef\u001b[0m \u001b[0m_handle_lowerdim_multi_index_axis0\u001b[0m\u001b[1;33m(\u001b[0m\u001b[0mself\u001b[0m\u001b[1;33m,\u001b[0m \u001b[0mtup\u001b[0m\u001b[1;33m:\u001b[0m \u001b[0mTuple\u001b[0m\u001b[1;33m)\u001b[0m\u001b[1;33m:\u001b[0m\u001b[1;33m\u001b[0m\u001b[1;33m\u001b[0m\u001b[0m\n",
      "\u001b[1;32mC:\\ProgramData\\Anaconda3\\lib\\site-packages\\pandas\\core\\generic.py\u001b[0m in \u001b[0;36mxs\u001b[1;34m(self, key, axis, level, drop_level)\u001b[0m\n\u001b[0;32m   3737\u001b[0m                 \u001b[1;32mraise\u001b[0m \u001b[0mTypeError\u001b[0m\u001b[1;33m(\u001b[0m\u001b[1;34mf\"Expected label or tuple of labels, got {key}\"\u001b[0m\u001b[1;33m)\u001b[0m \u001b[1;32mfrom\u001b[0m \u001b[0me\u001b[0m\u001b[1;33m\u001b[0m\u001b[1;33m\u001b[0m\u001b[0m\n\u001b[0;32m   3738\u001b[0m         \u001b[1;32melse\u001b[0m\u001b[1;33m:\u001b[0m\u001b[1;33m\u001b[0m\u001b[1;33m\u001b[0m\u001b[0m\n\u001b[1;32m-> 3739\u001b[1;33m             \u001b[0mloc\u001b[0m \u001b[1;33m=\u001b[0m \u001b[0mindex\u001b[0m\u001b[1;33m.\u001b[0m\u001b[0mget_loc\u001b[0m\u001b[1;33m(\u001b[0m\u001b[0mkey\u001b[0m\u001b[1;33m)\u001b[0m\u001b[1;33m\u001b[0m\u001b[1;33m\u001b[0m\u001b[0m\n\u001b[0m\u001b[0;32m   3740\u001b[0m \u001b[1;33m\u001b[0m\u001b[0m\n\u001b[0;32m   3741\u001b[0m             \u001b[1;32mif\u001b[0m \u001b[0misinstance\u001b[0m\u001b[1;33m(\u001b[0m\u001b[0mloc\u001b[0m\u001b[1;33m,\u001b[0m \u001b[0mnp\u001b[0m\u001b[1;33m.\u001b[0m\u001b[0mndarray\u001b[0m\u001b[1;33m)\u001b[0m\u001b[1;33m:\u001b[0m\u001b[1;33m\u001b[0m\u001b[1;33m\u001b[0m\u001b[0m\n",
      "\u001b[1;32mC:\\ProgramData\\Anaconda3\\lib\\site-packages\\pandas\\core\\indexes\\base.py\u001b[0m in \u001b[0;36mget_loc\u001b[1;34m(self, key, method, tolerance)\u001b[0m\n\u001b[0;32m   3080\u001b[0m                 \u001b[1;32mreturn\u001b[0m \u001b[0mself\u001b[0m\u001b[1;33m.\u001b[0m\u001b[0m_engine\u001b[0m\u001b[1;33m.\u001b[0m\u001b[0mget_loc\u001b[0m\u001b[1;33m(\u001b[0m\u001b[0mcasted_key\u001b[0m\u001b[1;33m)\u001b[0m\u001b[1;33m\u001b[0m\u001b[1;33m\u001b[0m\u001b[0m\n\u001b[0;32m   3081\u001b[0m             \u001b[1;32mexcept\u001b[0m \u001b[0mKeyError\u001b[0m \u001b[1;32mas\u001b[0m \u001b[0merr\u001b[0m\u001b[1;33m:\u001b[0m\u001b[1;33m\u001b[0m\u001b[1;33m\u001b[0m\u001b[0m\n\u001b[1;32m-> 3082\u001b[1;33m                 \u001b[1;32mraise\u001b[0m \u001b[0mKeyError\u001b[0m\u001b[1;33m(\u001b[0m\u001b[0mkey\u001b[0m\u001b[1;33m)\u001b[0m \u001b[1;32mfrom\u001b[0m \u001b[0merr\u001b[0m\u001b[1;33m\u001b[0m\u001b[1;33m\u001b[0m\u001b[0m\n\u001b[0m\u001b[0;32m   3083\u001b[0m \u001b[1;33m\u001b[0m\u001b[0m\n\u001b[0;32m   3084\u001b[0m         \u001b[1;32mif\u001b[0m \u001b[0mtolerance\u001b[0m \u001b[1;32mis\u001b[0m \u001b[1;32mnot\u001b[0m \u001b[1;32mNone\u001b[0m\u001b[1;33m:\u001b[0m\u001b[1;33m\u001b[0m\u001b[1;33m\u001b[0m\u001b[0m\n",
      "\u001b[1;31mKeyError\u001b[0m: 185"
     ]
    }
   ],
   "source": [
    "import pandas as pd\n",
    "\n",
    "# compare with current_list and flag the ones that have been completely missed\n",
    "# Add these values to the repeat dataframe\n",
    "# To check with indiecs of current list, labels have to be converted to numeric values, especially labels with _cp\n",
    "if len(avl_labels_og)==0:\n",
    "    starting_label=0\n",
    "else:\n",
    "    existing_res = pd.read_csv('..\\\\sim_results.csv', index_col='label')\n",
    "    starting_label = existing_res.index[-1]+1\n",
    "    \n",
    "repeat = pd.DataFrame()\n",
    "file_containing_samples = 'redo'\n",
    "current = pd.read_csv(f\"..\\\\{file_containing_samples}.csv\", header=0, index_col=0)\n",
    "#current = pd.read_csv('..\\\\redo.csv', header=0, index_col=0)\n",
    "if file_containing_samples == 'current_list':\n",
    "    current_index = [str(i+starting_label) for i in current.index]\n",
    "elif file_containing_samples=='redo':\n",
    "    current_index = [str(i) for i in current.index]\n",
    "avl_labels = np.array([''.join(filter(str.isdigit, s)) for s in avl_labels_og])\n",
    "\n",
    "missing = list(set(current_index)-set(avl_labels))\n",
    "print(missing)\n",
    "\n",
    "for i in missing:\n",
    "    repeat = repeat.append(current.loc[int(i)-starting_label])\n",
    "repeat.head()\n",
    "\n",
    "corrected_index = [i+starting_label for i in repeat.index]\n",
    "repeat.index = corrected_index\n",
    "\n",
    "repeat"
   ]
  },
  {
   "cell_type": "code",
   "execution_count": 35,
   "id": "f06fed80",
   "metadata": {},
   "outputs": [
    {
     "data": {
      "text/plain": [
       "[]"
      ]
     },
     "execution_count": 35,
     "metadata": {},
     "output_type": "execute_result"
    }
   ],
   "source": [
    "missing = list(set(current_index)-set(avl_labels))\n",
    "missing"
   ]
  },
  {
   "cell_type": "code",
   "execution_count": 4,
   "id": "c2450aaf",
   "metadata": {},
   "outputs": [
    {
     "data": {
      "text/plain": [
       "372"
      ]
     },
     "execution_count": 4,
     "metadata": {},
     "output_type": "execute_result"
    }
   ],
   "source": [
    "# if redo.cs is read, the labels can be converted to string. But the postfix _cp has to \n",
    "# added to the ones with design_case cp\n",
    "# then the missing values labels are removed from the redo labels list\n",
    "read_file = '..\\\\redo.csv'\n",
    "inp = pd.read_csv(read_file, header=0,index_col=0)\n",
    "\n",
    "if 'redo' in read_file:\n",
    "    redo_labels = []\n",
    "    for i in inp.index:\n",
    "        if 'cp' in inp['design_case'][i]:\n",
    "            redo_labels.append(str(i)+'_cp')\n",
    "        else:\n",
    "            redo_labels.append(str(i))\n",
    "        avl_labels_og = list(set(redo_labels)-set(missing))\n",
    "len(avl_labels_og)"
   ]
  },
  {
   "cell_type": "code",
   "execution_count": 5,
   "id": "2bc3b5e5",
   "metadata": {},
   "outputs": [
    {
     "ename": "TypeError",
     "evalue": "_nanmean_dispatcher() missing 1 required positional argument: 'a'",
     "output_type": "error",
     "traceback": [
      "\u001b[1;31m---------------------------------------------------------------------------\u001b[0m",
      "\u001b[1;31mTypeError\u001b[0m                                 Traceback (most recent call last)",
      "\u001b[1;32m<ipython-input-5-0b800b24326a>\u001b[0m in \u001b[0;36m<module>\u001b[1;34m\u001b[0m\n\u001b[1;32m----> 1\u001b[1;33m \u001b[0mnp\u001b[0m\u001b[1;33m.\u001b[0m\u001b[0mnanmean\u001b[0m\u001b[1;33m(\u001b[0m\u001b[1;33m)\u001b[0m\u001b[1;33m\u001b[0m\u001b[1;33m\u001b[0m\u001b[0m\n\u001b[0m",
      "\u001b[1;32m<__array_function__ internals>\u001b[0m in \u001b[0;36mnanmean\u001b[1;34m(*args, **kwargs)\u001b[0m\n",
      "\u001b[1;31mTypeError\u001b[0m: _nanmean_dispatcher() missing 1 required positional argument: 'a'"
     ]
    }
   ],
   "source": []
  },
  {
   "cell_type": "code",
   "execution_count": 53,
   "id": "4f58f7a8",
   "metadata": {},
   "outputs": [
    {
     "name": "stdout",
     "output_type": "stream",
     "text": [
      "1046 len = 83815\n",
      "877 len = 69542\n",
      "878 len = 57295\n",
      "880 len = 80433\n",
      "882 len = 83489\n",
      "884 len = 70836\n",
      "937 len = 69542\n",
      "938 len = 57295\n",
      "997 len = 69542\n",
      "998 len = 57295\n"
     ]
    },
    {
     "data": {
      "text/html": [
       "<div>\n",
       "<style scoped>\n",
       "    .dataframe tbody tr th:only-of-type {\n",
       "        vertical-align: middle;\n",
       "    }\n",
       "\n",
       "    .dataframe tbody tr th {\n",
       "        vertical-align: top;\n",
       "    }\n",
       "\n",
       "    .dataframe thead th {\n",
       "        text-align: right;\n",
       "    }\n",
       "</style>\n",
       "<table border=\"1\" class=\"dataframe\">\n",
       "  <thead>\n",
       "    <tr style=\"text-align: right;\">\n",
       "      <th></th>\n",
       "      <th>coll_area</th>\n",
       "      <th>design_case</th>\n",
       "      <th>draw</th>\n",
       "      <th>flow_factor</th>\n",
       "      <th>flow_rate</th>\n",
       "      <th>inf</th>\n",
       "      <th>r_level</th>\n",
       "      <th>volume</th>\n",
       "    </tr>\n",
       "  </thead>\n",
       "  <tbody>\n",
       "    <tr>\n",
       "      <th>1046</th>\n",
       "      <td>20.0</td>\n",
       "      <td>PVT_9</td>\n",
       "      <td>high</td>\n",
       "      <td>40.0</td>\n",
       "      <td>800.0</td>\n",
       "      <td>0.2</td>\n",
       "      <td>r2</td>\n",
       "      <td>0.15</td>\n",
       "    </tr>\n",
       "    <tr>\n",
       "      <th>877</th>\n",
       "      <td>4.0</td>\n",
       "      <td>ASHP</td>\n",
       "      <td>low</td>\n",
       "      <td>0.0</td>\n",
       "      <td>0.0</td>\n",
       "      <td>0.2</td>\n",
       "      <td>r2</td>\n",
       "      <td>0.15</td>\n",
       "    </tr>\n",
       "    <tr>\n",
       "      <th>878</th>\n",
       "      <td>4.0</td>\n",
       "      <td>ASHP</td>\n",
       "      <td>high</td>\n",
       "      <td>0.0</td>\n",
       "      <td>0.0</td>\n",
       "      <td>0.2</td>\n",
       "      <td>r2</td>\n",
       "      <td>0.15</td>\n",
       "    </tr>\n",
       "    <tr>\n",
       "      <th>880</th>\n",
       "      <td>4.0</td>\n",
       "      <td>ST</td>\n",
       "      <td>high</td>\n",
       "      <td>25.0</td>\n",
       "      <td>100.0</td>\n",
       "      <td>1.0</td>\n",
       "      <td>r0</td>\n",
       "      <td>0.15</td>\n",
       "    </tr>\n",
       "    <tr>\n",
       "      <th>882</th>\n",
       "      <td>4.0</td>\n",
       "      <td>ST</td>\n",
       "      <td>high</td>\n",
       "      <td>25.0</td>\n",
       "      <td>100.0</td>\n",
       "      <td>0.4</td>\n",
       "      <td>r1</td>\n",
       "      <td>0.15</td>\n",
       "    </tr>\n",
       "    <tr>\n",
       "      <th>884</th>\n",
       "      <td>4.0</td>\n",
       "      <td>ST</td>\n",
       "      <td>high</td>\n",
       "      <td>25.0</td>\n",
       "      <td>100.0</td>\n",
       "      <td>0.2</td>\n",
       "      <td>r2</td>\n",
       "      <td>0.15</td>\n",
       "    </tr>\n",
       "    <tr>\n",
       "      <th>937</th>\n",
       "      <td>10.0</td>\n",
       "      <td>ASHP</td>\n",
       "      <td>low</td>\n",
       "      <td>0.0</td>\n",
       "      <td>0.0</td>\n",
       "      <td>0.2</td>\n",
       "      <td>r2</td>\n",
       "      <td>0.15</td>\n",
       "    </tr>\n",
       "    <tr>\n",
       "      <th>938</th>\n",
       "      <td>10.0</td>\n",
       "      <td>ASHP</td>\n",
       "      <td>high</td>\n",
       "      <td>0.0</td>\n",
       "      <td>0.0</td>\n",
       "      <td>0.2</td>\n",
       "      <td>r2</td>\n",
       "      <td>0.15</td>\n",
       "    </tr>\n",
       "    <tr>\n",
       "      <th>997</th>\n",
       "      <td>20.0</td>\n",
       "      <td>ASHP</td>\n",
       "      <td>low</td>\n",
       "      <td>0.0</td>\n",
       "      <td>0.0</td>\n",
       "      <td>0.2</td>\n",
       "      <td>r2</td>\n",
       "      <td>0.15</td>\n",
       "    </tr>\n",
       "    <tr>\n",
       "      <th>998</th>\n",
       "      <td>20.0</td>\n",
       "      <td>ASHP</td>\n",
       "      <td>high</td>\n",
       "      <td>0.0</td>\n",
       "      <td>0.0</td>\n",
       "      <td>0.2</td>\n",
       "      <td>r2</td>\n",
       "      <td>0.15</td>\n",
       "    </tr>\n",
       "  </tbody>\n",
       "</table>\n",
       "</div>"
      ],
      "text/plain": [
       "      coll_area design_case  draw  flow_factor  flow_rate  inf r_level  volume\n",
       "1046       20.0       PVT_9  high         40.0      800.0  0.2      r2    0.15\n",
       "877         4.0        ASHP   low          0.0        0.0  0.2      r2    0.15\n",
       "878         4.0        ASHP  high          0.0        0.0  0.2      r2    0.15\n",
       "880         4.0          ST  high         25.0      100.0  1.0      r0    0.15\n",
       "882         4.0          ST  high         25.0      100.0  0.4      r1    0.15\n",
       "884         4.0          ST  high         25.0      100.0  0.2      r2    0.15\n",
       "937        10.0        ASHP   low          0.0        0.0  0.2      r2    0.15\n",
       "938        10.0        ASHP  high          0.0        0.0  0.2      r2    0.15\n",
       "997        20.0        ASHP   low          0.0        0.0  0.2      r2    0.15\n",
       "998        20.0        ASHP  high          0.0        0.0  0.2      r2    0.15"
      ]
     },
     "execution_count": 53,
     "metadata": {},
     "output_type": "execute_result"
    }
   ],
   "source": [
    "# check length of all files and flag the onces that are incomplete\n",
    "\n",
    "read_file = 'list_of_inputs.csv'\n",
    "read_file = '..\\\\redo.csv'\n",
    "inp = pd.read_csv(read_file, header=0,index_col=0)\n",
    "\n",
    "for i in avl_labels_og:\n",
    "    #print(i+'_control_signal.txt')\n",
    "    df = pd.read_csv(i+'_control_signal.txt', delimiter=',',index_col=0) \n",
    "    df2 = pd.read_csv(i+'_temp_flow.txt', delimiter=',',index_col=0) \n",
    "    df3 = pd.read_csv(i+'_energy.txt', delimiter=',',index_col=0) \n",
    "    if (len(df) <87601 or len(df2) <87601 or len(df3) <87601) :\n",
    "        print(i + ' len = '+str(len(df)))\n",
    "        j = ''.join([char for char in i if char.isdigit()])\n",
    "        repeat = repeat.append(inp.loc[int(j)])\n",
    "repeat"
   ]
  },
  {
   "cell_type": "code",
   "execution_count": 40,
   "id": "4633af1c",
   "metadata": {},
   "outputs": [
    {
     "data": {
      "text/plain": [
       "'854'"
      ]
     },
     "execution_count": 40,
     "metadata": {},
     "output_type": "execute_result"
    }
   ],
   "source": [
    "i = '854'\n",
    "j = ''.join([char for char in i if char.isdigit()])\n",
    "j"
   ]
  },
  {
   "cell_type": "code",
   "execution_count": 53,
   "id": "3829646b",
   "metadata": {},
   "outputs": [
    {
     "name": "stdout",
     "output_type": "stream",
     "text": [
      "1023 len = 77666\n",
      "1108 len = 84943\n",
      "1110 len = 76635\n",
      "1111 len = 77575\n",
      "1112 len = 29411\n",
      "1116_cp len = 24499\n",
      "1117_cp len = 18089\n"
     ]
    }
   ],
   "source": [
    "# create repeat dataframe from current_list\n",
    "avl_labels = np.array([''.join(filter(str.isdigit, s)) for s in avl_labels_og])\n",
    "labels_all = list(range(861,1232))\n",
    "labels_all = [str(i) for i in labels_all]\n",
    "labels = [i for i in labels_all if i in avl_labels]\n",
    "og_labels = []\n",
    "for alo in avl_labels_og:\n",
    "     if any(alo.startswith(l) for l in labels):\n",
    "        og_labels.append(alo)\n",
    "        \n",
    "read_file = '..\\\\current_list.csv'\n",
    "repeat2 = pd.DataFrame()\n",
    "inp = pd.read_csv(read_file, header=0,index_col=0)\n",
    "for i in og_labels:\n",
    "    #print(i+'_control_signal.txt')\n",
    "    df = pd.read_csv(i+'_control_signal.txt', delimiter=',',index_col=0) \n",
    "    df2 = pd.read_csv(i+'_temp_flow.txt', delimiter=',',index_col=0) \n",
    "    df3 = pd.read_csv(i+'_energy.txt', delimiter=',',index_col=0) \n",
    "    if (len(df) <87601 or len(df2) <87601 or len(df3) <87601) :\n",
    "        print(i + ' len = '+str(len(df)))\n",
    "        j = ''.join([char for char in i if char.isdigit()])\n",
    "        repeat2 = repeat2.append(inp.loc[int(j)-starting_label])\n",
    "\n",
    "repeat2.index = [i-starting_label for i in repeat2.index]\n",
    "repeat = pd.concat([repeat,repeat2])"
   ]
  },
  {
   "cell_type": "code",
   "execution_count": 44,
   "id": "f29ec906",
   "metadata": {},
   "outputs": [
    {
     "name": "stdout",
     "output_type": "stream",
     "text": [
      "877 len = 70755\n",
      "878 len = 59939\n",
      "880 len = 80689\n",
      "882 len = 86843\n",
      "884 len = 75425\n",
      "937 len = 70755\n",
      "938 len = 59939\n",
      "997 len = 70755\n",
      "998 len = 59939\n",
      "1046 len = 82356\n"
     ]
    }
   ],
   "source": [
    "# create repeat dataframe from redo list\n",
    "redo = pd.read_csv('..\\\\redo.csv',index_col=0)\n",
    "redo_index = redo.index\n",
    "labels = []\n",
    "for i in redo.index:\n",
    "    if redo['design_case'].loc[i]=='cp_PV':\n",
    "        labels.append(str(i)+'_cp')\n",
    "    else:\n",
    "        labels.append(str(i))\n",
    "\n",
    "repeat2 = pd.DataFrame()\n",
    "for i in labels:\n",
    "    df = pd.read_csv(i+'_control_signal.txt', delimiter=',',index_col=0) \n",
    "    df2 = pd.read_csv(i+'_temp_flow.txt', delimiter=',',index_col=0) \n",
    "    df3 = pd.read_csv(i+'_energy.txt', delimiter=',',index_col=0) \n",
    "    if (len(df) <87601 or len(df2) <87601 or len(df3) <87601) :\n",
    "        print(i + ' len = '+str(len(df)))\n",
    "        j = ''.join([char for char in i if char.isdigit()])\n",
    "        repeat2 = repeat2.append(redo.loc[int(j)])"
   ]
  },
  {
   "cell_type": "code",
   "execution_count": 45,
   "id": "99ca0e5e",
   "metadata": {},
   "outputs": [
    {
     "data": {
      "text/plain": [
       "array(['0', '1', '10', '1000', '1001', '1002', '1003', '1004', '1005',\n",
       "       '1006', '1007', '1008', '1009', '1010', '1011', '1012', '1013',\n",
       "       '1014', '1015', '1016', '1017', '1018', '1019', '1020', '1021',\n",
       "       '1022', '1023', '1024', '1025', '1026', '1027', '1028', '1029',\n",
       "       '1030', '1031', '1032', '1033', '1034', '1035', '1036', '1037',\n",
       "       '1038', '1039', '1040', '1041', '1042', '1043', '1044', '1045',\n",
       "       '1046', '1047_cp', '1048_cp', '1049_cp', '1050_cp', '1051_cp',\n",
       "       '1052_cp', '1053_cp', '1054_cp', '1055_cp', '1056_cp', '1057_cp',\n",
       "       '1058_cp', '1059', '1060', '1061', '1062', '1063', '1064', '1065',\n",
       "       '1066', '1067', '1068', '1069', '1070', '1071', '1072', '1073',\n",
       "       '1074', '1075', '1076', '1077', '1078', '1079', '1080', '1081',\n",
       "       '1082', '1083', '1084', '1085', '1086', '1087', '1088', '1089',\n",
       "       '1090', '1091', '1092', '1093', '1094', '1095', '1096', '1097',\n",
       "       '1098', '1099', '11', '1100', '1101', '1102', '1103', '1104',\n",
       "       '1105', '1106', '1107', '1108', '1109', '1110', '1111', '1112',\n",
       "       '1113_cp', '1114_cp', '1115_cp', '1116_cp', '1117_cp', '1118_cp',\n",
       "       '1119', '1120', '1121', '1122', '1123', '1124', '1125', '1126',\n",
       "       '1127', '1128', '1129', '1130', '1131', '1132', '1133', '1134',\n",
       "       '1135', '1136', '1137', '1138', '1139', '1140', '1141', '1142',\n",
       "       '1143', '1144', '1145', '1146', '1147', '1148', '1149', '1150',\n",
       "       '1151', '1152', '1153', '1154', '1155', '1156', '1157', '1158',\n",
       "       '1159', '1160', '1161', '1162', '1163', '1164', '1165', '1166',\n",
       "       '1167', '1168', '1169', '1170', '1171', '1172', '1173_cp',\n",
       "       '1174_cp', '1175_cp', '1176_cp', '1177_cp', '1178_cp', '1179',\n",
       "       '1180', '1181', '1182', '1183', '1184', '1185', '1186', '1187',\n",
       "       '1188', '1189', '1190', '1191', '1192', '1193', '1194', '1195',\n",
       "       '1196', '1197', '1198', '1199', '12', '1200', '1201', '1202',\n",
       "       '1203', '1204', '1205', '1206', '1207', '1208', '1209', '1210',\n",
       "       '1211', '1212', '1213', '1214', '1215', '1216', '1217', '1218',\n",
       "       '1219', '1220', '1221', '1222', '1223', '1224', '1225', '1226',\n",
       "       '1227', '1228', '1229', '1230', '1231', '1232', '13', '14', '15',\n",
       "       '16', '17', '18', '19', '2', '20', '2001', '2002', '2003', '2004',\n",
       "       '2005', '2006', '2008', '2009', '2010', '2011', '2012', '2013',\n",
       "       '21', '22', '23', '24', '25', '26', '27', '28', '29', '3', '30',\n",
       "       '31', '32', '33', '34', '35', '36', '37', '38', '39', '4', '40',\n",
       "       '41', '42', '43', '44', '45', '46', '47', '5', '6', '7', '8',\n",
       "       '854', '858', '859', '861_cp', '862_cp', '863_cp', '864_cp',\n",
       "       '865_cp', '866_cp', '867_cp', '868_cp', '869_cp', '870_cp',\n",
       "       '871_cp', '872_cp', '873', '874', '875', '876', '877', '878',\n",
       "       '879', '880', '881', '882', '883', '884', '885', '886', '887',\n",
       "       '888', '889', '890', '891', '892', '893', '894', '895', '896',\n",
       "       '897', '898', '899', '9', '900', '901', '902', '903', '904', '905',\n",
       "       '906', '907', '908', '909', '910', '911', '912', '913', '914',\n",
       "       '915', '916', '917', '918', '919', '920', '921', '922', '923',\n",
       "       '924', '925', '926', '927_cp', '928_cp', '929_cp', '930_cp',\n",
       "       '931_cp', '932_cp', '933', '934', '935', '936', '937', '938',\n",
       "       '939', '940', '941', '942', '943', '944', '945', '946', '947',\n",
       "       '948', '949', '950', '951', '952', '953', '954', '955', '956',\n",
       "       '957', '958', '959', '960', '961', '962', '963', '964', '965',\n",
       "       '966', '967', '968', '969', '970', '971', '972', '973', '974',\n",
       "       '975', '976', '977', '978', '979', '980', '981', '982', '983',\n",
       "       '984', '985', '986', '987_cp', '988_cp', '989_cp', '990_cp',\n",
       "       '991_cp', '992_cp', '993', '994', '995', '996', '997', '998',\n",
       "       '999'], dtype='<U7')"
      ]
     },
     "execution_count": 45,
     "metadata": {},
     "output_type": "execute_result"
    }
   ],
   "source": [
    "avl_labels_og"
   ]
  },
  {
   "cell_type": "code",
   "execution_count": 19,
   "id": "df06a534",
   "metadata": {},
   "outputs": [
    {
     "data": {
      "text/plain": [
       "['7']"
      ]
     },
     "execution_count": 19,
     "metadata": {},
     "output_type": "execute_result"
    }
   ],
   "source": [
    "#trial of difference using sets\n",
    "\n",
    "a = ['1','2','3','4','5_cp','6_cp']\n",
    "a2 = np.array([''.join(filter(str.isdigit, s)) for s in a])\n",
    "b = ['1','2','3','4','5','7']\n",
    "\n",
    "list(set(b)-set(a2))"
   ]
  },
  {
   "cell_type": "code",
   "execution_count": 50,
   "id": "18f34a2a",
   "metadata": {},
   "outputs": [],
   "source": [
    "repeat.to_csv('..\\\\redo.csv',index_label='label')"
   ]
  },
  {
   "cell_type": "code",
   "execution_count": 26,
   "id": "908858c4",
   "metadata": {},
   "outputs": [
    {
     "data": {
      "text/plain": [
       "['482',\n",
       " '729',\n",
       " '733',\n",
       " '766',\n",
       " '791',\n",
       " '794',\n",
       " '795',\n",
       " '808',\n",
       " '815',\n",
       " '853',\n",
       " '854',\n",
       " '856']"
      ]
     },
     "execution_count": 26,
     "metadata": {},
     "output_type": "execute_result"
    }
   ],
   "source": [
    "# make labels in the repeat dataframe, to delete the input files from the directories\n",
    "labels = []\n",
    "for i in repeat.index:\n",
    "    if repeat.loc[i]['design_case']== 'cp_PV':\n",
    "        labels.append(str(i)+'_cp')\n",
    "    else:\n",
    "        labels.append(str(i))\n",
    "labels"
   ]
  },
  {
   "cell_type": "code",
   "execution_count": 29,
   "id": "2a07496e",
   "metadata": {},
   "outputs": [],
   "source": [
    "# delete the input files that correspond with repeat labels\n",
    "house_folder = '..\\\\..\\\\house_and_backup'\n",
    "backup_folder = '..\\\\..\\\\house_and_backup\\\\backup'\n",
    "\n",
    "hfiles = os.listdir(house_folder)\n",
    "bfiles = os.listdir(backup_folder)\n",
    "\n",
    "# Iterate through the files and delete files with numbers from the list\n",
    "for file in hfiles:\n",
    "    for number in labels:\n",
    "        if number in file:\n",
    "            file_path = os.path.join(house_folder, file)\n",
    "            os.remove(file_path)\n",
    "\n",
    "for file in bfiles:\n",
    "    for number in labels:\n",
    "        if number in file:\n",
    "            file_path = os.path.join(backup_folder, file)\n",
    "            os.remove(file_path)"
   ]
  },
  {
   "cell_type": "code",
   "execution_count": 55,
   "id": "5e8b51cc",
   "metadata": {},
   "outputs": [
    {
     "data": {
      "text/html": [
       "<div>\n",
       "<style scoped>\n",
       "    .dataframe tbody tr th:only-of-type {\n",
       "        vertical-align: middle;\n",
       "    }\n",
       "\n",
       "    .dataframe tbody tr th {\n",
       "        vertical-align: top;\n",
       "    }\n",
       "\n",
       "    .dataframe thead th {\n",
       "        text-align: right;\n",
       "    }\n",
       "</style>\n",
       "<table border=\"1\" class=\"dataframe\">\n",
       "  <thead>\n",
       "    <tr style=\"text-align: right;\">\n",
       "      <th></th>\n",
       "    </tr>\n",
       "  </thead>\n",
       "  <tbody>\n",
       "  </tbody>\n",
       "</table>\n",
       "</div>"
      ],
      "text/plain": [
       "Empty DataFrame\n",
       "Columns: []\n",
       "Index: []"
      ]
     },
     "execution_count": 55,
     "metadata": {},
     "output_type": "execute_result"
    }
   ],
   "source": [
    "# check length of file from missed sims list and flag the onces that are incomplete\n",
    "os.chdir(directory+res_folder)\n",
    "import pandas as pd\n",
    "repeat = pd.DataFrame()\n",
    "inp = pd.read_csv('..\\\\redo.csv', header=0, index_col=0)\n",
    "for i in inp.index:\n",
    "    df = pd.read_csv(str(i)+'_control_signal.txt', delimiter=',',index_col=0) \n",
    "    if len(df) <87601 :\n",
    "        print(str(i) + ' len = '+str(len(df)))\n",
    "        #j = ''.join([char for char in i if char.isdigit()])\n",
    "        repeat = repeat.append(inp.loc[int(i)])\n",
    "repeat"
   ]
  },
  {
   "cell_type": "code",
   "execution_count": 55,
   "id": "a1ea16c0",
   "metadata": {},
   "outputs": [
    {
     "data": {
      "text/plain": [
       "['lhs_sample_1.csv',\n",
       " 'morris_sample_batt1.csv',\n",
       " 'morris_sample_cp.csv',\n",
       " 'morris_sample_cp2.csv',\n",
       " 'morris_sample_cp3.csv',\n",
       " 'morris_sample_pvt.csv',\n",
       " 'morris_sample_pvt2.csv',\n",
       " 'morris_sample_pvt3.csv',\n",
       " 'morris_sample_pvt4.csv',\n",
       " 'morris_sample_st.csv',\n",
       " 'morris_sample_st2.csv',\n",
       " 'morris_sample_st3.csv',\n",
       " 'morris_sample_st4.csv']"
      ]
     },
     "execution_count": 55,
     "metadata": {},
     "output_type": "execute_result"
    }
   ],
   "source": [
    "all_files = os.listdir('..')\n",
    "sample_files = []\n",
    "for file in all_files:\n",
    "    if 'sample' in file:\n",
    "        sample_files.append(file)\n",
    "sample_files"
   ]
  },
  {
   "cell_type": "code",
   "execution_count": 42,
   "id": "8deaf82e",
   "metadata": {},
   "outputs": [],
   "source": [
    "slice_list = [356]\n",
    "df2 = dfnew.iloc[dfnew.index.isin(slice_list)]\n",
    "df2"
   ]
  }
 ],
 "metadata": {
  "kernelspec": {
   "display_name": "Python 3",
   "language": "python",
   "name": "python3"
  },
  "language_info": {
   "codemirror_mode": {
    "name": "ipython",
    "version": 3
   },
   "file_extension": ".py",
   "mimetype": "text/x-python",
   "name": "python",
   "nbconvert_exporter": "python",
   "pygments_lexer": "ipython3",
   "version": "3.8.8"
  }
 },
 "nbformat": 4,
 "nbformat_minor": 5
}
