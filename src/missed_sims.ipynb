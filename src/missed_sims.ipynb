{
 "cells": [
  {
   "cell_type": "code",
   "execution_count": 1,
   "id": "08ced2e6",
   "metadata": {},
   "outputs": [],
   "source": [
    "import os\n",
    "directory = os.getcwd()\n",
    "sample_folder = '\\\\res'\n",
    "res_folder = '\\\\res\\\\trn'\n",
    "os.chdir(directory+res_folder)"
   ]
  },
  {
   "cell_type": "code",
   "execution_count": 49,
   "id": "87b01918",
   "metadata": {},
   "outputs": [
    {
     "name": "stdout",
     "output_type": "stream",
     "text": [
      "1480\n",
      "496\n"
     ]
    },
    {
     "data": {
      "text/plain": [
       "array(['0', '1', '10', '100', '101', '102', '103', '104', '105', '106',\n",
       "       '107', '108', '109', '11', '110', '111', '112', '113', '114',\n",
       "       '115', '116', '117', '118', '119', '12', '120', '121', '122',\n",
       "       '123', '124', '125', '126', '127', '128', '129', '13', '130',\n",
       "       '131', '132', '133', '134', '135', '136', '137', '138', '139',\n",
       "       '14', '140', '141', '142', '143', '144', '145', '146', '147',\n",
       "       '148', '149', '15', '150', '151', '152', '153', '154', '155',\n",
       "       '156', '157', '158', '159', '16', '160', '161', '162', '163',\n",
       "       '164', '165', '166_cp', '167_cp', '168_cp', '169_cp', '17',\n",
       "       '170_cp', '171_cp', '172_cp', '173_cp', '174_cp', '175_cp',\n",
       "       '176_cp', '177_cp', '178_cp', '179_cp', '18', '180_cp', '181',\n",
       "       '182_cp', '183_cp', '184_cp', '185_cp', '186_cp', '187_cp',\n",
       "       '188_cp', '189_cp', '19', '190_cp', '191_cp', '192_cp', '193_cp',\n",
       "       '194_cp', '195_cp', '196_cp', '197_cp', '198_cp', '199_cp', '2',\n",
       "       '20', '200_cp', '201_cp', '202', '203', '204', '205', '206', '207',\n",
       "       '208', '209', '21', '210', '211', '212', '213', '214', '215',\n",
       "       '216', '217', '218', '219', '22', '220', '221', '222', '223',\n",
       "       '224', '225', '226', '227', '228', '229', '23', '230', '231',\n",
       "       '232', '233', '234', '235', '236', '237', '238', '239', '24',\n",
       "       '240', '241', '242', '243', '244', '245', '246', '247', '248',\n",
       "       '249', '25', '250', '251', '252', '253', '254', '255', '256',\n",
       "       '257', '258', '259', '26', '260', '261', '262', '263', '264',\n",
       "       '265', '266', '267', '268_cp', '269_cp', '27', '270_cp', '271_cp',\n",
       "       '272_cp', '273_cp', '274_cp', '275_cp', '276_cp', '277_cp',\n",
       "       '278_cp', '279_cp', '28', '280', '281', '282', '283', '284', '285',\n",
       "       '286', '287', '288', '289', '29', '290', '291', '292', '293',\n",
       "       '294', '295', '296', '297', '298', '299', '3', '30', '300', '301',\n",
       "       '302', '303', '303_cp', '304', '305', '306', '306_cp', '307',\n",
       "       '308', '309', '31', '310', '311', '312', '313', '314', '315',\n",
       "       '316', '316_cp', '317', '318', '319', '319_cp', '32', '320',\n",
       "       '320_cp', '321', '322', '322_cp', '323', '324', '325', '326',\n",
       "       '327', '327_cp', '328', '329', '33', '330', '331', '332', '332_cp',\n",
       "       '333', '333_cp', '334', '335', '336_cp', '337', '338', '339', '34',\n",
       "       '340', '340_cp', '341', '342', '343', '344', '345', '346', '347',\n",
       "       '347_cp', '348', '349', '35', '350', '350_cp', '351', '352', '353',\n",
       "       '354', '355', '356', '357', '358', '359', '359_cp', '36', '360',\n",
       "       '361', '362', '363', '363_cp', '364', '365', '366', '367', '368',\n",
       "       '368_cp', '369', '37', '370', '371', '372', '373', '374', '375',\n",
       "       '376', '377', '378', '379', '38', '380', '381', '382', '383_cp',\n",
       "       '384', '385', '386', '387_cp', '388', '388_cp', '389_cp', '39',\n",
       "       '390', '391', '392', '393', '394', '395', '396', '397', '398',\n",
       "       '399_cp', '4', '40', '400', '401', '402', '403_cp', '404', '405',\n",
       "       '406', '407_cp', '408', '409_cp', '41', '410', '411', '412',\n",
       "       '413_cp', '414_cp', '415', '416', '417', '418', '419', '42',\n",
       "       '420_cp', '421', '422', '423', '424', '425_cp', '426', '427',\n",
       "       '428', '429', '43', '430', '431', '432', '433_cp', '434', '435_cp',\n",
       "       '436_cp', '437', '438_cp', '439', '44', '440', '441', '442',\n",
       "       '443_cp', '444', '445', '446', '447_cp', '448', '449_cp', '45',\n",
       "       '450', '451_cp', '452', '453', '454', '455_cp', '456', '457',\n",
       "       '458', '459', '46', '460', '461', '462', '463', '464', '465',\n",
       "       '466', '467_cp', '468_cp', '469', '47', '470', '471_cp', '472',\n",
       "       '473', '474', '476_cp', '479', '48', '480', '49', '5', '50', '51',\n",
       "       '52', '53', '54', '55', '56', '57', '58', '59', '6', '60', '61',\n",
       "       '62', '63', '64', '65', '66', '67', '68', '69', '7', '70', '71',\n",
       "       '72', '73', '74', '75', '76', '77', '78', '79', '8', '80', '81',\n",
       "       '82', '83', '84', '85', '86', '87', '88', '89', '9', '90', '91',\n",
       "       '92', '93', '94', '95', '96', '97', '98', '99', 'x', 'x_cp'],\n",
       "      dtype='<U6')"
      ]
     },
     "execution_count": 49,
     "metadata": {},
     "output_type": "execute_result"
    }
   ],
   "source": [
    "import numpy as np\n",
    "import pandas as pd\n",
    "test = os.listdir()\n",
    "avl_labels_og = [] # avaliable labels in the \n",
    "for i in test:\n",
    "    if '_temp_flow' in i:\n",
    "        prefix = i[:-14]\n",
    "    elif '_control_signal' in i:\n",
    "        prefix = i[:-19]\n",
    "    elif '_energy' in i:\n",
    "        prefix = i[:-11]\n",
    "    else:\n",
    "        continue\n",
    "    avl_labels_og.append(prefix)\n",
    "print(len(avl_labels_og))        \n",
    "avl_labels_og = np.array(avl_labels_og)\n",
    "avl_labels_og = np.unique(avl_labels_og)\n",
    "print(len(avl_labels_og))\n",
    "avl_labels_og"
   ]
  },
  {
   "cell_type": "code",
   "execution_count": 3,
   "id": "aa5504a5",
   "metadata": {},
   "outputs": [
    {
     "data": {
      "text/plain": [
       "440"
      ]
     },
     "execution_count": 3,
     "metadata": {},
     "output_type": "execute_result"
    }
   ],
   "source": [
    "import re\n",
    "avl_labels = np.array([re.search(r'\\d+', item).group() for item in avl_labels_og if re.search(r'\\d+', item)])\n",
    "len(avl_labels)"
   ]
  },
  {
   "cell_type": "code",
   "execution_count": 4,
   "id": "5b1f90a4",
   "metadata": {},
   "outputs": [
    {
     "data": {
      "text/html": [
       "<div>\n",
       "<style scoped>\n",
       "    .dataframe tbody tr th:only-of-type {\n",
       "        vertical-align: middle;\n",
       "    }\n",
       "\n",
       "    .dataframe tbody tr th {\n",
       "        vertical-align: top;\n",
       "    }\n",
       "\n",
       "    .dataframe thead th {\n",
       "        text-align: right;\n",
       "    }\n",
       "</style>\n",
       "<table border=\"1\" class=\"dataframe\">\n",
       "  <thead>\n",
       "    <tr style=\"text-align: right;\">\n",
       "      <th></th>\n",
       "      <th>volume</th>\n",
       "      <th>coll_area</th>\n",
       "      <th>flow_rate</th>\n",
       "      <th>design_case</th>\n",
       "      <th>r_level</th>\n",
       "    </tr>\n",
       "  </thead>\n",
       "  <tbody>\n",
       "    <tr>\n",
       "      <th>0</th>\n",
       "      <td>0.40</td>\n",
       "      <td>8.0</td>\n",
       "      <td>200</td>\n",
       "      <td>ST</td>\n",
       "      <td>r0</td>\n",
       "    </tr>\n",
       "    <tr>\n",
       "      <th>1</th>\n",
       "      <td>0.20</td>\n",
       "      <td>8.0</td>\n",
       "      <td>200</td>\n",
       "      <td>ST</td>\n",
       "      <td>r0</td>\n",
       "    </tr>\n",
       "    <tr>\n",
       "      <th>2</th>\n",
       "      <td>0.20</td>\n",
       "      <td>20.0</td>\n",
       "      <td>200</td>\n",
       "      <td>ST</td>\n",
       "      <td>r0</td>\n",
       "    </tr>\n",
       "    <tr>\n",
       "      <th>3</th>\n",
       "      <td>0.20</td>\n",
       "      <td>20.0</td>\n",
       "      <td>100</td>\n",
       "      <td>ST</td>\n",
       "      <td>r0</td>\n",
       "    </tr>\n",
       "    <tr>\n",
       "      <th>4</th>\n",
       "      <td>0.10</td>\n",
       "      <td>8.0</td>\n",
       "      <td>100</td>\n",
       "      <td>ST</td>\n",
       "      <td>r0</td>\n",
       "    </tr>\n",
       "    <tr>\n",
       "      <th>...</th>\n",
       "      <td>...</td>\n",
       "      <td>...</td>\n",
       "      <td>...</td>\n",
       "      <td>...</td>\n",
       "      <td>...</td>\n",
       "    </tr>\n",
       "    <tr>\n",
       "      <th>257</th>\n",
       "      <td>0.25</td>\n",
       "      <td>16.0</td>\n",
       "      <td>200</td>\n",
       "      <td>PVT_9</td>\n",
       "      <td>r0</td>\n",
       "    </tr>\n",
       "    <tr>\n",
       "      <th>258</th>\n",
       "      <td>0.25</td>\n",
       "      <td>20.0</td>\n",
       "      <td>200</td>\n",
       "      <td>PVT_9</td>\n",
       "      <td>r0</td>\n",
       "    </tr>\n",
       "    <tr>\n",
       "      <th>259</th>\n",
       "      <td>0.25</td>\n",
       "      <td>20.0</td>\n",
       "      <td>200</td>\n",
       "      <td>PVT_6</td>\n",
       "      <td>r0</td>\n",
       "    </tr>\n",
       "    <tr>\n",
       "      <th>260</th>\n",
       "      <td>0.20</td>\n",
       "      <td>8.0</td>\n",
       "      <td>50</td>\n",
       "      <td>PVT_6</td>\n",
       "      <td>r0</td>\n",
       "    </tr>\n",
       "    <tr>\n",
       "      <th>261</th>\n",
       "      <td>0.15</td>\n",
       "      <td>8.0</td>\n",
       "      <td>100</td>\n",
       "      <td>PVT_9</td>\n",
       "      <td>r1</td>\n",
       "    </tr>\n",
       "  </tbody>\n",
       "</table>\n",
       "<p>262 rows × 5 columns</p>\n",
       "</div>"
      ],
      "text/plain": [
       "     volume  coll_area  flow_rate design_case r_level\n",
       "0      0.40        8.0        200          ST      r0\n",
       "1      0.20        8.0        200          ST      r0\n",
       "2      0.20       20.0        200          ST      r0\n",
       "3      0.20       20.0        100          ST      r0\n",
       "4      0.10        8.0        100          ST      r0\n",
       "..      ...        ...        ...         ...     ...\n",
       "257    0.25       16.0        200       PVT_9      r0\n",
       "258    0.25       20.0        200       PVT_9      r0\n",
       "259    0.25       20.0        200       PVT_6      r0\n",
       "260    0.20        8.0         50       PVT_6      r0\n",
       "261    0.15        8.0        100       PVT_9      r1\n",
       "\n",
       "[262 rows x 5 columns]"
      ]
     },
     "execution_count": 4,
     "metadata": {},
     "output_type": "execute_result"
    }
   ],
   "source": [
    "os.chdir(directory + sample_folder)\n",
    "#previous = np.arange(86)\n",
    "#previous = previous.astype(str)\n",
    "#previous = pd.DataFrame(previous, columns=['label'])\n",
    "\n",
    "previous = pd.concat([pd.read_csv('morris_sample_st.csv'),\n",
    "                     pd.read_csv('morris_sample_st2.csv'),\n",
    "                     pd.read_csv('morris_sample_pvt.csv'),\n",
    "                     pd.read_csv('morris_sample_pvt2.csv'),\n",
    "                     pd.read_csv('morris_sample_cp.csv'),\n",
    "                     pd.read_csv('morris_sample_cp2.csv'),\n",
    "                     pd.read_csv('morris_sample_batt1.csv'),\n",
    "                     pd.read_csv('morris_sample_cp.csv')],\n",
    "                    ignore_index=True)\n",
    "previous = previous.drop_duplicates(ignore_index=True)\n",
    "previous"
   ]
  },
  {
   "cell_type": "code",
   "execution_count": 5,
   "id": "67fd1216",
   "metadata": {
    "scrolled": true
   },
   "outputs": [
    {
     "ename": "FileNotFoundError",
     "evalue": "[Errno 2] No such file or directory: 'morris_sample_st.csv'",
     "output_type": "error",
     "traceback": [
      "\u001b[1;31m---------------------------------------------------------------------------\u001b[0m",
      "\u001b[1;31mFileNotFoundError\u001b[0m                         Traceback (most recent call last)",
      "\u001b[1;32m<ipython-input-5-3bcd6fd6f123>\u001b[0m in \u001b[0;36m<module>\u001b[1;34m\u001b[0m\n\u001b[1;32m----> 1\u001b[1;33m \u001b[0mdf1\u001b[0m \u001b[1;33m=\u001b[0m \u001b[0mpd\u001b[0m\u001b[1;33m.\u001b[0m\u001b[0mread_csv\u001b[0m\u001b[1;33m(\u001b[0m\u001b[1;34m'morris_sample_st.csv'\u001b[0m\u001b[1;33m)\u001b[0m\u001b[1;33m\u001b[0m\u001b[1;33m\u001b[0m\u001b[0m\n\u001b[0m\u001b[0;32m      2\u001b[0m \u001b[0mdf2\u001b[0m \u001b[1;33m=\u001b[0m \u001b[0mpd\u001b[0m\u001b[1;33m.\u001b[0m\u001b[0mread_csv\u001b[0m\u001b[1;33m(\u001b[0m\u001b[1;34m'morris_sample_st2.csv'\u001b[0m\u001b[1;33m)\u001b[0m\u001b[1;33m\u001b[0m\u001b[1;33m\u001b[0m\u001b[0m\n\u001b[0;32m      3\u001b[0m \u001b[0mdf3\u001b[0m \u001b[1;33m=\u001b[0m \u001b[0mpd\u001b[0m\u001b[1;33m.\u001b[0m\u001b[0mread_csv\u001b[0m\u001b[1;33m(\u001b[0m\u001b[1;34m'morris_sample_pvt.csv'\u001b[0m\u001b[1;33m)\u001b[0m\u001b[1;33m\u001b[0m\u001b[1;33m\u001b[0m\u001b[0m\n\u001b[0;32m      4\u001b[0m \u001b[0mdf4\u001b[0m \u001b[1;33m=\u001b[0m \u001b[0mpd\u001b[0m\u001b[1;33m.\u001b[0m\u001b[0mread_csv\u001b[0m\u001b[1;33m(\u001b[0m\u001b[1;34m'morris_sample_pvt2.csv'\u001b[0m\u001b[1;33m)\u001b[0m\u001b[1;33m\u001b[0m\u001b[1;33m\u001b[0m\u001b[0m\n\u001b[0;32m      5\u001b[0m dfnew = pd.concat([df1,df2,df3,df4,\n",
      "\u001b[1;32mC:\\ProgramData\\Anaconda3\\lib\\site-packages\\pandas\\io\\parsers.py\u001b[0m in \u001b[0;36mread_csv\u001b[1;34m(filepath_or_buffer, sep, delimiter, header, names, index_col, usecols, squeeze, prefix, mangle_dupe_cols, dtype, engine, converters, true_values, false_values, skipinitialspace, skiprows, skipfooter, nrows, na_values, keep_default_na, na_filter, verbose, skip_blank_lines, parse_dates, infer_datetime_format, keep_date_col, date_parser, dayfirst, cache_dates, iterator, chunksize, compression, thousands, decimal, lineterminator, quotechar, quoting, doublequote, escapechar, comment, encoding, dialect, error_bad_lines, warn_bad_lines, delim_whitespace, low_memory, memory_map, float_precision, storage_options)\u001b[0m\n\u001b[0;32m    608\u001b[0m     \u001b[0mkwds\u001b[0m\u001b[1;33m.\u001b[0m\u001b[0mupdate\u001b[0m\u001b[1;33m(\u001b[0m\u001b[0mkwds_defaults\u001b[0m\u001b[1;33m)\u001b[0m\u001b[1;33m\u001b[0m\u001b[1;33m\u001b[0m\u001b[0m\n\u001b[0;32m    609\u001b[0m \u001b[1;33m\u001b[0m\u001b[0m\n\u001b[1;32m--> 610\u001b[1;33m     \u001b[1;32mreturn\u001b[0m \u001b[0m_read\u001b[0m\u001b[1;33m(\u001b[0m\u001b[0mfilepath_or_buffer\u001b[0m\u001b[1;33m,\u001b[0m \u001b[0mkwds\u001b[0m\u001b[1;33m)\u001b[0m\u001b[1;33m\u001b[0m\u001b[1;33m\u001b[0m\u001b[0m\n\u001b[0m\u001b[0;32m    611\u001b[0m \u001b[1;33m\u001b[0m\u001b[0m\n\u001b[0;32m    612\u001b[0m \u001b[1;33m\u001b[0m\u001b[0m\n",
      "\u001b[1;32mC:\\ProgramData\\Anaconda3\\lib\\site-packages\\pandas\\io\\parsers.py\u001b[0m in \u001b[0;36m_read\u001b[1;34m(filepath_or_buffer, kwds)\u001b[0m\n\u001b[0;32m    460\u001b[0m \u001b[1;33m\u001b[0m\u001b[0m\n\u001b[0;32m    461\u001b[0m     \u001b[1;31m# Create the parser.\u001b[0m\u001b[1;33m\u001b[0m\u001b[1;33m\u001b[0m\u001b[1;33m\u001b[0m\u001b[0m\n\u001b[1;32m--> 462\u001b[1;33m     \u001b[0mparser\u001b[0m \u001b[1;33m=\u001b[0m \u001b[0mTextFileReader\u001b[0m\u001b[1;33m(\u001b[0m\u001b[0mfilepath_or_buffer\u001b[0m\u001b[1;33m,\u001b[0m \u001b[1;33m**\u001b[0m\u001b[0mkwds\u001b[0m\u001b[1;33m)\u001b[0m\u001b[1;33m\u001b[0m\u001b[1;33m\u001b[0m\u001b[0m\n\u001b[0m\u001b[0;32m    463\u001b[0m \u001b[1;33m\u001b[0m\u001b[0m\n\u001b[0;32m    464\u001b[0m     \u001b[1;32mif\u001b[0m \u001b[0mchunksize\u001b[0m \u001b[1;32mor\u001b[0m \u001b[0miterator\u001b[0m\u001b[1;33m:\u001b[0m\u001b[1;33m\u001b[0m\u001b[1;33m\u001b[0m\u001b[0m\n",
      "\u001b[1;32mC:\\ProgramData\\Anaconda3\\lib\\site-packages\\pandas\\io\\parsers.py\u001b[0m in \u001b[0;36m__init__\u001b[1;34m(self, f, engine, **kwds)\u001b[0m\n\u001b[0;32m    817\u001b[0m             \u001b[0mself\u001b[0m\u001b[1;33m.\u001b[0m\u001b[0moptions\u001b[0m\u001b[1;33m[\u001b[0m\u001b[1;34m\"has_index_names\"\u001b[0m\u001b[1;33m]\u001b[0m \u001b[1;33m=\u001b[0m \u001b[0mkwds\u001b[0m\u001b[1;33m[\u001b[0m\u001b[1;34m\"has_index_names\"\u001b[0m\u001b[1;33m]\u001b[0m\u001b[1;33m\u001b[0m\u001b[1;33m\u001b[0m\u001b[0m\n\u001b[0;32m    818\u001b[0m \u001b[1;33m\u001b[0m\u001b[0m\n\u001b[1;32m--> 819\u001b[1;33m         \u001b[0mself\u001b[0m\u001b[1;33m.\u001b[0m\u001b[0m_engine\u001b[0m \u001b[1;33m=\u001b[0m \u001b[0mself\u001b[0m\u001b[1;33m.\u001b[0m\u001b[0m_make_engine\u001b[0m\u001b[1;33m(\u001b[0m\u001b[0mself\u001b[0m\u001b[1;33m.\u001b[0m\u001b[0mengine\u001b[0m\u001b[1;33m)\u001b[0m\u001b[1;33m\u001b[0m\u001b[1;33m\u001b[0m\u001b[0m\n\u001b[0m\u001b[0;32m    820\u001b[0m \u001b[1;33m\u001b[0m\u001b[0m\n\u001b[0;32m    821\u001b[0m     \u001b[1;32mdef\u001b[0m \u001b[0mclose\u001b[0m\u001b[1;33m(\u001b[0m\u001b[0mself\u001b[0m\u001b[1;33m)\u001b[0m\u001b[1;33m:\u001b[0m\u001b[1;33m\u001b[0m\u001b[1;33m\u001b[0m\u001b[0m\n",
      "\u001b[1;32mC:\\ProgramData\\Anaconda3\\lib\\site-packages\\pandas\\io\\parsers.py\u001b[0m in \u001b[0;36m_make_engine\u001b[1;34m(self, engine)\u001b[0m\n\u001b[0;32m   1048\u001b[0m             )\n\u001b[0;32m   1049\u001b[0m         \u001b[1;31m# error: Too many arguments for \"ParserBase\"\u001b[0m\u001b[1;33m\u001b[0m\u001b[1;33m\u001b[0m\u001b[1;33m\u001b[0m\u001b[0m\n\u001b[1;32m-> 1050\u001b[1;33m         \u001b[1;32mreturn\u001b[0m \u001b[0mmapping\u001b[0m\u001b[1;33m[\u001b[0m\u001b[0mengine\u001b[0m\u001b[1;33m]\u001b[0m\u001b[1;33m(\u001b[0m\u001b[0mself\u001b[0m\u001b[1;33m.\u001b[0m\u001b[0mf\u001b[0m\u001b[1;33m,\u001b[0m \u001b[1;33m**\u001b[0m\u001b[0mself\u001b[0m\u001b[1;33m.\u001b[0m\u001b[0moptions\u001b[0m\u001b[1;33m)\u001b[0m  \u001b[1;31m# type: ignore[call-arg]\u001b[0m\u001b[1;33m\u001b[0m\u001b[1;33m\u001b[0m\u001b[0m\n\u001b[0m\u001b[0;32m   1051\u001b[0m \u001b[1;33m\u001b[0m\u001b[0m\n\u001b[0;32m   1052\u001b[0m     \u001b[1;32mdef\u001b[0m \u001b[0m_failover_to_python\u001b[0m\u001b[1;33m(\u001b[0m\u001b[0mself\u001b[0m\u001b[1;33m)\u001b[0m\u001b[1;33m:\u001b[0m\u001b[1;33m\u001b[0m\u001b[1;33m\u001b[0m\u001b[0m\n",
      "\u001b[1;32mC:\\ProgramData\\Anaconda3\\lib\\site-packages\\pandas\\io\\parsers.py\u001b[0m in \u001b[0;36m__init__\u001b[1;34m(self, src, **kwds)\u001b[0m\n\u001b[0;32m   1865\u001b[0m \u001b[1;33m\u001b[0m\u001b[0m\n\u001b[0;32m   1866\u001b[0m         \u001b[1;31m# open handles\u001b[0m\u001b[1;33m\u001b[0m\u001b[1;33m\u001b[0m\u001b[1;33m\u001b[0m\u001b[0m\n\u001b[1;32m-> 1867\u001b[1;33m         \u001b[0mself\u001b[0m\u001b[1;33m.\u001b[0m\u001b[0m_open_handles\u001b[0m\u001b[1;33m(\u001b[0m\u001b[0msrc\u001b[0m\u001b[1;33m,\u001b[0m \u001b[0mkwds\u001b[0m\u001b[1;33m)\u001b[0m\u001b[1;33m\u001b[0m\u001b[1;33m\u001b[0m\u001b[0m\n\u001b[0m\u001b[0;32m   1868\u001b[0m         \u001b[1;32massert\u001b[0m \u001b[0mself\u001b[0m\u001b[1;33m.\u001b[0m\u001b[0mhandles\u001b[0m \u001b[1;32mis\u001b[0m \u001b[1;32mnot\u001b[0m \u001b[1;32mNone\u001b[0m\u001b[1;33m\u001b[0m\u001b[1;33m\u001b[0m\u001b[0m\n\u001b[0;32m   1869\u001b[0m         \u001b[1;32mfor\u001b[0m \u001b[0mkey\u001b[0m \u001b[1;32min\u001b[0m \u001b[1;33m(\u001b[0m\u001b[1;34m\"storage_options\"\u001b[0m\u001b[1;33m,\u001b[0m \u001b[1;34m\"encoding\"\u001b[0m\u001b[1;33m,\u001b[0m \u001b[1;34m\"memory_map\"\u001b[0m\u001b[1;33m,\u001b[0m \u001b[1;34m\"compression\"\u001b[0m\u001b[1;33m)\u001b[0m\u001b[1;33m:\u001b[0m\u001b[1;33m\u001b[0m\u001b[1;33m\u001b[0m\u001b[0m\n",
      "\u001b[1;32mC:\\ProgramData\\Anaconda3\\lib\\site-packages\\pandas\\io\\parsers.py\u001b[0m in \u001b[0;36m_open_handles\u001b[1;34m(self, src, kwds)\u001b[0m\n\u001b[0;32m   1360\u001b[0m         \u001b[0mLet\u001b[0m \u001b[0mthe\u001b[0m \u001b[0mreaders\u001b[0m \u001b[0mopen\u001b[0m \u001b[0mIOHanldes\u001b[0m \u001b[0mafter\u001b[0m \u001b[0mthey\u001b[0m \u001b[0mare\u001b[0m \u001b[0mdone\u001b[0m \u001b[1;32mwith\u001b[0m \u001b[0mtheir\u001b[0m \u001b[0mpotential\u001b[0m \u001b[0mraises\u001b[0m\u001b[1;33m.\u001b[0m\u001b[1;33m\u001b[0m\u001b[1;33m\u001b[0m\u001b[0m\n\u001b[0;32m   1361\u001b[0m         \"\"\"\n\u001b[1;32m-> 1362\u001b[1;33m         self.handles = get_handle(\n\u001b[0m\u001b[0;32m   1363\u001b[0m             \u001b[0msrc\u001b[0m\u001b[1;33m,\u001b[0m\u001b[1;33m\u001b[0m\u001b[1;33m\u001b[0m\u001b[0m\n\u001b[0;32m   1364\u001b[0m             \u001b[1;34m\"r\"\u001b[0m\u001b[1;33m,\u001b[0m\u001b[1;33m\u001b[0m\u001b[1;33m\u001b[0m\u001b[0m\n",
      "\u001b[1;32mC:\\ProgramData\\Anaconda3\\lib\\site-packages\\pandas\\io\\common.py\u001b[0m in \u001b[0;36mget_handle\u001b[1;34m(path_or_buf, mode, encoding, compression, memory_map, is_text, errors, storage_options)\u001b[0m\n\u001b[0;32m    640\u001b[0m                 \u001b[0merrors\u001b[0m \u001b[1;33m=\u001b[0m \u001b[1;34m\"replace\"\u001b[0m\u001b[1;33m\u001b[0m\u001b[1;33m\u001b[0m\u001b[0m\n\u001b[0;32m    641\u001b[0m             \u001b[1;31m# Encoding\u001b[0m\u001b[1;33m\u001b[0m\u001b[1;33m\u001b[0m\u001b[1;33m\u001b[0m\u001b[0m\n\u001b[1;32m--> 642\u001b[1;33m             handle = open(\n\u001b[0m\u001b[0;32m    643\u001b[0m                 \u001b[0mhandle\u001b[0m\u001b[1;33m,\u001b[0m\u001b[1;33m\u001b[0m\u001b[1;33m\u001b[0m\u001b[0m\n\u001b[0;32m    644\u001b[0m                 \u001b[0mioargs\u001b[0m\u001b[1;33m.\u001b[0m\u001b[0mmode\u001b[0m\u001b[1;33m,\u001b[0m\u001b[1;33m\u001b[0m\u001b[1;33m\u001b[0m\u001b[0m\n",
      "\u001b[1;31mFileNotFoundError\u001b[0m: [Errno 2] No such file or directory: 'morris_sample_st.csv'"
     ]
    }
   ],
   "source": [
    "df1 = pd.read_csv('morris_sample_st.csv')\n",
    "df2 = pd.read_csv('morris_sample_st2.csv')\n",
    "df3 = pd.read_csv('morris_sample_pvt.csv')\n",
    "df4 = pd.read_csv('morris_sample_pvt2.csv')\n",
    "dfnew = pd.concat([df1,df2,df3,df4,\n",
    "                   pd.read_csv('morris_sample_cp.csv'),\n",
    "                   pd.read_csv('morris_sample_cp2.csv'),\n",
    "                   pd.read_csv('morris_sample_batt1.csv'),\n",
    "                   pd.read_csv('morris_sample_cp3.csv'),\n",
    "                   pd.read_csv('morris_sample_pvt4.csv'),\n",
    "                   pd.read_csv('morris_sample_st4.csv'),\n",
    "                  pd.read_csv(res_folder+'lhs_sample_1.csv')])\n",
    "\n",
    "dfnew.index = np.arange(len(dfnew))\n",
    "dfnew = dfnew.drop_duplicates()\n",
    "dfnew.index = np.arange(len(dfnew))\n",
    "current_list = pd.merge(dfnew, previous, how='outer', indicator=True)\n",
    "current_list = current_list[current_list['_merge'] == 'left_only']\n",
    "current_list.drop(columns=['_merge'], inplace=True)\n",
    "current_list.index = np.arange(181, 181+len(current_list))\n",
    "current_list"
   ]
  },
  {
   "cell_type": "code",
   "execution_count": 55,
   "id": "a5a3fd13",
   "metadata": {},
   "outputs": [
    {
     "data": {
      "text/plain": [
       "['lhs_sample_1.csv',\n",
       " 'morris_sample_batt1.csv',\n",
       " 'morris_sample_cp.csv',\n",
       " 'morris_sample_cp2.csv',\n",
       " 'morris_sample_cp3.csv',\n",
       " 'morris_sample_pvt.csv',\n",
       " 'morris_sample_pvt2.csv',\n",
       " 'morris_sample_pvt3.csv',\n",
       " 'morris_sample_pvt4.csv',\n",
       " 'morris_sample_st.csv',\n",
       " 'morris_sample_st2.csv',\n",
       " 'morris_sample_st3.csv',\n",
       " 'morris_sample_st4.csv']"
      ]
     },
     "execution_count": 55,
     "metadata": {},
     "output_type": "execute_result"
    }
   ],
   "source": [
    "all_files = os.listdir('..')\n",
    "sample_files = []\n",
    "for file in all_files:\n",
    "    if 'sample' in file:\n",
    "        sample_files.append(file)\n",
    "sample_files"
   ]
  },
  {
   "cell_type": "code",
   "execution_count": 7,
   "id": "404a5981",
   "metadata": {},
   "outputs": [
    {
     "data": {
      "text/plain": [
       "290"
      ]
     },
     "execution_count": 7,
     "metadata": {},
     "output_type": "execute_result"
    }
   ],
   "source": [
    "total_labels = pd.concat([previous,current_list], ignore_index=False).index\n",
    "total_labels=total_labels.astype(str)\n",
    "total_labels=total_labels.values\n",
    "len(total_labels)"
   ]
  },
  {
   "cell_type": "code",
   "execution_count": 8,
   "id": "d9c15be7",
   "metadata": {},
   "outputs": [
    {
     "data": {
      "text/plain": [
       "set()"
      ]
     },
     "execution_count": 8,
     "metadata": {},
     "output_type": "execute_result"
    }
   ],
   "source": [
    "missing = set(total_labels)-set(avl_labels)\n",
    "missing"
   ]
  },
  {
   "cell_type": "code",
   "execution_count": 50,
   "id": "4f58f7a8",
   "metadata": {},
   "outputs": [
    {
     "name": "stdout",
     "output_type": "stream",
     "text": [
      "479 len = 22161\n",
      "x len = 45871\n"
     ]
    },
    {
     "ename": "ValueError",
     "evalue": "invalid literal for int() with base 10: ''",
     "output_type": "error",
     "traceback": [
      "\u001b[1;31m---------------------------------------------------------------------------\u001b[0m",
      "\u001b[1;31mValueError\u001b[0m                                Traceback (most recent call last)",
      "\u001b[1;32m<ipython-input-50-6daa952fd03b>\u001b[0m in \u001b[0;36m<module>\u001b[1;34m\u001b[0m\n\u001b[0;32m      9\u001b[0m         \u001b[0mprint\u001b[0m\u001b[1;33m(\u001b[0m\u001b[0mi\u001b[0m \u001b[1;33m+\u001b[0m \u001b[1;34m' len = '\u001b[0m\u001b[1;33m+\u001b[0m\u001b[0mstr\u001b[0m\u001b[1;33m(\u001b[0m\u001b[0mlen\u001b[0m\u001b[1;33m(\u001b[0m\u001b[0mdf\u001b[0m\u001b[1;33m)\u001b[0m\u001b[1;33m)\u001b[0m\u001b[1;33m)\u001b[0m\u001b[1;33m\u001b[0m\u001b[1;33m\u001b[0m\u001b[0m\n\u001b[0;32m     10\u001b[0m         \u001b[0mj\u001b[0m \u001b[1;33m=\u001b[0m \u001b[1;34m''\u001b[0m\u001b[1;33m.\u001b[0m\u001b[0mjoin\u001b[0m\u001b[1;33m(\u001b[0m\u001b[1;33m[\u001b[0m\u001b[0mchar\u001b[0m \u001b[1;32mfor\u001b[0m \u001b[0mchar\u001b[0m \u001b[1;32min\u001b[0m \u001b[0mi\u001b[0m \u001b[1;32mif\u001b[0m \u001b[0mchar\u001b[0m\u001b[1;33m.\u001b[0m\u001b[0misdigit\u001b[0m\u001b[1;33m(\u001b[0m\u001b[1;33m)\u001b[0m\u001b[1;33m]\u001b[0m\u001b[1;33m)\u001b[0m\u001b[1;33m\u001b[0m\u001b[1;33m\u001b[0m\u001b[0m\n\u001b[1;32m---> 11\u001b[1;33m         \u001b[0mrepeat\u001b[0m \u001b[1;33m=\u001b[0m \u001b[0mrepeat\u001b[0m\u001b[1;33m.\u001b[0m\u001b[0mappend\u001b[0m\u001b[1;33m(\u001b[0m\u001b[0minp\u001b[0m\u001b[1;33m.\u001b[0m\u001b[0mloc\u001b[0m\u001b[1;33m[\u001b[0m\u001b[0mint\u001b[0m\u001b[1;33m(\u001b[0m\u001b[0mj\u001b[0m\u001b[1;33m)\u001b[0m\u001b[1;33m]\u001b[0m\u001b[1;33m)\u001b[0m\u001b[1;33m\u001b[0m\u001b[1;33m\u001b[0m\u001b[0m\n\u001b[0m\u001b[0;32m     12\u001b[0m \u001b[0mrepeat\u001b[0m\u001b[1;33m\u001b[0m\u001b[1;33m\u001b[0m\u001b[0m\n",
      "\u001b[1;31mValueError\u001b[0m: invalid literal for int() with base 10: ''"
     ]
    }
   ],
   "source": [
    "# check length of all files and flag the onces that are incomplete\n",
    "os.chdir(directory+res_folder)\n",
    "import pandas as pd\n",
    "repeat = pd.DataFrame()\n",
    "inp = pd.read_csv('list_of_inputs.csv', header=0,index_col=0)\n",
    "for i in avl_labels_og:\n",
    "    df = pd.read_csv(i+'_control_signal.txt', delimiter=',',index_col=0) \n",
    "    if len(df) <87601 :\n",
    "        print(i + ' len = '+str(len(df)))\n",
    "        j = ''.join([char for char in i if char.isdigit()])\n",
    "        repeat = repeat.append(inp.loc[int(j)])\n",
    "repeat"
   ]
  },
  {
   "cell_type": "code",
   "execution_count": 4,
   "id": "0d985bbf",
   "metadata": {},
   "outputs": [
    {
     "ename": "NameError",
     "evalue": "name 'dfnew' is not defined",
     "output_type": "error",
     "traceback": [
      "\u001b[1;31m---------------------------------------------------------------------------\u001b[0m",
      "\u001b[1;31mNameError\u001b[0m                                 Traceback (most recent call last)",
      "\u001b[1;32m<ipython-input-4-d25962282a05>\u001b[0m in \u001b[0;36m<module>\u001b[1;34m\u001b[0m\n\u001b[0;32m      1\u001b[0m \u001b[0mslice_list\u001b[0m \u001b[1;33m=\u001b[0m \u001b[1;33m[\u001b[0m\u001b[1;36m356\u001b[0m\u001b[1;33m]\u001b[0m\u001b[1;33m\u001b[0m\u001b[1;33m\u001b[0m\u001b[0m\n\u001b[1;32m----> 2\u001b[1;33m \u001b[0mdf2\u001b[0m \u001b[1;33m=\u001b[0m \u001b[0mdfnew\u001b[0m\u001b[1;33m.\u001b[0m\u001b[0miloc\u001b[0m\u001b[1;33m[\u001b[0m\u001b[0mdfnew\u001b[0m\u001b[1;33m.\u001b[0m\u001b[0mindex\u001b[0m\u001b[1;33m.\u001b[0m\u001b[0misin\u001b[0m\u001b[1;33m(\u001b[0m\u001b[0mslice_list\u001b[0m\u001b[1;33m)\u001b[0m\u001b[1;33m]\u001b[0m\u001b[1;33m\u001b[0m\u001b[1;33m\u001b[0m\u001b[0m\n\u001b[0m\u001b[0;32m      3\u001b[0m \u001b[0mdf2\u001b[0m\u001b[1;33m\u001b[0m\u001b[1;33m\u001b[0m\u001b[0m\n",
      "\u001b[1;31mNameError\u001b[0m: name 'dfnew' is not defined"
     ]
    }
   ],
   "source": [
    "repeat.to_csv('..\\\\missed_sims5.csv',index_label='label')"
   ]
  },
  {
   "cell_type": "code",
   "execution_count": 42,
   "id": "8deaf82e",
   "metadata": {},
   "outputs": [],
   "source": [
    "slice_list = [356]\n",
    "df2 = dfnew.iloc[dfnew.index.isin(slice_list)]\n",
    "df2"
   ]
  },
  {
   "cell_type": "code",
   "execution_count": 24,
   "id": "9616083d",
   "metadata": {},
   "outputs": [
    {
     "data": {
      "text/plain": [
       "163"
      ]
     },
     "execution_count": 24,
     "metadata": {},
     "output_type": "execute_result"
    }
   ],
   "source": [
    "sim_results = pd.read_csv('sim_results.csv')\n",
    "sim_results['lab'] = sim_results['lab'].astype(int)\n",
    "len(sim_results)"
   ]
  },
  {
   "cell_type": "code",
   "execution_count": 45,
   "id": "da8f7ffe",
   "metadata": {},
   "outputs": [
    {
     "data": {
      "text/plain": [
       "[164, 165, 150]"
      ]
     },
     "execution_count": 45,
     "metadata": {},
     "output_type": "execute_result"
    }
   ],
   "source": [
    "x = list(sim_results['lab'])\n",
    "y = list(dfnew.index)\n",
    "list(set(y)-set(x))"
   ]
  }
 ],
 "metadata": {
  "kernelspec": {
   "display_name": "Python 3",
   "language": "python",
   "name": "python3"
  },
  "language_info": {
   "codemirror_mode": {
    "name": "ipython",
    "version": 3
   },
   "file_extension": ".py",
   "mimetype": "text/x-python",
   "name": "python",
   "nbconvert_exporter": "python",
   "pygments_lexer": "ipython3",
   "version": "3.8.8"
  }
 },
 "nbformat": 4,
 "nbformat_minor": 5
}
