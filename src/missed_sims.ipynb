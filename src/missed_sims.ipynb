{
 "cells": [
  {
   "cell_type": "code",
   "execution_count": 1,
   "id": "08ced2e6",
   "metadata": {},
   "outputs": [],
   "source": [
    "import os\n",
    "directory = os.getcwd()\n",
    "sample_folder = '\\\\res'\n",
    "res_folder = '\\\\res\\\\trn'\n",
    "os.chdir(directory+res_folder)"
   ]
  },
  {
   "cell_type": "code",
   "execution_count": 56,
   "id": "87b01918",
   "metadata": {},
   "outputs": [
    {
     "name": "stdout",
     "output_type": "stream",
     "text": [
      "1224\n",
      "408\n"
     ]
    },
    {
     "data": {
      "text/plain": [
       "array(['0', '1', '10', '100', '101', '102', '103', '104', '105', '106',\n",
       "       '107', '108', '109', '11', '110', '111', '112', '113', '114',\n",
       "       '115', '116', '117', '118', '119', '12', '120', '121', '122',\n",
       "       '123', '124', '125', '126', '127', '128', '129', '13', '130',\n",
       "       '131', '132', '133', '134', '135', '136', '137', '138', '139',\n",
       "       '14', '140', '141', '142', '143', '144', '145', '146', '147',\n",
       "       '148', '149', '15', '150', '151', '152', '153', '154', '155',\n",
       "       '156', '157', '158', '159', '16', '160', '161', '162', '163',\n",
       "       '164', '165', '166', '167', '168', '169', '17', '170', '171',\n",
       "       '172', '173', '174', '175', '176', '177', '178', '179', '18',\n",
       "       '180', '181', '182', '183', '184', '185', '186', '187', '188',\n",
       "       '189', '19', '190', '191', '192', '193', '194', '195', '196',\n",
       "       '197', '198', '199', '2', '20', '200', '201', '202', '203', '204',\n",
       "       '205', '206', '207', '208', '209', '21', '210', '211', '212',\n",
       "       '213', '214', '215', '216', '217', '218', '219', '22', '220',\n",
       "       '221', '222', '223', '224', '225', '226', '227', '228', '229',\n",
       "       '23', '230', '231', '232', '233', '234', '235', '236', '237',\n",
       "       '238', '239', '24', '240', '241', '242', '243', '244', '245',\n",
       "       '246', '247', '248', '249', '25', '250', '251', '252', '253',\n",
       "       '254', '255', '256', '257', '258', '259', '26', '260', '261',\n",
       "       '262', '263', '264', '265', '266', '267', '268', '269', '27',\n",
       "       '270', '271', '272', '273', '274', '275', '276', '277', '278',\n",
       "       '279', '28', '280', '281', '282', '283', '284', '285', '286',\n",
       "       '287', '288', '289', '29', '290', '291', '292', '293', '294',\n",
       "       '295', '296', '297', '298', '299', '3', '30', '300', '301', '302',\n",
       "       '303', '304', '305', '306', '307', '308', '309', '31', '310',\n",
       "       '311', '312', '313', '314', '315', '316', '317', '318', '319',\n",
       "       '32', '320', '321', '322', '323', '324', '325', '326', '327',\n",
       "       '328', '329', '33', '330', '331', '332', '333', '334', '335',\n",
       "       '336', '337', '338', '339', '34', '340', '341', '342', '343',\n",
       "       '344', '345', '346', '347', '348', '349', '35', '350', '351',\n",
       "       '352', '353', '354', '355', '356', '357', '358', '359', '36',\n",
       "       '360', '361', '362', '363', '364', '365', '366', '367', '368',\n",
       "       '369', '37', '370', '371', '372', '373', '374', '375', '376',\n",
       "       '377', '378', '379', '38', '380', '381', '382', '383', '384',\n",
       "       '385', '386', '387', '388', '389', '39', '390', '391', '392',\n",
       "       '393', '394', '395', '396', '397', '398', '399', '4', '40', '400',\n",
       "       '401', '402', '403', '404', '405', '406', '407', '41', '42', '43',\n",
       "       '44', '45', '46', '47', '48', '49', '5', '50', '51', '52', '53',\n",
       "       '54', '55', '56', '57', '58', '59', '6', '60', '61', '62', '63',\n",
       "       '64', '65', '66', '67', '68', '69', '7', '70', '71', '72', '73',\n",
       "       '74', '75', '76', '77', '78', '79', '8', '80', '81', '82', '83',\n",
       "       '84', '85', '86', '87', '88', '89', '9', '90', '91', '92', '93',\n",
       "       '94', '95', '96', '97', '98', '99'], dtype='<U3')"
      ]
     },
     "execution_count": 56,
     "metadata": {},
     "output_type": "execute_result"
    }
   ],
   "source": [
    "import numpy as np\n",
    "import pandas as pd\n",
    "test = os.listdir()\n",
    "avl_labels_og = [] # avaliable labels in the \n",
    "for i in test:\n",
    "    if '_temp_flow' in i:\n",
    "        prefix = i[:-14]\n",
    "    elif '_control_signal' in i:\n",
    "        prefix = i[:-19]\n",
    "    elif '_energy' in i:\n",
    "        prefix = i[:-11]\n",
    "    else:\n",
    "        continue\n",
    "    avl_labels_og.append(prefix)\n",
    "print(len(avl_labels_og))        \n",
    "avl_labels_og = np.array(avl_labels_og)\n",
    "avl_labels_og = np.unique(avl_labels_og)\n",
    "print(len(avl_labels_og))\n",
    "avl_labels_og"
   ]
  },
  {
   "cell_type": "code",
   "execution_count": 57,
   "id": "4f58f7a8",
   "metadata": {},
   "outputs": [
    {
     "data": {
      "text/html": [
       "<div>\n",
       "<style scoped>\n",
       "    .dataframe tbody tr th:only-of-type {\n",
       "        vertical-align: middle;\n",
       "    }\n",
       "\n",
       "    .dataframe tbody tr th {\n",
       "        vertical-align: top;\n",
       "    }\n",
       "\n",
       "    .dataframe thead th {\n",
       "        text-align: right;\n",
       "    }\n",
       "</style>\n",
       "<table border=\"1\" class=\"dataframe\">\n",
       "  <thead>\n",
       "    <tr style=\"text-align: right;\">\n",
       "      <th></th>\n",
       "    </tr>\n",
       "  </thead>\n",
       "  <tbody>\n",
       "  </tbody>\n",
       "</table>\n",
       "</div>"
      ],
      "text/plain": [
       "Empty DataFrame\n",
       "Columns: []\n",
       "Index: []"
      ]
     },
     "execution_count": 57,
     "metadata": {},
     "output_type": "execute_result"
    }
   ],
   "source": [
    "# check length of all files and flag the onces that are incomplete\n",
    "os.chdir(directory+res_folder)\n",
    "import pandas as pd\n",
    "repeat = pd.DataFrame()\n",
    "inp = pd.read_csv('list_of_inputs.csv', header=0,index_col=0)\n",
    "for i in avl_labels_og:\n",
    "    df = pd.read_csv(i+'_control_signal.txt', delimiter=',',index_col=0) \n",
    "    if len(df) <87601 :\n",
    "        print(i + ' len = '+str(len(df)))\n",
    "        j = ''.join([char for char in i if char.isdigit()])\n",
    "        repeat = repeat.append(inp.loc[int(j)])\n",
    "repeat"
   ]
  },
  {
   "cell_type": "code",
   "execution_count": 52,
   "id": "f135f02f",
   "metadata": {},
   "outputs": [
    {
     "name": "stdout",
     "output_type": "stream",
     "text": [
      "['48']\n"
     ]
    },
    {
     "data": {
      "text/html": [
       "<div>\n",
       "<style scoped>\n",
       "    .dataframe tbody tr th:only-of-type {\n",
       "        vertical-align: middle;\n",
       "    }\n",
       "\n",
       "    .dataframe tbody tr th {\n",
       "        vertical-align: top;\n",
       "    }\n",
       "\n",
       "    .dataframe thead th {\n",
       "        text-align: right;\n",
       "    }\n",
       "</style>\n",
       "<table border=\"1\" class=\"dataframe\">\n",
       "  <thead>\n",
       "    <tr style=\"text-align: right;\">\n",
       "      <th></th>\n",
       "      <th>coll_area</th>\n",
       "      <th>design_case</th>\n",
       "      <th>flow_factor</th>\n",
       "      <th>flow_rate</th>\n",
       "      <th>r_level</th>\n",
       "      <th>volume</th>\n",
       "    </tr>\n",
       "  </thead>\n",
       "  <tbody>\n",
       "    <tr>\n",
       "      <th>195</th>\n",
       "      <td>4.0</td>\n",
       "      <td>ST</td>\n",
       "      <td>25.0</td>\n",
       "      <td>100.0</td>\n",
       "      <td>r1</td>\n",
       "      <td>0.25</td>\n",
       "    </tr>\n",
       "    <tr>\n",
       "      <th>237</th>\n",
       "      <td>4.0</td>\n",
       "      <td>PVT_6</td>\n",
       "      <td>25.0</td>\n",
       "      <td>100.0</td>\n",
       "      <td>r1</td>\n",
       "      <td>0.20</td>\n",
       "    </tr>\n",
       "    <tr>\n",
       "      <th>325</th>\n",
       "      <td>4.0</td>\n",
       "      <td>ST</td>\n",
       "      <td>25.0</td>\n",
       "      <td>100.0</td>\n",
       "      <td>r1</td>\n",
       "      <td>0.20</td>\n",
       "    </tr>\n",
       "    <tr>\n",
       "      <th>48</th>\n",
       "      <td>8.0</td>\n",
       "      <td>PVT_6</td>\n",
       "      <td>35.0</td>\n",
       "      <td>280.0</td>\n",
       "      <td>r1</td>\n",
       "      <td>0.20</td>\n",
       "    </tr>\n",
       "  </tbody>\n",
       "</table>\n",
       "</div>"
      ],
      "text/plain": [
       "     coll_area design_case  flow_factor  flow_rate r_level  volume\n",
       "195        4.0          ST         25.0      100.0      r1    0.25\n",
       "237        4.0       PVT_6         25.0      100.0      r1    0.20\n",
       "325        4.0          ST         25.0      100.0      r1    0.20\n",
       "48         8.0       PVT_6         35.0      280.0      r1    0.20"
      ]
     },
     "execution_count": 52,
     "metadata": {},
     "output_type": "execute_result"
    }
   ],
   "source": [
    "# compare with current_list and flag the ones that have been completely missed\n",
    "# Add these values to the repeat dataframe\n",
    "current = pd.read_csv('..\\\\current_list.csv', header=0, index_col=0)\n",
    "current = pd.read_csv('..\\\\redo.csv', header=0, index_col=0)\n",
    "current_index = current.index.astype(str)\n",
    "missing = list(set(current_index)-set(avl_labels_og))\n",
    "print(missing)\n",
    "for i in missing:\n",
    "    repeat = repeat.append(current.loc[int(i)])\n",
    "repeat"
   ]
  },
  {
   "cell_type": "code",
   "execution_count": 53,
   "id": "18f34a2a",
   "metadata": {},
   "outputs": [],
   "source": [
    "repeat.to_csv('..\\\\redo.csv',index_label='label')"
   ]
  },
  {
   "cell_type": "code",
   "execution_count": 55,
   "id": "5e8b51cc",
   "metadata": {},
   "outputs": [
    {
     "data": {
      "text/html": [
       "<div>\n",
       "<style scoped>\n",
       "    .dataframe tbody tr th:only-of-type {\n",
       "        vertical-align: middle;\n",
       "    }\n",
       "\n",
       "    .dataframe tbody tr th {\n",
       "        vertical-align: top;\n",
       "    }\n",
       "\n",
       "    .dataframe thead th {\n",
       "        text-align: right;\n",
       "    }\n",
       "</style>\n",
       "<table border=\"1\" class=\"dataframe\">\n",
       "  <thead>\n",
       "    <tr style=\"text-align: right;\">\n",
       "      <th></th>\n",
       "    </tr>\n",
       "  </thead>\n",
       "  <tbody>\n",
       "  </tbody>\n",
       "</table>\n",
       "</div>"
      ],
      "text/plain": [
       "Empty DataFrame\n",
       "Columns: []\n",
       "Index: []"
      ]
     },
     "execution_count": 55,
     "metadata": {},
     "output_type": "execute_result"
    }
   ],
   "source": [
    "# check length of file from missed sims list and flag the onces that are incomplete\n",
    "os.chdir(directory+res_folder)\n",
    "import pandas as pd\n",
    "repeat = pd.DataFrame()\n",
    "inp = pd.read_csv('..\\\\redo.csv', header=0, index_col=0)\n",
    "for i in inp.index:\n",
    "    df = pd.read_csv(str(i)+'_control_signal.txt', delimiter=',',index_col=0) \n",
    "    if len(df) <87601 :\n",
    "        print(str(i) + ' len = '+str(len(df)))\n",
    "        #j = ''.join([char for char in i if char.isdigit()])\n",
    "        repeat = repeat.append(inp.loc[int(i)])\n",
    "repeat"
   ]
  },
  {
   "cell_type": "code",
   "execution_count": 6,
   "id": "c4b7aba0",
   "metadata": {},
   "outputs": [],
   "source": [
    "avl_labels = np.array([''.join(filter(str.isdigit, s)) for s in avl_labels_og])"
   ]
  },
  {
   "cell_type": "code",
   "execution_count": 55,
   "id": "a1ea16c0",
   "metadata": {},
   "outputs": [
    {
     "data": {
      "text/plain": [
       "['lhs_sample_1.csv',\n",
       " 'morris_sample_batt1.csv',\n",
       " 'morris_sample_cp.csv',\n",
       " 'morris_sample_cp2.csv',\n",
       " 'morris_sample_cp3.csv',\n",
       " 'morris_sample_pvt.csv',\n",
       " 'morris_sample_pvt2.csv',\n",
       " 'morris_sample_pvt3.csv',\n",
       " 'morris_sample_pvt4.csv',\n",
       " 'morris_sample_st.csv',\n",
       " 'morris_sample_st2.csv',\n",
       " 'morris_sample_st3.csv',\n",
       " 'morris_sample_st4.csv']"
      ]
     },
     "execution_count": 55,
     "metadata": {},
     "output_type": "execute_result"
    }
   ],
   "source": [
    "all_files = os.listdir('..')\n",
    "sample_files = []\n",
    "for file in all_files:\n",
    "    if 'sample' in file:\n",
    "        sample_files.append(file)\n",
    "sample_files"
   ]
  },
  {
   "cell_type": "code",
   "execution_count": 42,
   "id": "8deaf82e",
   "metadata": {},
   "outputs": [],
   "source": [
    "slice_list = [356]\n",
    "df2 = dfnew.iloc[dfnew.index.isin(slice_list)]\n",
    "df2"
   ]
  }
 ],
 "metadata": {
  "kernelspec": {
   "display_name": "Python 3",
   "language": "python",
   "name": "python3"
  },
  "language_info": {
   "codemirror_mode": {
    "name": "ipython",
    "version": 3
   },
   "file_extension": ".py",
   "mimetype": "text/x-python",
   "name": "python",
   "nbconvert_exporter": "python",
   "pygments_lexer": "ipython3",
   "version": "3.8.8"
  }
 },
 "nbformat": 4,
 "nbformat_minor": 5
}
