{
 "cells": [
  {
   "cell_type": "code",
   "execution_count": 6,
   "id": "08ced2e6",
   "metadata": {},
   "outputs": [
    {
     "ename": "FileNotFoundError",
     "evalue": "[WinError 3] The system cannot find the path specified: 'C:\\\\Users\\\\20181270\\\\OneDrive - TU Eindhoven\\\\PhD\\\\TRNSYS\\\\Publication1\\\\pub_1\\\\src\\\\res\\\\trn\\\\res\\\\trn'",
     "output_type": "error",
     "traceback": [
      "\u001b[1;31m---------------------------------------------------------------------------\u001b[0m",
      "\u001b[1;31mFileNotFoundError\u001b[0m                         Traceback (most recent call last)",
      "\u001b[1;32m<ipython-input-6-0084fe38a4e5>\u001b[0m in \u001b[0;36m<module>\u001b[1;34m\u001b[0m\n\u001b[0;32m      3\u001b[0m \u001b[0msample_folder\u001b[0m \u001b[1;33m=\u001b[0m \u001b[1;34m'\\\\res'\u001b[0m\u001b[1;33m\u001b[0m\u001b[1;33m\u001b[0m\u001b[0m\n\u001b[0;32m      4\u001b[0m \u001b[0mres_folder\u001b[0m \u001b[1;33m=\u001b[0m \u001b[1;34m'\\\\res\\\\trn'\u001b[0m\u001b[1;33m\u001b[0m\u001b[1;33m\u001b[0m\u001b[0m\n\u001b[1;32m----> 5\u001b[1;33m \u001b[0mos\u001b[0m\u001b[1;33m.\u001b[0m\u001b[0mchdir\u001b[0m\u001b[1;33m(\u001b[0m\u001b[0mdirectory\u001b[0m\u001b[1;33m+\u001b[0m\u001b[0mres_folder\u001b[0m\u001b[1;33m)\u001b[0m\u001b[1;33m\u001b[0m\u001b[1;33m\u001b[0m\u001b[0m\n\u001b[0m",
      "\u001b[1;31mFileNotFoundError\u001b[0m: [WinError 3] The system cannot find the path specified: 'C:\\\\Users\\\\20181270\\\\OneDrive - TU Eindhoven\\\\PhD\\\\TRNSYS\\\\Publication1\\\\pub_1\\\\src\\\\res\\\\trn\\\\res\\\\trn'"
     ]
    }
   ],
   "source": [
    "import os\n",
    "directory = os.getcwd()\n",
    "sample_folder = '\\\\res'\n",
    "res_folder = '\\\\res\\\\trn'\n",
    "os.chdir(directory+res_folder)"
   ]
  },
  {
   "cell_type": "code",
   "execution_count": 2,
   "id": "87b01918",
   "metadata": {},
   "outputs": [
    {
     "name": "stdout",
     "output_type": "stream",
     "text": [
      "792\n",
      "264\n"
     ]
    },
    {
     "data": {
      "text/plain": [
       "array(['0', '1', '10', '100', '101', '102', '103', '104', '105', '106',\n",
       "       '107', '108', '109', '11', '110', '111', '112', '113', '114',\n",
       "       '115', '116', '117', '118', '119', '12', '120', '121', '122',\n",
       "       '123', '124', '125', '126', '127', '128', '129', '13', '130',\n",
       "       '131', '132', '133', '134', '135', '136', '137', '138', '139',\n",
       "       '14', '140', '141', '142', '143', '144', '145', '146', '147',\n",
       "       '148', '149', '15', '150', '151', '152', '153', '154', '155',\n",
       "       '156', '157', '158', '159', '16', '160', '161', '162', '163',\n",
       "       '164', '165', '166_cp', '167_cp', '168_cp', '169_cp', '17',\n",
       "       '170_cp', '171_cp', '172_cp', '173_cp', '174_cp', '175_cp',\n",
       "       '176_cp', '177_cp', '178_cp', '179_cp', '18', '180_cp', '181',\n",
       "       '182_cp', '183_cp', '184_cp', '185_cp', '186_cp', '187_cp',\n",
       "       '188_cp', '189_cp', '19', '190_cp', '191_cp', '192_cp', '193_cp',\n",
       "       '194_cp', '195_cp', '196_cp', '197_cp', '198_cp', '199_cp', '2',\n",
       "       '20', '200_cp', '201_cp', '202', '203', '204', '205', '206', '207',\n",
       "       '208', '209', '21', '210', '211', '212', '213', '214', '215',\n",
       "       '216', '217', '218', '219', '22', '220', '221', '222', '223',\n",
       "       '224', '225', '226', '227', '228', '229', '23', '230', '231',\n",
       "       '232', '233', '234', '235', '236', '237', '238', '239', '24',\n",
       "       '240', '241', '242', '243', '244', '245', '246', '247', '248',\n",
       "       '249', '25', '250', '251', '252', '253', '254', '255', '256',\n",
       "       '257', '258', '259', '26', '260', '261', '262', '27', '28', '29',\n",
       "       '3', '30', '31', '32', '33', '34', '35', '36', '37', '38', '39',\n",
       "       '4', '40', '41', '42', '43', '44', '45', '46', '47', '48', '49',\n",
       "       '5', '50', '51', '52', '53', '54', '55', '56', '57', '58', '59',\n",
       "       '6', '60', '61', '62', '63', '64', '65', '66', '67', '68', '69',\n",
       "       '7', '70', '71', '72', '73', '74', '75', '76', '77', '78', '79',\n",
       "       '8', '80', '81', '82', '83', '84', '85', '86', '87', '88', '89',\n",
       "       '9', '90', '91', '92', '93', '94', '95', '96', '97', '98', '99',\n",
       "       'x'], dtype='<U6')"
      ]
     },
     "execution_count": 2,
     "metadata": {},
     "output_type": "execute_result"
    }
   ],
   "source": [
    "import numpy as np\n",
    "import pandas as pd\n",
    "test = os.listdir()\n",
    "avl_labels_og = [] # avaliable labels in the \n",
    "for i in test:\n",
    "    if '_temp_flow' in i:\n",
    "        prefix = i[:-14]\n",
    "    elif '_control_signal' in i:\n",
    "        prefix = i[:-19]\n",
    "    elif '_energy' in i:\n",
    "        prefix = i[:-11]\n",
    "    else:\n",
    "        continue\n",
    "    avl_labels_og.append(prefix)\n",
    "print(len(avl_labels_og))        \n",
    "avl_labels_og = np.array(avl_labels_og)\n",
    "avl_labels_og = np.unique(avl_labels_og)\n",
    "print(len(avl_labels_og))\n",
    "avl_labels_og"
   ]
  },
  {
   "cell_type": "code",
   "execution_count": 3,
   "id": "aa5504a5",
   "metadata": {},
   "outputs": [
    {
     "data": {
      "text/plain": [
       "263"
      ]
     },
     "execution_count": 3,
     "metadata": {},
     "output_type": "execute_result"
    }
   ],
   "source": [
    "import re\n",
    "avl_labels = np.array([re.search(r'\\d+', item).group() for item in avl_labels_og if re.search(r'\\d+', item)])\n",
    "len(avl_labels)"
   ]
  },
  {
   "cell_type": "code",
   "execution_count": 4,
   "id": "5b1f90a4",
   "metadata": {},
   "outputs": [
    {
     "data": {
      "text/html": [
       "<div>\n",
       "<style scoped>\n",
       "    .dataframe tbody tr th:only-of-type {\n",
       "        vertical-align: middle;\n",
       "    }\n",
       "\n",
       "    .dataframe tbody tr th {\n",
       "        vertical-align: top;\n",
       "    }\n",
       "\n",
       "    .dataframe thead th {\n",
       "        text-align: right;\n",
       "    }\n",
       "</style>\n",
       "<table border=\"1\" class=\"dataframe\">\n",
       "  <thead>\n",
       "    <tr style=\"text-align: right;\">\n",
       "      <th></th>\n",
       "      <th>volume</th>\n",
       "      <th>coll_area</th>\n",
       "      <th>flow_rate</th>\n",
       "      <th>design_case</th>\n",
       "      <th>r_level</th>\n",
       "    </tr>\n",
       "  </thead>\n",
       "  <tbody>\n",
       "    <tr>\n",
       "      <th>0</th>\n",
       "      <td>0.4</td>\n",
       "      <td>8.0</td>\n",
       "      <td>200</td>\n",
       "      <td>ST</td>\n",
       "      <td>r0</td>\n",
       "    </tr>\n",
       "    <tr>\n",
       "      <th>1</th>\n",
       "      <td>0.2</td>\n",
       "      <td>8.0</td>\n",
       "      <td>200</td>\n",
       "      <td>ST</td>\n",
       "      <td>r0</td>\n",
       "    </tr>\n",
       "    <tr>\n",
       "      <th>2</th>\n",
       "      <td>0.2</td>\n",
       "      <td>20.0</td>\n",
       "      <td>200</td>\n",
       "      <td>ST</td>\n",
       "      <td>r0</td>\n",
       "    </tr>\n",
       "    <tr>\n",
       "      <th>3</th>\n",
       "      <td>0.2</td>\n",
       "      <td>20.0</td>\n",
       "      <td>100</td>\n",
       "      <td>ST</td>\n",
       "      <td>r0</td>\n",
       "    </tr>\n",
       "    <tr>\n",
       "      <th>4</th>\n",
       "      <td>0.1</td>\n",
       "      <td>8.0</td>\n",
       "      <td>100</td>\n",
       "      <td>ST</td>\n",
       "      <td>r0</td>\n",
       "    </tr>\n",
       "    <tr>\n",
       "      <th>...</th>\n",
       "      <td>...</td>\n",
       "      <td>...</td>\n",
       "      <td>...</td>\n",
       "      <td>...</td>\n",
       "      <td>...</td>\n",
       "    </tr>\n",
       "    <tr>\n",
       "      <th>176</th>\n",
       "      <td>0.3</td>\n",
       "      <td>8.0</td>\n",
       "      <td>200</td>\n",
       "      <td>cp_PV</td>\n",
       "      <td>r0</td>\n",
       "    </tr>\n",
       "    <tr>\n",
       "      <th>177</th>\n",
       "      <td>0.4</td>\n",
       "      <td>16.0</td>\n",
       "      <td>200</td>\n",
       "      <td>cp_PV</td>\n",
       "      <td>r0</td>\n",
       "    </tr>\n",
       "    <tr>\n",
       "      <th>178</th>\n",
       "      <td>0.4</td>\n",
       "      <td>4.0</td>\n",
       "      <td>200</td>\n",
       "      <td>cp_PV</td>\n",
       "      <td>r0</td>\n",
       "    </tr>\n",
       "    <tr>\n",
       "      <th>179</th>\n",
       "      <td>0.2</td>\n",
       "      <td>4.0</td>\n",
       "      <td>200</td>\n",
       "      <td>cp_PV</td>\n",
       "      <td>r0</td>\n",
       "    </tr>\n",
       "    <tr>\n",
       "      <th>180</th>\n",
       "      <td>0.4</td>\n",
       "      <td>8.0</td>\n",
       "      <td>200</td>\n",
       "      <td>cp_PV</td>\n",
       "      <td>r0</td>\n",
       "    </tr>\n",
       "  </tbody>\n",
       "</table>\n",
       "<p>181 rows × 5 columns</p>\n",
       "</div>"
      ],
      "text/plain": [
       "     volume  coll_area  flow_rate design_case r_level\n",
       "0       0.4        8.0        200          ST      r0\n",
       "1       0.2        8.0        200          ST      r0\n",
       "2       0.2       20.0        200          ST      r0\n",
       "3       0.2       20.0        100          ST      r0\n",
       "4       0.1        8.0        100          ST      r0\n",
       "..      ...        ...        ...         ...     ...\n",
       "176     0.3        8.0        200       cp_PV      r0\n",
       "177     0.4       16.0        200       cp_PV      r0\n",
       "178     0.4        4.0        200       cp_PV      r0\n",
       "179     0.2        4.0        200       cp_PV      r0\n",
       "180     0.4        8.0        200       cp_PV      r0\n",
       "\n",
       "[181 rows x 5 columns]"
      ]
     },
     "execution_count": 4,
     "metadata": {},
     "output_type": "execute_result"
    }
   ],
   "source": [
    "os.chdir(directory + sample_folder)\n",
    "#previous = np.arange(86)\n",
    "#previous = previous.astype(str)\n",
    "#previous = pd.DataFrame(previous, columns=['label'])\n",
    "\n",
    "previous = pd.concat([pd.read_csv('morris_sample_st.csv'),\n",
    "                     pd.read_csv('morris_sample_st2.csv'),\n",
    "                     pd.read_csv('morris_sample_pvt.csv'),\n",
    "                     pd.read_csv('morris_sample_pvt2.csv'),\n",
    "                     pd.read_csv('morris_sample_cp.csv')],\n",
    "                    ignore_index=True)\n",
    "previous = previous.drop_duplicates(ignore_index=True)\n",
    "previous"
   ]
  },
  {
   "cell_type": "code",
   "execution_count": 19,
   "id": "67fd1216",
   "metadata": {
    "scrolled": true
   },
   "outputs": [
    {
     "data": {
      "text/html": [
       "<div>\n",
       "<style scoped>\n",
       "    .dataframe tbody tr th:only-of-type {\n",
       "        vertical-align: middle;\n",
       "    }\n",
       "\n",
       "    .dataframe tbody tr th {\n",
       "        vertical-align: top;\n",
       "    }\n",
       "\n",
       "    .dataframe thead th {\n",
       "        text-align: right;\n",
       "    }\n",
       "</style>\n",
       "<table border=\"1\" class=\"dataframe\">\n",
       "  <thead>\n",
       "    <tr style=\"text-align: right;\">\n",
       "      <th></th>\n",
       "      <th>volume</th>\n",
       "      <th>coll_area</th>\n",
       "      <th>flow_rate</th>\n",
       "      <th>design_case</th>\n",
       "      <th>r_level</th>\n",
       "    </tr>\n",
       "  </thead>\n",
       "  <tbody>\n",
       "    <tr>\n",
       "      <th>181</th>\n",
       "      <td>0.20</td>\n",
       "      <td>20.000</td>\n",
       "      <td>200</td>\n",
       "      <td>cp_PV</td>\n",
       "      <td>r1</td>\n",
       "    </tr>\n",
       "    <tr>\n",
       "      <th>182</th>\n",
       "      <td>0.20</td>\n",
       "      <td>20.000</td>\n",
       "      <td>200</td>\n",
       "      <td>cp_PV</td>\n",
       "      <td>r0</td>\n",
       "    </tr>\n",
       "    <tr>\n",
       "      <th>183</th>\n",
       "      <td>0.25</td>\n",
       "      <td>20.000</td>\n",
       "      <td>200</td>\n",
       "      <td>cp_PV</td>\n",
       "      <td>r0</td>\n",
       "    </tr>\n",
       "    <tr>\n",
       "      <th>184</th>\n",
       "      <td>0.25</td>\n",
       "      <td>4.000</td>\n",
       "      <td>200</td>\n",
       "      <td>cp_PV</td>\n",
       "      <td>r0</td>\n",
       "    </tr>\n",
       "    <tr>\n",
       "      <th>185</th>\n",
       "      <td>0.25</td>\n",
       "      <td>0.001</td>\n",
       "      <td>200</td>\n",
       "      <td>cp_PV</td>\n",
       "      <td>r0</td>\n",
       "    </tr>\n",
       "    <tr>\n",
       "      <th>...</th>\n",
       "      <td>...</td>\n",
       "      <td>...</td>\n",
       "      <td>...</td>\n",
       "      <td>...</td>\n",
       "      <td>...</td>\n",
       "    </tr>\n",
       "    <tr>\n",
       "      <th>258</th>\n",
       "      <td>0.25</td>\n",
       "      <td>20.000</td>\n",
       "      <td>200</td>\n",
       "      <td>PVT_Batt_9</td>\n",
       "      <td>r0</td>\n",
       "    </tr>\n",
       "    <tr>\n",
       "      <th>259</th>\n",
       "      <td>0.25</td>\n",
       "      <td>20.000</td>\n",
       "      <td>200</td>\n",
       "      <td>PVT_Batt_6</td>\n",
       "      <td>r0</td>\n",
       "    </tr>\n",
       "    <tr>\n",
       "      <th>260</th>\n",
       "      <td>0.20</td>\n",
       "      <td>8.000</td>\n",
       "      <td>50</td>\n",
       "      <td>PVT_Batt_6</td>\n",
       "      <td>r0</td>\n",
       "    </tr>\n",
       "    <tr>\n",
       "      <th>261</th>\n",
       "      <td>0.15</td>\n",
       "      <td>8.000</td>\n",
       "      <td>100</td>\n",
       "      <td>PVT_Batt_9</td>\n",
       "      <td>r1</td>\n",
       "    </tr>\n",
       "    <tr>\n",
       "      <th>262</th>\n",
       "      <td>0.20</td>\n",
       "      <td>8.000</td>\n",
       "      <td>100</td>\n",
       "      <td>PVT_Batt_6</td>\n",
       "      <td>r1</td>\n",
       "    </tr>\n",
       "  </tbody>\n",
       "</table>\n",
       "<p>82 rows × 5 columns</p>\n",
       "</div>"
      ],
      "text/plain": [
       "     volume  coll_area  flow_rate design_case r_level\n",
       "181    0.20     20.000        200       cp_PV      r1\n",
       "182    0.20     20.000        200       cp_PV      r0\n",
       "183    0.25     20.000        200       cp_PV      r0\n",
       "184    0.25      4.000        200       cp_PV      r0\n",
       "185    0.25      0.001        200       cp_PV      r0\n",
       "..      ...        ...        ...         ...     ...\n",
       "258    0.25     20.000        200  PVT_Batt_9      r0\n",
       "259    0.25     20.000        200  PVT_Batt_6      r0\n",
       "260    0.20      8.000         50  PVT_Batt_6      r0\n",
       "261    0.15      8.000        100  PVT_Batt_9      r1\n",
       "262    0.20      8.000        100  PVT_Batt_6      r1\n",
       "\n",
       "[82 rows x 5 columns]"
      ]
     },
     "execution_count": 19,
     "metadata": {},
     "output_type": "execute_result"
    }
   ],
   "source": [
    "df1 = pd.read_csv('morris_sample_st.csv')\n",
    "df2 = pd.read_csv('morris_sample_st2.csv')\n",
    "df3 = pd.read_csv('morris_sample_pvt.csv')\n",
    "df4 = pd.read_csv('morris_sample_pvt2.csv')\n",
    "dfnew = pd.concat([df1,df2,df3,df4,\n",
    "                   pd.read_csv('morris_sample_cp.csv'),\n",
    "                   pd.read_csv('morris_sample_cp2.csv'),\n",
    "                   pd.read_csv('morris_sample_batt1.csv')])\n",
    "\n",
    "dfnew.index = np.arange(len(dfnew))\n",
    "dfnew = dfnew.drop_duplicates()\n",
    "dfnew.index = np.arange(len(dfnew))\n",
    "current_list = pd.merge(dfnew, previous, how='outer', indicator=True)\n",
    "current_list = current_list[current_list['_merge'] == 'left_only']\n",
    "current_list.drop(columns=['_merge'], inplace=True)\n",
    "current_list.index = np.arange(181, 181+len(current_list))\n",
    "current_list"
   ]
  },
  {
   "cell_type": "code",
   "execution_count": 26,
   "id": "404a5981",
   "metadata": {},
   "outputs": [
    {
     "data": {
      "text/plain": [
       "263"
      ]
     },
     "execution_count": 26,
     "metadata": {},
     "output_type": "execute_result"
    }
   ],
   "source": [
    "total_labels = pd.concat([previous,current_list], ignore_index=False).index\n",
    "total_labels=total_labels.astype(str)\n",
    "total_labels=total_labels.values\n",
    "len(total_labels)"
   ]
  },
  {
   "cell_type": "code",
   "execution_count": 21,
   "id": "d9c15be7",
   "metadata": {},
   "outputs": [
    {
     "data": {
      "text/plain": [
       "set()"
      ]
     },
     "execution_count": 21,
     "metadata": {},
     "output_type": "execute_result"
    }
   ],
   "source": [
    "missing = set(total_labels)-set(avl_labels)\n",
    "missing"
   ]
  },
  {
   "cell_type": "code",
   "execution_count": 5,
   "id": "4f58f7a8",
   "metadata": {},
   "outputs": [
    {
     "name": "stdout",
     "output_type": "stream",
     "text": [
      "x len = 401\n"
     ]
    }
   ],
   "source": [
    "# check length of all files and flag the onces that are incomplete\n",
    "os.chdir(directory+res_folder)\n",
    "import pandas as pd\n",
    "for i in avl_labels_og:\n",
    "    df = pd.read_csv(i+'_control_signal.txt', delimiter=',',index_col=0) \n",
    "    if len(df) <87601 :\n",
    "        print(i + ' len = '+str(len(df)))"
   ]
  },
  {
   "cell_type": "code",
   "execution_count": 31,
   "id": "0d985bbf",
   "metadata": {},
   "outputs": [
    {
     "data": {
      "text/html": [
       "<div>\n",
       "<style scoped>\n",
       "    .dataframe tbody tr th:only-of-type {\n",
       "        vertical-align: middle;\n",
       "    }\n",
       "\n",
       "    .dataframe tbody tr th {\n",
       "        vertical-align: top;\n",
       "    }\n",
       "\n",
       "    .dataframe thead th {\n",
       "        text-align: right;\n",
       "    }\n",
       "</style>\n",
       "<table border=\"1\" class=\"dataframe\">\n",
       "  <thead>\n",
       "    <tr style=\"text-align: right;\">\n",
       "      <th></th>\n",
       "      <th>volume</th>\n",
       "      <th>coll_area</th>\n",
       "      <th>flow_rate</th>\n",
       "      <th>design_case</th>\n",
       "      <th>r_level</th>\n",
       "    </tr>\n",
       "  </thead>\n",
       "  <tbody>\n",
       "    <tr>\n",
       "      <th>262</th>\n",
       "      <td>0.2</td>\n",
       "      <td>8.0</td>\n",
       "      <td>100</td>\n",
       "      <td>PVT_Batt_6</td>\n",
       "      <td>r1</td>\n",
       "    </tr>\n",
       "  </tbody>\n",
       "</table>\n",
       "</div>"
      ],
      "text/plain": [
       "     volume  coll_area  flow_rate design_case r_level\n",
       "262     0.2        8.0        100  PVT_Batt_6      r1"
      ]
     },
     "execution_count": 31,
     "metadata": {},
     "output_type": "execute_result"
    }
   ],
   "source": [
    "slice_list = [262]\n",
    "df2 = dfnew.iloc[dfnew.index.isin(slice_list)]\n",
    "df2"
   ]
  },
  {
   "cell_type": "code",
   "execution_count": 32,
   "id": "8deaf82e",
   "metadata": {},
   "outputs": [],
   "source": [
    "df2.to_csv('missed_sims2.csv',index_label='label')"
   ]
  },
  {
   "cell_type": "code",
   "execution_count": 24,
   "id": "9616083d",
   "metadata": {},
   "outputs": [
    {
     "data": {
      "text/plain": [
       "163"
      ]
     },
     "execution_count": 24,
     "metadata": {},
     "output_type": "execute_result"
    }
   ],
   "source": [
    "sim_results = pd.read_csv('sim_results.csv')\n",
    "sim_results['lab'] = sim_results['lab'].astype(int)\n",
    "len(sim_results)"
   ]
  },
  {
   "cell_type": "code",
   "execution_count": 17,
   "id": "99768ab6",
   "metadata": {},
   "outputs": [
    {
     "data": {
      "text/plain": [
       "107"
      ]
     },
     "execution_count": 17,
     "metadata": {},
     "output_type": "execute_result"
    }
   ],
   "source": [
    "dfnew.index[107]"
   ]
  },
  {
   "cell_type": "code",
   "execution_count": 45,
   "id": "da8f7ffe",
   "metadata": {},
   "outputs": [
    {
     "data": {
      "text/plain": [
       "[164, 165, 150]"
      ]
     },
     "execution_count": 45,
     "metadata": {},
     "output_type": "execute_result"
    }
   ],
   "source": [
    "x = list(sim_results['lab'])\n",
    "y = list(dfnew.index)\n",
    "list(set(y)-set(x))"
   ]
  }
 ],
 "metadata": {
  "kernelspec": {
   "display_name": "Python 3",
   "language": "python",
   "name": "python3"
  },
  "language_info": {
   "codemirror_mode": {
    "name": "ipython",
    "version": 3
   },
   "file_extension": ".py",
   "mimetype": "text/x-python",
   "name": "python",
   "nbconvert_exporter": "python",
   "pygments_lexer": "ipython3",
   "version": "3.8.8"
  }
 },
 "nbformat": 4,
 "nbformat_minor": 5
}
