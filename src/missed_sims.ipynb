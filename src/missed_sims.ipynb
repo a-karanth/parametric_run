{
 "cells": [
  {
   "cell_type": "code",
   "execution_count": 1,
   "id": "08ced2e6",
   "metadata": {},
   "outputs": [],
   "source": [
    "import os\n",
    "directory = os.getcwd()\n",
    "sample_folder = '\\\\res'\n",
    "res_folder = '\\\\res\\\\trn'\n",
    "os.chdir(directory+res_folder)"
   ]
  },
  {
   "cell_type": "code",
   "execution_count": 38,
   "id": "87b01918",
   "metadata": {},
   "outputs": [
    {
     "name": "stdout",
     "output_type": "stream",
     "text": [
      "2583\n",
      "861\n"
     ]
    }
   ],
   "source": [
    "import numpy as np\n",
    "import pandas as pd\n",
    "test = os.listdir()\n",
    "avl_labels_og = [] # avaliable labels in the \n",
    "for i in test:\n",
    "    if '_temp_flow' in i:\n",
    "        prefix = i[:-14]\n",
    "    elif '_control_signal' in i:\n",
    "        prefix = i[:-19]\n",
    "    elif '_energy' in i:\n",
    "        prefix = i[:-11]\n",
    "    else:\n",
    "        continue\n",
    "    avl_labels_og.append(prefix)\n",
    "print(len(avl_labels_og))        \n",
    "avl_labels_og = np.array(avl_labels_og)\n",
    "avl_labels_og = np.unique(avl_labels_og)\n",
    "print(len(avl_labels_og))"
   ]
  },
  {
   "cell_type": "code",
   "execution_count": 33,
   "id": "f135f02f",
   "metadata": {},
   "outputs": [
    {
     "name": "stdout",
     "output_type": "stream",
     "text": [
      "[]\n"
     ]
    },
    {
     "data": {
      "text/html": [
       "<div>\n",
       "<style scoped>\n",
       "    .dataframe tbody tr th:only-of-type {\n",
       "        vertical-align: middle;\n",
       "    }\n",
       "\n",
       "    .dataframe tbody tr th {\n",
       "        vertical-align: top;\n",
       "    }\n",
       "\n",
       "    .dataframe thead th {\n",
       "        text-align: right;\n",
       "    }\n",
       "</style>\n",
       "<table border=\"1\" class=\"dataframe\">\n",
       "  <thead>\n",
       "    <tr style=\"text-align: right;\">\n",
       "      <th></th>\n",
       "    </tr>\n",
       "  </thead>\n",
       "  <tbody>\n",
       "  </tbody>\n",
       "</table>\n",
       "</div>"
      ],
      "text/plain": [
       "Empty DataFrame\n",
       "Columns: []\n",
       "Index: []"
      ]
     },
     "execution_count": 33,
     "metadata": {},
     "output_type": "execute_result"
    }
   ],
   "source": [
    "import pandas as pd\n",
    "\n",
    "# compare with current_list and flag the ones that have been completely missed\n",
    "# Add these values to the repeat dataframe\n",
    "# To check with indiecs of current list, labels have to be converted to numeric values, especially labels with _cp\n",
    "\n",
    "repeat = pd.DataFrame()\n",
    "current = pd.read_csv('..\\\\current_list.csv', header=0, index_col=0)\n",
    "#current = pd.read_csv('..\\\\redo.csv', header=0, index_col=0)\n",
    "current_index = current.index.astype(str)\n",
    "\n",
    "avl_labels = np.array([''.join(filter(str.isdigit, s)) for s in avl_labels_og])\n",
    "\n",
    "missing = list(set(current_index)-set(avl_labels))\n",
    "print(missing)\n",
    "\n",
    "for i in missing:\n",
    "    repeat = repeat.append(current.loc[int(i)])\n",
    "repeat"
   ]
  },
  {
   "cell_type": "code",
   "execution_count": 34,
   "id": "c2450aaf",
   "metadata": {},
   "outputs": [
    {
     "data": {
      "text/plain": [
       "12"
      ]
     },
     "execution_count": 34,
     "metadata": {},
     "output_type": "execute_result"
    }
   ],
   "source": [
    "# if redo.cs is read, the labels can be converted to string. But the postfix _cp has to \n",
    "# added to the ones with design_case cp\n",
    "# then the missing values labels are removed from the redo labels list\n",
    "read_file = '..\\\\redo.csv'\n",
    "inp = pd.read_csv(read_file, header=0,index_col=0)\n",
    "\n",
    "if 'redo' in read_file:\n",
    "    redo_labels = []\n",
    "    for i in inp.index:\n",
    "        if 'cp' in inp['design_case'][i]:\n",
    "            redo_labels.append(str(i)+'_cp')\n",
    "        else:\n",
    "            redo_labels.append(str(i))\n",
    "        avl_labels_og = list(set(redo_labels)-set(missing))\n",
    "len(avl_labels_og)"
   ]
  },
  {
   "cell_type": "code",
   "execution_count": 35,
   "id": "2bc3b5e5",
   "metadata": {},
   "outputs": [
    {
     "data": {
      "text/plain": [
       "['791',\n",
       " '766',\n",
       " '482',\n",
       " '729',\n",
       " '808',\n",
       " '853',\n",
       " '733',\n",
       " '854',\n",
       " '795',\n",
       " '856',\n",
       " '794',\n",
       " '815']"
      ]
     },
     "execution_count": 35,
     "metadata": {},
     "output_type": "execute_result"
    }
   ],
   "source": [
    "avl_labels_og"
   ]
  },
  {
   "cell_type": "code",
   "execution_count": 40,
   "id": "4f58f7a8",
   "metadata": {},
   "outputs": [
    {
     "name": "stdout",
     "output_type": "stream",
     "text": [
      "793 len = 87601\n"
     ]
    },
    {
     "data": {
      "text/html": [
       "<div>\n",
       "<style scoped>\n",
       "    .dataframe tbody tr th:only-of-type {\n",
       "        vertical-align: middle;\n",
       "    }\n",
       "\n",
       "    .dataframe tbody tr th {\n",
       "        vertical-align: top;\n",
       "    }\n",
       "\n",
       "    .dataframe thead th {\n",
       "        text-align: right;\n",
       "    }\n",
       "</style>\n",
       "<table border=\"1\" class=\"dataframe\">\n",
       "  <thead>\n",
       "    <tr style=\"text-align: right;\">\n",
       "      <th></th>\n",
       "      <th>coll_area</th>\n",
       "      <th>design_case</th>\n",
       "      <th>flow_factor</th>\n",
       "      <th>flow_rate</th>\n",
       "      <th>inf</th>\n",
       "      <th>r_level</th>\n",
       "      <th>volume</th>\n",
       "    </tr>\n",
       "  </thead>\n",
       "  <tbody>\n",
       "    <tr>\n",
       "      <th>793</th>\n",
       "      <td>16.0</td>\n",
       "      <td>ASHP</td>\n",
       "      <td>0.0</td>\n",
       "      <td>0.0</td>\n",
       "      <td>0.4</td>\n",
       "      <td>r1</td>\n",
       "      <td>0.2</td>\n",
       "    </tr>\n",
       "  </tbody>\n",
       "</table>\n",
       "</div>"
      ],
      "text/plain": [
       "     coll_area design_case  flow_factor  flow_rate  inf r_level  volume\n",
       "793       16.0        ASHP          0.0        0.0  0.4      r1     0.2"
      ]
     },
     "execution_count": 40,
     "metadata": {},
     "output_type": "execute_result"
    }
   ],
   "source": [
    "# check length of all files and flag the onces that are incomplete\n",
    "\n",
    "read_file = 'list_of_inputs.csv'\n",
    "#read_file = '..\\\\redo.csv'\n",
    "inp = pd.read_csv(read_file, header=0,index_col=0)\n",
    "\n",
    "for i in avl_labels_og:\n",
    "    #print(i+'_control_signal.txt')\n",
    "    df = pd.read_csv(i+'_control_signal.txt', delimiter=',',index_col=0) \n",
    "    df2 = pd.read_csv(i+'_temp_flow.txt', delimiter=',',index_col=0) \n",
    "    df3 = pd.read_csv(i+'_energy.txt', delimiter=',',index_col=0) \n",
    "    if (len(df) <87601 or len(df2) <87601 or len(df3) <87601) :\n",
    "        print(i + ' len = '+str(len(df)))\n",
    "        j = ''.join([char for char in i if char.isdigit()])\n",
    "        repeat = repeat.append(inp.loc[int(j)])\n",
    "repeat"
   ]
  },
  {
   "cell_type": "code",
   "execution_count": 37,
   "id": "3829646b",
   "metadata": {},
   "outputs": [
    {
     "data": {
      "text/plain": [
       "0"
      ]
     },
     "execution_count": 37,
     "metadata": {},
     "output_type": "execute_result"
    }
   ],
   "source": [
    "len(repeat)"
   ]
  },
  {
   "cell_type": "code",
   "execution_count": 19,
   "id": "df06a534",
   "metadata": {},
   "outputs": [
    {
     "data": {
      "text/plain": [
       "['7']"
      ]
     },
     "execution_count": 19,
     "metadata": {},
     "output_type": "execute_result"
    }
   ],
   "source": [
    "#trial of difference using sets\n",
    "\n",
    "a = ['1','2','3','4','5_cp','6_cp']\n",
    "a2 = np.array([''.join(filter(str.isdigit, s)) for s in a])\n",
    "b = ['1','2','3','4','5','7']\n",
    "\n",
    "list(set(b)-set(a2))"
   ]
  },
  {
   "cell_type": "code",
   "execution_count": 41,
   "id": "18f34a2a",
   "metadata": {},
   "outputs": [],
   "source": [
    "repeat.to_csv('..\\\\redo.csv',index_label='label')"
   ]
  },
  {
   "cell_type": "code",
   "execution_count": 26,
   "id": "908858c4",
   "metadata": {},
   "outputs": [
    {
     "data": {
      "text/plain": [
       "['482',\n",
       " '729',\n",
       " '733',\n",
       " '766',\n",
       " '791',\n",
       " '794',\n",
       " '795',\n",
       " '808',\n",
       " '815',\n",
       " '853',\n",
       " '854',\n",
       " '856']"
      ]
     },
     "execution_count": 26,
     "metadata": {},
     "output_type": "execute_result"
    }
   ],
   "source": [
    "# make labels in the repeat dataframe, to delete the input files from the directories\n",
    "labels = []\n",
    "for i in repeat.index:\n",
    "    if repeat.loc[i]['design_case']== 'cp_PV':\n",
    "        labels.append(str(i)+'_cp')\n",
    "    else:\n",
    "        labels.append(str(i))\n",
    "labels"
   ]
  },
  {
   "cell_type": "code",
   "execution_count": 29,
   "id": "2a07496e",
   "metadata": {},
   "outputs": [],
   "source": [
    "# delete the input files that correspond with repeat labels\n",
    "house_folder = '..\\\\..\\\\house_and_backup'\n",
    "backup_folder = '..\\\\..\\\\house_and_backup\\\\backup'\n",
    "\n",
    "hfiles = os.listdir(house_folder)\n",
    "bfiles = os.listdir(backup_folder)\n",
    "\n",
    "# Iterate through the files and delete files with numbers from the list\n",
    "for file in hfiles:\n",
    "    for number in labels:\n",
    "        if number in file:\n",
    "            file_path = os.path.join(house_folder, file)\n",
    "            os.remove(file_path)\n",
    "\n",
    "for file in bfiles:\n",
    "    for number in labels:\n",
    "        if number in file:\n",
    "            file_path = os.path.join(backup_folder, file)\n",
    "            os.remove(file_path)"
   ]
  },
  {
   "cell_type": "code",
   "execution_count": 55,
   "id": "5e8b51cc",
   "metadata": {},
   "outputs": [
    {
     "data": {
      "text/html": [
       "<div>\n",
       "<style scoped>\n",
       "    .dataframe tbody tr th:only-of-type {\n",
       "        vertical-align: middle;\n",
       "    }\n",
       "\n",
       "    .dataframe tbody tr th {\n",
       "        vertical-align: top;\n",
       "    }\n",
       "\n",
       "    .dataframe thead th {\n",
       "        text-align: right;\n",
       "    }\n",
       "</style>\n",
       "<table border=\"1\" class=\"dataframe\">\n",
       "  <thead>\n",
       "    <tr style=\"text-align: right;\">\n",
       "      <th></th>\n",
       "    </tr>\n",
       "  </thead>\n",
       "  <tbody>\n",
       "  </tbody>\n",
       "</table>\n",
       "</div>"
      ],
      "text/plain": [
       "Empty DataFrame\n",
       "Columns: []\n",
       "Index: []"
      ]
     },
     "execution_count": 55,
     "metadata": {},
     "output_type": "execute_result"
    }
   ],
   "source": [
    "# check length of file from missed sims list and flag the onces that are incomplete\n",
    "os.chdir(directory+res_folder)\n",
    "import pandas as pd\n",
    "repeat = pd.DataFrame()\n",
    "inp = pd.read_csv('..\\\\redo.csv', header=0, index_col=0)\n",
    "for i in inp.index:\n",
    "    df = pd.read_csv(str(i)+'_control_signal.txt', delimiter=',',index_col=0) \n",
    "    if len(df) <87601 :\n",
    "        print(str(i) + ' len = '+str(len(df)))\n",
    "        #j = ''.join([char for char in i if char.isdigit()])\n",
    "        repeat = repeat.append(inp.loc[int(i)])\n",
    "repeat"
   ]
  },
  {
   "cell_type": "code",
   "execution_count": 55,
   "id": "a1ea16c0",
   "metadata": {},
   "outputs": [
    {
     "data": {
      "text/plain": [
       "['lhs_sample_1.csv',\n",
       " 'morris_sample_batt1.csv',\n",
       " 'morris_sample_cp.csv',\n",
       " 'morris_sample_cp2.csv',\n",
       " 'morris_sample_cp3.csv',\n",
       " 'morris_sample_pvt.csv',\n",
       " 'morris_sample_pvt2.csv',\n",
       " 'morris_sample_pvt3.csv',\n",
       " 'morris_sample_pvt4.csv',\n",
       " 'morris_sample_st.csv',\n",
       " 'morris_sample_st2.csv',\n",
       " 'morris_sample_st3.csv',\n",
       " 'morris_sample_st4.csv']"
      ]
     },
     "execution_count": 55,
     "metadata": {},
     "output_type": "execute_result"
    }
   ],
   "source": [
    "all_files = os.listdir('..')\n",
    "sample_files = []\n",
    "for file in all_files:\n",
    "    if 'sample' in file:\n",
    "        sample_files.append(file)\n",
    "sample_files"
   ]
  },
  {
   "cell_type": "code",
   "execution_count": 42,
   "id": "8deaf82e",
   "metadata": {},
   "outputs": [],
   "source": [
    "slice_list = [356]\n",
    "df2 = dfnew.iloc[dfnew.index.isin(slice_list)]\n",
    "df2"
   ]
  }
 ],
 "metadata": {
  "kernelspec": {
   "display_name": "Python 3",
   "language": "python",
   "name": "python3"
  },
  "language_info": {
   "codemirror_mode": {
    "name": "ipython",
    "version": 3
   },
   "file_extension": ".py",
   "mimetype": "text/x-python",
   "name": "python",
   "nbconvert_exporter": "python",
   "pygments_lexer": "ipython3",
   "version": "3.8.8"
  }
 },
 "nbformat": 4,
 "nbformat_minor": 5
}
