{
 "cells": [
  {
   "cell_type": "code",
   "execution_count": 1,
   "id": "08ced2e6",
   "metadata": {},
   "outputs": [],
   "source": [
    "import os\n",
    "directory = os.getcwd()\n",
    "sample_folder = '\\\\res'\n",
    "res_folder = '\\\\res\\\\trn'\n",
    "os.chdir(directory+res_folder)"
   ]
  },
  {
   "cell_type": "code",
   "execution_count": 29,
   "id": "87b01918",
   "metadata": {},
   "outputs": [
    {
     "name": "stdout",
     "output_type": "stream",
     "text": [
      "498\n",
      "166\n"
     ]
    },
    {
     "data": {
      "text/plain": [
       "array(['0', '1', '10', '100', '101', '102', '103', '104', '105', '106',\n",
       "       '107', '108', '109', '11', '110', '111', '112', '113', '114',\n",
       "       '115', '116', '117', '118', '119', '12', '120', '121', '122',\n",
       "       '123', '124', '125', '126', '127', '128', '129', '13', '130',\n",
       "       '131', '132', '133', '134', '135', '136', '137', '138', '139',\n",
       "       '14', '140', '141', '142', '143', '144', '145', '146', '147',\n",
       "       '148', '149', '15', '150', '151', '152', '153', '154', '155',\n",
       "       '156', '157', '158', '159', '16', '160', '161', '162', '163',\n",
       "       '164', '165', '17', '18', '19', '2', '20', '21', '22', '23', '24',\n",
       "       '25', '26', '27', '28', '29', '3', '30', '31', '32', '33', '34',\n",
       "       '35', '36', '37', '38', '39', '4', '40', '41', '42', '43', '44',\n",
       "       '45', '46', '47', '48', '49', '5', '50', '51', '52', '53', '54',\n",
       "       '55', '56', '57', '58', '59', '6', '60', '61', '62', '63', '64',\n",
       "       '65', '66', '67', '68', '69', '7', '70', '71', '72', '73', '74',\n",
       "       '75', '76', '77', '78', '79', '8', '80', '81', '82', '83', '84',\n",
       "       '85', '86', '87', '88', '89', '9', '90', '91', '92', '93', '94',\n",
       "       '95', '96', '97', '98', '99'], dtype='<U3')"
      ]
     },
     "execution_count": 29,
     "metadata": {},
     "output_type": "execute_result"
    }
   ],
   "source": [
    "import numpy as np\n",
    "import pandas as pd\n",
    "test = os.listdir()\n",
    "avl_labels = [] # avaliable labels in the \n",
    "for i in test:\n",
    "    if '_temp_flow' in i:\n",
    "        prefix = i[:-14]\n",
    "    elif '_control_signal' in i:\n",
    "        prefix = i[:-19]\n",
    "    elif '_energy' in i:\n",
    "        prefix = i[:-11]\n",
    "    else:\n",
    "        continue\n",
    "    avl_labels.append(prefix)\n",
    "print(len(avl_labels))        \n",
    "avl_labels = np.array(avl_labels)\n",
    "avl_labels = np.unique(avl_labels)\n",
    "print(len(avl_labels))\n",
    "avl_labels"
   ]
  },
  {
   "cell_type": "code",
   "execution_count": 8,
   "id": "5b1f90a4",
   "metadata": {},
   "outputs": [
    {
     "data": {
      "text/html": [
       "<div>\n",
       "<style scoped>\n",
       "    .dataframe tbody tr th:only-of-type {\n",
       "        vertical-align: middle;\n",
       "    }\n",
       "\n",
       "    .dataframe tbody tr th {\n",
       "        vertical-align: top;\n",
       "    }\n",
       "\n",
       "    .dataframe thead th {\n",
       "        text-align: right;\n",
       "    }\n",
       "</style>\n",
       "<table border=\"1\" class=\"dataframe\">\n",
       "  <thead>\n",
       "    <tr style=\"text-align: right;\">\n",
       "      <th></th>\n",
       "      <th>volume</th>\n",
       "      <th>coll_area</th>\n",
       "      <th>flow_rate</th>\n",
       "      <th>design_case</th>\n",
       "      <th>r_level</th>\n",
       "    </tr>\n",
       "  </thead>\n",
       "  <tbody>\n",
       "    <tr>\n",
       "      <th>0</th>\n",
       "      <td>0.4</td>\n",
       "      <td>8</td>\n",
       "      <td>200</td>\n",
       "      <td>ST</td>\n",
       "      <td>r0</td>\n",
       "    </tr>\n",
       "    <tr>\n",
       "      <th>1</th>\n",
       "      <td>0.2</td>\n",
       "      <td>8</td>\n",
       "      <td>200</td>\n",
       "      <td>ST</td>\n",
       "      <td>r0</td>\n",
       "    </tr>\n",
       "    <tr>\n",
       "      <th>2</th>\n",
       "      <td>0.2</td>\n",
       "      <td>20</td>\n",
       "      <td>200</td>\n",
       "      <td>ST</td>\n",
       "      <td>r0</td>\n",
       "    </tr>\n",
       "    <tr>\n",
       "      <th>3</th>\n",
       "      <td>0.2</td>\n",
       "      <td>20</td>\n",
       "      <td>100</td>\n",
       "      <td>ST</td>\n",
       "      <td>r0</td>\n",
       "    </tr>\n",
       "    <tr>\n",
       "      <th>4</th>\n",
       "      <td>0.1</td>\n",
       "      <td>8</td>\n",
       "      <td>100</td>\n",
       "      <td>ST</td>\n",
       "      <td>r0</td>\n",
       "    </tr>\n",
       "    <tr>\n",
       "      <th>...</th>\n",
       "      <td>...</td>\n",
       "      <td>...</td>\n",
       "      <td>...</td>\n",
       "      <td>...</td>\n",
       "      <td>...</td>\n",
       "    </tr>\n",
       "    <tr>\n",
       "      <th>81</th>\n",
       "      <td>0.4</td>\n",
       "      <td>16</td>\n",
       "      <td>200</td>\n",
       "      <td>PVT</td>\n",
       "      <td>r0</td>\n",
       "    </tr>\n",
       "    <tr>\n",
       "      <th>82</th>\n",
       "      <td>0.1</td>\n",
       "      <td>8</td>\n",
       "      <td>200</td>\n",
       "      <td>PVT</td>\n",
       "      <td>r0</td>\n",
       "    </tr>\n",
       "    <tr>\n",
       "      <th>83</th>\n",
       "      <td>0.4</td>\n",
       "      <td>16</td>\n",
       "      <td>50</td>\n",
       "      <td>PVT</td>\n",
       "      <td>r0</td>\n",
       "    </tr>\n",
       "    <tr>\n",
       "      <th>84</th>\n",
       "      <td>0.2</td>\n",
       "      <td>16</td>\n",
       "      <td>50</td>\n",
       "      <td>PVT</td>\n",
       "      <td>r0</td>\n",
       "    </tr>\n",
       "    <tr>\n",
       "      <th>85</th>\n",
       "      <td>0.3</td>\n",
       "      <td>16</td>\n",
       "      <td>200</td>\n",
       "      <td>PVT</td>\n",
       "      <td>r0</td>\n",
       "    </tr>\n",
       "  </tbody>\n",
       "</table>\n",
       "<p>86 rows × 5 columns</p>\n",
       "</div>"
      ],
      "text/plain": [
       "    volume  coll_area  flow_rate design_case r_level\n",
       "0      0.4          8        200          ST      r0\n",
       "1      0.2          8        200          ST      r0\n",
       "2      0.2         20        200          ST      r0\n",
       "3      0.2         20        100          ST      r0\n",
       "4      0.1          8        100          ST      r0\n",
       "..     ...        ...        ...         ...     ...\n",
       "81     0.4         16        200         PVT      r0\n",
       "82     0.1          8        200         PVT      r0\n",
       "83     0.4         16         50         PVT      r0\n",
       "84     0.2         16         50         PVT      r0\n",
       "85     0.3         16        200         PVT      r0\n",
       "\n",
       "[86 rows x 5 columns]"
      ]
     },
     "execution_count": 8,
     "metadata": {},
     "output_type": "execute_result"
    }
   ],
   "source": [
    "os.chdir(directory + sample_folder)\n",
    "#previous = np.arange(86)\n",
    "#previous = previous.astype(str)\n",
    "#previous = pd.DataFrame(previous, columns=['label'])\n",
    "df3 = pd.read_csv('morris_st_sample.csv')\n",
    "df4 = pd.read_csv('morris_pvt_sample.csv')\n",
    "previous = pd.concat([df3,df4], ignore_index=True)\n",
    "previous = previous.drop_duplicates(ignore_index=True)\n",
    "previous"
   ]
  },
  {
   "cell_type": "code",
   "execution_count": 9,
   "id": "67fd1216",
   "metadata": {
    "scrolled": true
   },
   "outputs": [
    {
     "data": {
      "text/html": [
       "<div>\n",
       "<style scoped>\n",
       "    .dataframe tbody tr th:only-of-type {\n",
       "        vertical-align: middle;\n",
       "    }\n",
       "\n",
       "    .dataframe tbody tr th {\n",
       "        vertical-align: top;\n",
       "    }\n",
       "\n",
       "    .dataframe thead th {\n",
       "        text-align: right;\n",
       "    }\n",
       "</style>\n",
       "<table border=\"1\" class=\"dataframe\">\n",
       "  <thead>\n",
       "    <tr style=\"text-align: right;\">\n",
       "      <th></th>\n",
       "      <th>volume</th>\n",
       "      <th>coll_area</th>\n",
       "      <th>flow_rate</th>\n",
       "      <th>r_level</th>\n",
       "      <th>design_case</th>\n",
       "    </tr>\n",
       "  </thead>\n",
       "  <tbody>\n",
       "    <tr>\n",
       "      <th>86</th>\n",
       "      <td>0.4</td>\n",
       "      <td>20</td>\n",
       "      <td>50</td>\n",
       "      <td>r1</td>\n",
       "      <td>ST</td>\n",
       "    </tr>\n",
       "    <tr>\n",
       "      <th>87</th>\n",
       "      <td>0.2</td>\n",
       "      <td>20</td>\n",
       "      <td>50</td>\n",
       "      <td>r1</td>\n",
       "      <td>ST</td>\n",
       "    </tr>\n",
       "    <tr>\n",
       "      <th>88</th>\n",
       "      <td>0.2</td>\n",
       "      <td>20</td>\n",
       "      <td>100</td>\n",
       "      <td>r1</td>\n",
       "      <td>ST</td>\n",
       "    </tr>\n",
       "    <tr>\n",
       "      <th>89</th>\n",
       "      <td>0.2</td>\n",
       "      <td>8</td>\n",
       "      <td>100</td>\n",
       "      <td>r1</td>\n",
       "      <td>ST</td>\n",
       "    </tr>\n",
       "    <tr>\n",
       "      <th>90</th>\n",
       "      <td>0.1</td>\n",
       "      <td>8</td>\n",
       "      <td>200</td>\n",
       "      <td>r1</td>\n",
       "      <td>ST</td>\n",
       "    </tr>\n",
       "    <tr>\n",
       "      <th>...</th>\n",
       "      <td>...</td>\n",
       "      <td>...</td>\n",
       "      <td>...</td>\n",
       "      <td>...</td>\n",
       "      <td>...</td>\n",
       "    </tr>\n",
       "    <tr>\n",
       "      <th>161</th>\n",
       "      <td>0.4</td>\n",
       "      <td>20</td>\n",
       "      <td>200</td>\n",
       "      <td>r1</td>\n",
       "      <td>PVT</td>\n",
       "    </tr>\n",
       "    <tr>\n",
       "      <th>162</th>\n",
       "      <td>0.4</td>\n",
       "      <td>20</td>\n",
       "      <td>100</td>\n",
       "      <td>r1</td>\n",
       "      <td>PVT</td>\n",
       "    </tr>\n",
       "    <tr>\n",
       "      <th>163</th>\n",
       "      <td>0.4</td>\n",
       "      <td>8</td>\n",
       "      <td>50</td>\n",
       "      <td>r0</td>\n",
       "      <td>PVT</td>\n",
       "    </tr>\n",
       "    <tr>\n",
       "      <th>164</th>\n",
       "      <td>0.1</td>\n",
       "      <td>16</td>\n",
       "      <td>200</td>\n",
       "      <td>r1</td>\n",
       "      <td>PVT</td>\n",
       "    </tr>\n",
       "    <tr>\n",
       "      <th>165</th>\n",
       "      <td>0.1</td>\n",
       "      <td>4</td>\n",
       "      <td>200</td>\n",
       "      <td>r1</td>\n",
       "      <td>PVT</td>\n",
       "    </tr>\n",
       "  </tbody>\n",
       "</table>\n",
       "<p>80 rows × 5 columns</p>\n",
       "</div>"
      ],
      "text/plain": [
       "     volume  coll_area  flow_rate r_level design_case\n",
       "86      0.4         20         50      r1          ST\n",
       "87      0.2         20         50      r1          ST\n",
       "88      0.2         20        100      r1          ST\n",
       "89      0.2          8        100      r1          ST\n",
       "90      0.1          8        200      r1          ST\n",
       "..      ...        ...        ...     ...         ...\n",
       "161     0.4         20        200      r1         PVT\n",
       "162     0.4         20        100      r1         PVT\n",
       "163     0.4          8         50      r0         PVT\n",
       "164     0.1         16        200      r1         PVT\n",
       "165     0.1          4        200      r1         PVT\n",
       "\n",
       "[80 rows x 5 columns]"
      ]
     },
     "execution_count": 9,
     "metadata": {},
     "output_type": "execute_result"
    }
   ],
   "source": [
    "df1 = pd.read_csv('morris_st_sample2.csv')\n",
    "df2 = pd.read_csv('morris_pvt_sample2.csv')\n",
    "df3 = pd.read_csv('morris_st_sample.csv')\n",
    "df4 = pd.read_csv('morris_pvt_sample.csv')\n",
    "dfnew = pd.concat([df1,df2,df3,df4])\n",
    "\n",
    "dfnew.index = np.arange(len(dfnew))\n",
    "dfnew = dfnew.drop_duplicates()\n",
    "dfnew.index = np.arange(len(dfnew))\n",
    "current_list = pd.merge(dfnew, previous, how='outer', indicator=True)\n",
    "current_list = current_list[current_list['_merge'] == 'left_only']\n",
    "current_list.drop(columns=['_merge'], inplace=True)\n",
    "current_list.index = np.arange(86, 86+len(current_list))\n",
    "current_list"
   ]
  },
  {
   "cell_type": "code",
   "execution_count": 10,
   "id": "404a5981",
   "metadata": {},
   "outputs": [
    {
     "data": {
      "text/plain": [
       "Index(['0', '1', '2', '3', '4', '5', '6', '7', '8', '9',\n",
       "       ...\n",
       "       '156', '157', '158', '159', '160', '161', '162', '163', '164', '165'],\n",
       "      dtype='object', length=166)"
      ]
     },
     "execution_count": 10,
     "metadata": {},
     "output_type": "execute_result"
    }
   ],
   "source": [
    "total_labels = pd.concat([previous,current_list], ignore_index=False).index\n",
    "total_labels=total_labels.astype(str)\n",
    "total_labels"
   ]
  },
  {
   "cell_type": "code",
   "execution_count": 31,
   "id": "d9c15be7",
   "metadata": {},
   "outputs": [
    {
     "data": {
      "text/plain": [
       "set()"
      ]
     },
     "execution_count": 31,
     "metadata": {},
     "output_type": "execute_result"
    }
   ],
   "source": [
    "set(total_labels)-set(avl_labels)"
   ]
  },
  {
   "cell_type": "code",
   "execution_count": 30,
   "id": "4f58f7a8",
   "metadata": {},
   "outputs": [],
   "source": [
    "# check length of all files and flag the onces that are incomplete\n",
    "os.chdir(directory+res_folder)\n",
    "import pandas as pd\n",
    "for i in avl_labels:\n",
    "    df = pd.read_csv(i+'_control_signal.txt', delimiter=',',index_col=0) \n",
    "    if len(df) <87601 :\n",
    "        print(i + ' len = '+str(len(df)))"
   ]
  },
  {
   "cell_type": "code",
   "execution_count": 28,
   "id": "0d985bbf",
   "metadata": {},
   "outputs": [
    {
     "data": {
      "text/plain": [
       "volume         0.4\n",
       "coll_area       20\n",
       "flow_rate      200\n",
       "r_level         r1\n",
       "design_case    PVT\n",
       "Name: 161, dtype: object"
      ]
     },
     "execution_count": 28,
     "metadata": {},
     "output_type": "execute_result"
    }
   ],
   "source": [
    "current_list.loc[161]"
   ]
  },
  {
   "cell_type": "code",
   "execution_count": 7,
   "id": "8deaf82e",
   "metadata": {},
   "outputs": [
    {
     "data": {
      "text/plain": [
       "166"
      ]
     },
     "execution_count": 7,
     "metadata": {},
     "output_type": "execute_result"
    }
   ],
   "source": [
    "len(dfnew)\n"
   ]
  },
  {
   "cell_type": "code",
   "execution_count": 55,
   "id": "aae2ca3a",
   "metadata": {},
   "outputs": [
    {
     "name": "stdout",
     "output_type": "stream",
     "text": [
      "160\n",
      "164\n",
      "166\n"
     ]
    }
   ],
   "source": [
    "print(len(df1))\n",
    "print(len(existing))\n",
    "print(len(dfnew))"
   ]
  },
  {
   "cell_type": "code",
   "execution_count": 54,
   "id": "d9672d5d",
   "metadata": {},
   "outputs": [
    {
     "name": "stdout",
     "output_type": "stream",
     "text": [
      "Index(['volume', 'coll_area', 'flow_rate', 'design_case', 'r_level'], dtype='object')\n",
      "Index(['volume', 'coll_area', 'flow_rate', 'r_level', 'design_case'], dtype='object')\n"
     ]
    }
   ],
   "source": [
    "print(existing.keys())\n",
    "print(dfnew.keys())"
   ]
  },
  {
   "cell_type": "code",
   "execution_count": 24,
   "id": "9616083d",
   "metadata": {},
   "outputs": [
    {
     "data": {
      "text/plain": [
       "163"
      ]
     },
     "execution_count": 24,
     "metadata": {},
     "output_type": "execute_result"
    }
   ],
   "source": [
    "sim_results = pd.read_csv('sim_results.csv')\n",
    "sim_results['lab'] = sim_results['lab'].astype(int)\n",
    "len(sim_results)"
   ]
  },
  {
   "cell_type": "code",
   "execution_count": 17,
   "id": "99768ab6",
   "metadata": {},
   "outputs": [
    {
     "data": {
      "text/plain": [
       "107"
      ]
     },
     "execution_count": 17,
     "metadata": {},
     "output_type": "execute_result"
    }
   ],
   "source": [
    "dfnew.index[107]"
   ]
  },
  {
   "cell_type": "code",
   "execution_count": 45,
   "id": "da8f7ffe",
   "metadata": {},
   "outputs": [
    {
     "data": {
      "text/plain": [
       "[164, 165, 150]"
      ]
     },
     "execution_count": 45,
     "metadata": {},
     "output_type": "execute_result"
    }
   ],
   "source": [
    "x = list(sim_results['lab'])\n",
    "y = list(dfnew.index)\n",
    "list(set(y)-set(x))"
   ]
  },
  {
   "cell_type": "code",
   "execution_count": 63,
   "id": "126bd024",
   "metadata": {},
   "outputs": [
    {
     "data": {
      "text/html": [
       "<div>\n",
       "<style scoped>\n",
       "    .dataframe tbody tr th:only-of-type {\n",
       "        vertical-align: middle;\n",
       "    }\n",
       "\n",
       "    .dataframe tbody tr th {\n",
       "        vertical-align: top;\n",
       "    }\n",
       "\n",
       "    .dataframe thead th {\n",
       "        text-align: right;\n",
       "    }\n",
       "</style>\n",
       "<table border=\"1\" class=\"dataframe\">\n",
       "  <thead>\n",
       "    <tr style=\"text-align: right;\">\n",
       "      <th></th>\n",
       "      <th>volume</th>\n",
       "      <th>coll_area</th>\n",
       "      <th>flow_rate</th>\n",
       "      <th>r_level</th>\n",
       "      <th>design_case</th>\n",
       "    </tr>\n",
       "  </thead>\n",
       "  <tbody>\n",
       "    <tr>\n",
       "      <th>150</th>\n",
       "      <td>0.1</td>\n",
       "      <td>4</td>\n",
       "      <td>50</td>\n",
       "      <td>r0</td>\n",
       "      <td>ST</td>\n",
       "    </tr>\n",
       "    <tr>\n",
       "      <th>151</th>\n",
       "      <td>0.3</td>\n",
       "      <td>4</td>\n",
       "      <td>50</td>\n",
       "      <td>r0</td>\n",
       "      <td>ST</td>\n",
       "    </tr>\n",
       "    <tr>\n",
       "      <th>152</th>\n",
       "      <td>0.2</td>\n",
       "      <td>16</td>\n",
       "      <td>200</td>\n",
       "      <td>r0</td>\n",
       "      <td>ST</td>\n",
       "    </tr>\n",
       "    <tr>\n",
       "      <th>153</th>\n",
       "      <td>0.3</td>\n",
       "      <td>8</td>\n",
       "      <td>200</td>\n",
       "      <td>r0</td>\n",
       "      <td>PVT</td>\n",
       "    </tr>\n",
       "    <tr>\n",
       "      <th>154</th>\n",
       "      <td>0.1</td>\n",
       "      <td>8</td>\n",
       "      <td>50</td>\n",
       "      <td>r0</td>\n",
       "      <td>PVT</td>\n",
       "    </tr>\n",
       "    <tr>\n",
       "      <th>155</th>\n",
       "      <td>0.3</td>\n",
       "      <td>20</td>\n",
       "      <td>50</td>\n",
       "      <td>r0</td>\n",
       "      <td>PVT</td>\n",
       "    </tr>\n",
       "    <tr>\n",
       "      <th>156</th>\n",
       "      <td>0.1</td>\n",
       "      <td>16</td>\n",
       "      <td>100</td>\n",
       "      <td>r0</td>\n",
       "      <td>PVT</td>\n",
       "    </tr>\n",
       "    <tr>\n",
       "      <th>157</th>\n",
       "      <td>0.1</td>\n",
       "      <td>16</td>\n",
       "      <td>50</td>\n",
       "      <td>r0</td>\n",
       "      <td>PVT</td>\n",
       "    </tr>\n",
       "    <tr>\n",
       "      <th>158</th>\n",
       "      <td>0.2</td>\n",
       "      <td>4</td>\n",
       "      <td>50</td>\n",
       "      <td>r0</td>\n",
       "      <td>PVT</td>\n",
       "    </tr>\n",
       "    <tr>\n",
       "      <th>159</th>\n",
       "      <td>0.3</td>\n",
       "      <td>16</td>\n",
       "      <td>50</td>\n",
       "      <td>r0</td>\n",
       "      <td>PVT</td>\n",
       "    </tr>\n",
       "    <tr>\n",
       "      <th>160</th>\n",
       "      <td>0.2</td>\n",
       "      <td>4</td>\n",
       "      <td>100</td>\n",
       "      <td>r0</td>\n",
       "      <td>PVT</td>\n",
       "    </tr>\n",
       "    <tr>\n",
       "      <th>161</th>\n",
       "      <td>0.4</td>\n",
       "      <td>20</td>\n",
       "      <td>200</td>\n",
       "      <td>r0</td>\n",
       "      <td>PVT</td>\n",
       "    </tr>\n",
       "    <tr>\n",
       "      <th>162</th>\n",
       "      <td>0.2</td>\n",
       "      <td>20</td>\n",
       "      <td>50</td>\n",
       "      <td>r0</td>\n",
       "      <td>PVT</td>\n",
       "    </tr>\n",
       "    <tr>\n",
       "      <th>163</th>\n",
       "      <td>0.1</td>\n",
       "      <td>4</td>\n",
       "      <td>50</td>\n",
       "      <td>r0</td>\n",
       "      <td>PVT</td>\n",
       "    </tr>\n",
       "    <tr>\n",
       "      <th>164</th>\n",
       "      <td>0.3</td>\n",
       "      <td>4</td>\n",
       "      <td>50</td>\n",
       "      <td>r0</td>\n",
       "      <td>PVT</td>\n",
       "    </tr>\n",
       "    <tr>\n",
       "      <th>165</th>\n",
       "      <td>0.2</td>\n",
       "      <td>16</td>\n",
       "      <td>200</td>\n",
       "      <td>r0</td>\n",
       "      <td>PVT</td>\n",
       "    </tr>\n",
       "  </tbody>\n",
       "</table>\n",
       "</div>"
      ],
      "text/plain": [
       "     volume  coll_area  flow_rate r_level design_case\n",
       "150     0.1          4         50      r0          ST\n",
       "151     0.3          4         50      r0          ST\n",
       "152     0.2         16        200      r0          ST\n",
       "153     0.3          8        200      r0         PVT\n",
       "154     0.1          8         50      r0         PVT\n",
       "155     0.3         20         50      r0         PVT\n",
       "156     0.1         16        100      r0         PVT\n",
       "157     0.1         16         50      r0         PVT\n",
       "158     0.2          4         50      r0         PVT\n",
       "159     0.3         16         50      r0         PVT\n",
       "160     0.2          4        100      r0         PVT\n",
       "161     0.4         20        200      r0         PVT\n",
       "162     0.2         20         50      r0         PVT\n",
       "163     0.1          4         50      r0         PVT\n",
       "164     0.3          4         50      r0         PVT\n",
       "165     0.2         16        200      r0         PVT"
      ]
     },
     "execution_count": 63,
     "metadata": {},
     "output_type": "execute_result"
    }
   ],
   "source": [
    "dfnew.iloc[150:166]"
   ]
  },
  {
   "cell_type": "code",
   "execution_count": 69,
   "id": "08aeaeec",
   "metadata": {},
   "outputs": [
    {
     "data": {
      "text/html": [
       "<div>\n",
       "<style scoped>\n",
       "    .dataframe tbody tr th:only-of-type {\n",
       "        vertical-align: middle;\n",
       "    }\n",
       "\n",
       "    .dataframe tbody tr th {\n",
       "        vertical-align: top;\n",
       "    }\n",
       "\n",
       "    .dataframe thead th {\n",
       "        text-align: right;\n",
       "    }\n",
       "</style>\n",
       "<table border=\"1\" class=\"dataframe\">\n",
       "  <thead>\n",
       "    <tr style=\"text-align: right;\">\n",
       "      <th></th>\n",
       "      <th>volume</th>\n",
       "      <th>coll_area</th>\n",
       "      <th>flow_rate</th>\n",
       "      <th>design_case</th>\n",
       "      <th>r_level</th>\n",
       "    </tr>\n",
       "  </thead>\n",
       "  <tbody>\n",
       "    <tr>\n",
       "      <th>30</th>\n",
       "      <td>0.4</td>\n",
       "      <td>20</td>\n",
       "      <td>200</td>\n",
       "      <td>ST</td>\n",
       "      <td>r0</td>\n",
       "    </tr>\n",
       "    <tr>\n",
       "      <th>31</th>\n",
       "      <td>0.2</td>\n",
       "      <td>8</td>\n",
       "      <td>100</td>\n",
       "      <td>ST</td>\n",
       "      <td>r0</td>\n",
       "    </tr>\n",
       "    <tr>\n",
       "      <th>32</th>\n",
       "      <td>0.2</td>\n",
       "      <td>20</td>\n",
       "      <td>50</td>\n",
       "      <td>ST</td>\n",
       "      <td>r0</td>\n",
       "    </tr>\n",
       "    <tr>\n",
       "      <th>33</th>\n",
       "      <td>0.4</td>\n",
       "      <td>20</td>\n",
       "      <td>50</td>\n",
       "      <td>ST</td>\n",
       "      <td>r0</td>\n",
       "    </tr>\n",
       "    <tr>\n",
       "      <th>34</th>\n",
       "      <td>0.3</td>\n",
       "      <td>16</td>\n",
       "      <td>100</td>\n",
       "      <td>ST</td>\n",
       "      <td>r0</td>\n",
       "    </tr>\n",
       "    <tr>\n",
       "      <th>35</th>\n",
       "      <td>0.1</td>\n",
       "      <td>4</td>\n",
       "      <td>50</td>\n",
       "      <td>ST</td>\n",
       "      <td>r0</td>\n",
       "    </tr>\n",
       "    <tr>\n",
       "      <th>36</th>\n",
       "      <td>0.3</td>\n",
       "      <td>4</td>\n",
       "      <td>50</td>\n",
       "      <td>ST</td>\n",
       "      <td>r0</td>\n",
       "    </tr>\n",
       "    <tr>\n",
       "      <th>37</th>\n",
       "      <td>0.2</td>\n",
       "      <td>16</td>\n",
       "      <td>200</td>\n",
       "      <td>ST</td>\n",
       "      <td>r0</td>\n",
       "    </tr>\n",
       "    <tr>\n",
       "      <th>38</th>\n",
       "      <td>0.4</td>\n",
       "      <td>16</td>\n",
       "      <td>200</td>\n",
       "      <td>ST</td>\n",
       "      <td>r0</td>\n",
       "    </tr>\n",
       "    <tr>\n",
       "      <th>39</th>\n",
       "      <td>0.1</td>\n",
       "      <td>8</td>\n",
       "      <td>200</td>\n",
       "      <td>ST</td>\n",
       "      <td>r0</td>\n",
       "    </tr>\n",
       "  </tbody>\n",
       "</table>\n",
       "</div>"
      ],
      "text/plain": [
       "    volume  coll_area  flow_rate design_case r_level\n",
       "30     0.4         20        200          ST      r0\n",
       "31     0.2          8        100          ST      r0\n",
       "32     0.2         20         50          ST      r0\n",
       "33     0.4         20         50          ST      r0\n",
       "34     0.3         16        100          ST      r0\n",
       "35     0.1          4         50          ST      r0\n",
       "36     0.3          4         50          ST      r0\n",
       "37     0.2         16        200          ST      r0\n",
       "38     0.4         16        200          ST      r0\n",
       "39     0.1          8        200          ST      r0"
      ]
     },
     "execution_count": 69,
     "metadata": {},
     "output_type": "execute_result"
    }
   ],
   "source": [
    "existing.iloc[30:40]"
   ]
  },
  {
   "cell_type": "code",
   "execution_count": 36,
   "id": "5c8d44b5",
   "metadata": {},
   "outputs": [
    {
     "data": {
      "text/plain": [
       "86"
      ]
     },
     "execution_count": 36,
     "metadata": {},
     "output_type": "execute_result"
    }
   ],
   "source": [
    "sobol_labels = []\n",
    "for i in range(len(df)):\n",
    "    sobol_labels.append(dfsobol['design_case'][i]+'_V'+str(dfsobol['volume'][i]).replace('.','_')+'_A'+str(dfsobol['coll_area'][i]))\n",
    "sobol_labels = np.array(sobol_labels)\n",
    "len(sobol_labels)"
   ]
  },
  {
   "cell_type": "code",
   "execution_count": 42,
   "id": "bc1789bb",
   "metadata": {},
   "outputs": [],
   "source": [
    "result = np.concatenate((labels, sobol_labels))"
   ]
  },
  {
   "cell_type": "code",
   "execution_count": 43,
   "id": "810e0b76",
   "metadata": {},
   "outputs": [
    {
     "data": {
      "text/plain": [
       "{'ST_V0_1_A16',\n",
       " 'ST_V0_1_A20',\n",
       " 'ST_V0_1_A8',\n",
       " 'ST_V0_2_A16',\n",
       " 'ST_V0_2_A20',\n",
       " 'ST_V0_2_A8',\n",
       " 'ST_V0_3_A16',\n",
       " 'ST_V0_3_A20',\n",
       " 'ST_V0_3_A8',\n",
       " 'ST_V0_4_A16',\n",
       " 'ST_V0_4_A20',\n",
       " 'ST_V0_4_A8'}"
      ]
     },
     "execution_count": 43,
     "metadata": {},
     "output_type": "execute_result"
    }
   ],
   "source": [
    "# missing samples from simulation results\n",
    "set(sobol_labels) - set(labels2)"
   ]
  },
  {
   "cell_type": "code",
   "execution_count": 33,
   "id": "97e950d2",
   "metadata": {},
   "outputs": [
    {
     "data": {
      "text/plain": [
       "86"
      ]
     },
     "execution_count": 33,
     "metadata": {},
     "output_type": "execute_result"
    }
   ],
   "source": [
    "sobol_label2 = dfsobol.drop_duplicates()\n",
    "len(sobol_label2)"
   ]
  },
  {
   "cell_type": "code",
   "execution_count": 26,
   "id": "3ccc32d0",
   "metadata": {},
   "outputs": [
    {
     "ename": "EmptyDataError",
     "evalue": "No columns to parse from file",
     "output_type": "error",
     "traceback": [
      "\u001b[1;31m---------------------------------------------------------------------------\u001b[0m",
      "\u001b[1;31mEmptyDataError\u001b[0m                            Traceback (most recent call last)",
      "\u001b[1;32m<ipython-input-26-54a4901e72c6>\u001b[0m in \u001b[0;36m<module>\u001b[1;34m\u001b[0m\n\u001b[0;32m      5\u001b[0m     \u001b[1;32mwith\u001b[0m \u001b[0mopen\u001b[0m\u001b[1;33m(\u001b[0m\u001b[1;34m'readme'\u001b[0m\u001b[1;33m+\u001b[0m\u001b[1;34m'.txt'\u001b[0m\u001b[1;33m,\u001b[0m \u001b[1;34m'w'\u001b[0m\u001b[1;33m)\u001b[0m \u001b[1;32mas\u001b[0m \u001b[0mf\u001b[0m\u001b[1;33m:\u001b[0m\u001b[1;33m\u001b[0m\u001b[1;33m\u001b[0m\u001b[0m\n\u001b[0;32m      6\u001b[0m         \u001b[0mf\u001b[0m\u001b[1;33m.\u001b[0m\u001b[0mclose\u001b[0m\u001b[1;33m(\u001b[0m\u001b[1;33m)\u001b[0m\u001b[1;33m\u001b[0m\u001b[1;33m\u001b[0m\u001b[0m\n\u001b[1;32m----> 7\u001b[1;33m \u001b[0mdf\u001b[0m \u001b[1;33m=\u001b[0m \u001b[0mpd\u001b[0m\u001b[1;33m.\u001b[0m\u001b[0mread_csv\u001b[0m\u001b[1;33m(\u001b[0m\u001b[1;34m'readme.txt'\u001b[0m\u001b[1;33m,\u001b[0m \u001b[0mdelimiter\u001b[0m\u001b[1;33m=\u001b[0m\u001b[1;34m'\\t'\u001b[0m\u001b[1;33m,\u001b[0m \u001b[0mheader\u001b[0m\u001b[1;33m=\u001b[0m\u001b[1;32mNone\u001b[0m\u001b[1;33m)\u001b[0m\u001b[1;33m\u001b[0m\u001b[1;33m\u001b[0m\u001b[0m\n\u001b[0m",
      "\u001b[1;32mC:\\ProgramData\\Anaconda3\\lib\\site-packages\\pandas\\io\\parsers.py\u001b[0m in \u001b[0;36mread_csv\u001b[1;34m(filepath_or_buffer, sep, delimiter, header, names, index_col, usecols, squeeze, prefix, mangle_dupe_cols, dtype, engine, converters, true_values, false_values, skipinitialspace, skiprows, skipfooter, nrows, na_values, keep_default_na, na_filter, verbose, skip_blank_lines, parse_dates, infer_datetime_format, keep_date_col, date_parser, dayfirst, cache_dates, iterator, chunksize, compression, thousands, decimal, lineterminator, quotechar, quoting, doublequote, escapechar, comment, encoding, dialect, error_bad_lines, warn_bad_lines, delim_whitespace, low_memory, memory_map, float_precision, storage_options)\u001b[0m\n\u001b[0;32m    608\u001b[0m     \u001b[0mkwds\u001b[0m\u001b[1;33m.\u001b[0m\u001b[0mupdate\u001b[0m\u001b[1;33m(\u001b[0m\u001b[0mkwds_defaults\u001b[0m\u001b[1;33m)\u001b[0m\u001b[1;33m\u001b[0m\u001b[1;33m\u001b[0m\u001b[0m\n\u001b[0;32m    609\u001b[0m \u001b[1;33m\u001b[0m\u001b[0m\n\u001b[1;32m--> 610\u001b[1;33m     \u001b[1;32mreturn\u001b[0m \u001b[0m_read\u001b[0m\u001b[1;33m(\u001b[0m\u001b[0mfilepath_or_buffer\u001b[0m\u001b[1;33m,\u001b[0m \u001b[0mkwds\u001b[0m\u001b[1;33m)\u001b[0m\u001b[1;33m\u001b[0m\u001b[1;33m\u001b[0m\u001b[0m\n\u001b[0m\u001b[0;32m    611\u001b[0m \u001b[1;33m\u001b[0m\u001b[0m\n\u001b[0;32m    612\u001b[0m \u001b[1;33m\u001b[0m\u001b[0m\n",
      "\u001b[1;32mC:\\ProgramData\\Anaconda3\\lib\\site-packages\\pandas\\io\\parsers.py\u001b[0m in \u001b[0;36m_read\u001b[1;34m(filepath_or_buffer, kwds)\u001b[0m\n\u001b[0;32m    460\u001b[0m \u001b[1;33m\u001b[0m\u001b[0m\n\u001b[0;32m    461\u001b[0m     \u001b[1;31m# Create the parser.\u001b[0m\u001b[1;33m\u001b[0m\u001b[1;33m\u001b[0m\u001b[1;33m\u001b[0m\u001b[0m\n\u001b[1;32m--> 462\u001b[1;33m     \u001b[0mparser\u001b[0m \u001b[1;33m=\u001b[0m \u001b[0mTextFileReader\u001b[0m\u001b[1;33m(\u001b[0m\u001b[0mfilepath_or_buffer\u001b[0m\u001b[1;33m,\u001b[0m \u001b[1;33m**\u001b[0m\u001b[0mkwds\u001b[0m\u001b[1;33m)\u001b[0m\u001b[1;33m\u001b[0m\u001b[1;33m\u001b[0m\u001b[0m\n\u001b[0m\u001b[0;32m    463\u001b[0m \u001b[1;33m\u001b[0m\u001b[0m\n\u001b[0;32m    464\u001b[0m     \u001b[1;32mif\u001b[0m \u001b[0mchunksize\u001b[0m \u001b[1;32mor\u001b[0m \u001b[0miterator\u001b[0m\u001b[1;33m:\u001b[0m\u001b[1;33m\u001b[0m\u001b[1;33m\u001b[0m\u001b[0m\n",
      "\u001b[1;32mC:\\ProgramData\\Anaconda3\\lib\\site-packages\\pandas\\io\\parsers.py\u001b[0m in \u001b[0;36m__init__\u001b[1;34m(self, f, engine, **kwds)\u001b[0m\n\u001b[0;32m    817\u001b[0m             \u001b[0mself\u001b[0m\u001b[1;33m.\u001b[0m\u001b[0moptions\u001b[0m\u001b[1;33m[\u001b[0m\u001b[1;34m\"has_index_names\"\u001b[0m\u001b[1;33m]\u001b[0m \u001b[1;33m=\u001b[0m \u001b[0mkwds\u001b[0m\u001b[1;33m[\u001b[0m\u001b[1;34m\"has_index_names\"\u001b[0m\u001b[1;33m]\u001b[0m\u001b[1;33m\u001b[0m\u001b[1;33m\u001b[0m\u001b[0m\n\u001b[0;32m    818\u001b[0m \u001b[1;33m\u001b[0m\u001b[0m\n\u001b[1;32m--> 819\u001b[1;33m         \u001b[0mself\u001b[0m\u001b[1;33m.\u001b[0m\u001b[0m_engine\u001b[0m \u001b[1;33m=\u001b[0m \u001b[0mself\u001b[0m\u001b[1;33m.\u001b[0m\u001b[0m_make_engine\u001b[0m\u001b[1;33m(\u001b[0m\u001b[0mself\u001b[0m\u001b[1;33m.\u001b[0m\u001b[0mengine\u001b[0m\u001b[1;33m)\u001b[0m\u001b[1;33m\u001b[0m\u001b[1;33m\u001b[0m\u001b[0m\n\u001b[0m\u001b[0;32m    820\u001b[0m \u001b[1;33m\u001b[0m\u001b[0m\n\u001b[0;32m    821\u001b[0m     \u001b[1;32mdef\u001b[0m \u001b[0mclose\u001b[0m\u001b[1;33m(\u001b[0m\u001b[0mself\u001b[0m\u001b[1;33m)\u001b[0m\u001b[1;33m:\u001b[0m\u001b[1;33m\u001b[0m\u001b[1;33m\u001b[0m\u001b[0m\n",
      "\u001b[1;32mC:\\ProgramData\\Anaconda3\\lib\\site-packages\\pandas\\io\\parsers.py\u001b[0m in \u001b[0;36m_make_engine\u001b[1;34m(self, engine)\u001b[0m\n\u001b[0;32m   1048\u001b[0m             )\n\u001b[0;32m   1049\u001b[0m         \u001b[1;31m# error: Too many arguments for \"ParserBase\"\u001b[0m\u001b[1;33m\u001b[0m\u001b[1;33m\u001b[0m\u001b[1;33m\u001b[0m\u001b[0m\n\u001b[1;32m-> 1050\u001b[1;33m         \u001b[1;32mreturn\u001b[0m \u001b[0mmapping\u001b[0m\u001b[1;33m[\u001b[0m\u001b[0mengine\u001b[0m\u001b[1;33m]\u001b[0m\u001b[1;33m(\u001b[0m\u001b[0mself\u001b[0m\u001b[1;33m.\u001b[0m\u001b[0mf\u001b[0m\u001b[1;33m,\u001b[0m \u001b[1;33m**\u001b[0m\u001b[0mself\u001b[0m\u001b[1;33m.\u001b[0m\u001b[0moptions\u001b[0m\u001b[1;33m)\u001b[0m  \u001b[1;31m# type: ignore[call-arg]\u001b[0m\u001b[1;33m\u001b[0m\u001b[1;33m\u001b[0m\u001b[0m\n\u001b[0m\u001b[0;32m   1051\u001b[0m \u001b[1;33m\u001b[0m\u001b[0m\n\u001b[0;32m   1052\u001b[0m     \u001b[1;32mdef\u001b[0m \u001b[0m_failover_to_python\u001b[0m\u001b[1;33m(\u001b[0m\u001b[0mself\u001b[0m\u001b[1;33m)\u001b[0m\u001b[1;33m:\u001b[0m\u001b[1;33m\u001b[0m\u001b[1;33m\u001b[0m\u001b[0m\n",
      "\u001b[1;32mC:\\ProgramData\\Anaconda3\\lib\\site-packages\\pandas\\io\\parsers.py\u001b[0m in \u001b[0;36m__init__\u001b[1;34m(self, src, **kwds)\u001b[0m\n\u001b[0;32m   1896\u001b[0m \u001b[1;33m\u001b[0m\u001b[0m\n\u001b[0;32m   1897\u001b[0m         \u001b[1;32mtry\u001b[0m\u001b[1;33m:\u001b[0m\u001b[1;33m\u001b[0m\u001b[1;33m\u001b[0m\u001b[0m\n\u001b[1;32m-> 1898\u001b[1;33m             \u001b[0mself\u001b[0m\u001b[1;33m.\u001b[0m\u001b[0m_reader\u001b[0m \u001b[1;33m=\u001b[0m \u001b[0mparsers\u001b[0m\u001b[1;33m.\u001b[0m\u001b[0mTextReader\u001b[0m\u001b[1;33m(\u001b[0m\u001b[0mself\u001b[0m\u001b[1;33m.\u001b[0m\u001b[0mhandles\u001b[0m\u001b[1;33m.\u001b[0m\u001b[0mhandle\u001b[0m\u001b[1;33m,\u001b[0m \u001b[1;33m**\u001b[0m\u001b[0mkwds\u001b[0m\u001b[1;33m)\u001b[0m\u001b[1;33m\u001b[0m\u001b[1;33m\u001b[0m\u001b[0m\n\u001b[0m\u001b[0;32m   1899\u001b[0m         \u001b[1;32mexcept\u001b[0m \u001b[0mException\u001b[0m\u001b[1;33m:\u001b[0m\u001b[1;33m\u001b[0m\u001b[1;33m\u001b[0m\u001b[0m\n\u001b[0;32m   1900\u001b[0m             \u001b[0mself\u001b[0m\u001b[1;33m.\u001b[0m\u001b[0mhandles\u001b[0m\u001b[1;33m.\u001b[0m\u001b[0mclose\u001b[0m\u001b[1;33m(\u001b[0m\u001b[1;33m)\u001b[0m\u001b[1;33m\u001b[0m\u001b[1;33m\u001b[0m\u001b[0m\n",
      "\u001b[1;32mpandas\\_libs\\parsers.pyx\u001b[0m in \u001b[0;36mpandas._libs.parsers.TextReader.__cinit__\u001b[1;34m()\u001b[0m\n",
      "\u001b[1;31mEmptyDataError\u001b[0m: No columns to parse from file"
     ]
    }
   ],
   "source": [
    "# add design case to each output file\n",
    "import pandas as pd\n",
    "os.chdir('C:/Users/20181270/OneDrive - TU Eindhoven/PhD/TRNSYS/Publication1/pub_1/src')\n",
    "for i in np.arange(3):\n",
    "    with open('readme'+'.txt', 'w') as f:\n",
    "        f.close()\n",
    "df = pd.read_csv('readme.txt', delimiter='\\t', header=None)"
   ]
  },
  {
   "cell_type": "code",
   "execution_count": 15,
   "id": "05ee7e20",
   "metadata": {},
   "outputs": [
    {
     "data": {
      "text/plain": [
       "<_io.TextIOWrapper name='readme.txt' mode='w' encoding='cp1252'>"
      ]
     },
     "execution_count": 15,
     "metadata": {},
     "output_type": "execute_result"
    }
   ],
   "source": [
    "f\n"
   ]
  },
  {
   "cell_type": "code",
   "execution_count": null,
   "id": "979fcc43",
   "metadata": {},
   "outputs": [],
   "source": []
  }
 ],
 "metadata": {
  "kernelspec": {
   "display_name": "Python 3",
   "language": "python",
   "name": "python3"
  },
  "language_info": {
   "codemirror_mode": {
    "name": "ipython",
    "version": 3
   },
   "file_extension": ".py",
   "mimetype": "text/x-python",
   "name": "python",
   "nbconvert_exporter": "python",
   "pygments_lexer": "ipython3",
   "version": "3.8.8"
  }
 },
 "nbformat": 4,
 "nbformat_minor": 5
}
