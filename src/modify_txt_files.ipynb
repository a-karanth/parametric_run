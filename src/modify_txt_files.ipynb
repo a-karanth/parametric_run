{
 "cells": [
  {
   "cell_type": "code",
   "execution_count": 1,
   "id": "5f901196",
   "metadata": {},
   "outputs": [],
   "source": [
    "import pandas as pd\n",
    "import os\n",
    "directory = 'C:\\\\Users\\\\20181270\\\\OneDrive - TU Eindhoven\\\\PhD\\\\TRNSYS\\\\Publication1\\\\pub_1\\\\src\\\\'\n",
    "res_folder = 'res\\\\'\n",
    "trn_folder = 'res\\\\trn\\\\'\n",
    "\n",
    "def read_modify_files(label):\n",
    "    \n",
    "    prefix = directory + trn_folder + label\n",
    "    temp_flow = pd.read_csv(prefix+'_temp_flow.txt', delimiter=\",\",index_col=0)\n",
    "    energy = pd.read_csv(prefix+'_energy.txt', delimiter=\",\", index_col=0)\n",
    "    controls = pd.read_csv(prefix+'_control_signal.txt', delimiter=\",\",index_col=0)\n",
    "    \n",
    "    temp_flow.columns = [col.strip() for col in temp_flow.columns]\n",
    "    energy.columns = [col.strip() for col in energy.columns]\n",
    "    controls.columns = [col.strip() for col in controls.columns]\n",
    "    \n",
    "    temp_flow.drop(columns=[#'T2_dhw','T3_dhw','T4_dhw','T5_dhw',\n",
    "                            #'T2_sh','T3_sh','T4_sh','T5_sh',\n",
    "                            'Taux2tap', 'maux2tap',], \n",
    "                   inplace=True, errors='ignore')\n",
    "    energy.drop(columns=['Qaux_tap',], inplace=True, errors='ignore')\n",
    "    \n",
    "    temp_flow.to_csv(prefix+'_temp_flow.txt')\n",
    "    energy.to_csv(prefix+'_energy.txt')\n",
    "    controls.to_csv(prefix+'_control_signal.txt')"
   ]
  },
  {
   "cell_type": "code",
   "execution_count": 9,
   "id": "d8b38dc8",
   "metadata": {},
   "outputs": [
    {
     "data": {
      "text/plain": [
       "array(['0', '1', '10', '1000', '1001', '1002', '1003', '1004', '1005',\n",
       "       '1006', '1007', '1008', '1009', '1010', '1011', '1012', '1013',\n",
       "       '1014', '1015', '1016', '1017', '1018', '1019', '1020', '1021',\n",
       "       '1022', '1023', '1024', '1025', '1026', '1027', '1028', '1029',\n",
       "       '1030', '1031', '1032', '1033', '1034', '1035', '1036', '1037',\n",
       "       '1038', '1039', '1040', '1041', '1042', '1043', '1044', '1045',\n",
       "       '1046', '1047_cp', '1048_cp', '1049_cp', '1050_cp', '1051_cp',\n",
       "       '1052_cp', '1053_cp', '1054_cp', '1055_cp', '1056_cp', '1057_cp',\n",
       "       '1058_cp', '1059', '1060', '1061', '1062', '1063', '1064', '1065',\n",
       "       '1066', '1067', '1068', '1069', '1070', '1071', '1072', '1073',\n",
       "       '1074', '1075', '1076', '1077', '1078', '1079', '1080', '1081',\n",
       "       '1082', '1083', '1084', '1085', '1086', '1087', '1088', '1089',\n",
       "       '1090', '1091', '1092', '1093', '1094', '1095', '1096', '1097',\n",
       "       '1098', '1099', '11', '1100', '1101', '1102', '1103', '1104',\n",
       "       '1105', '1106', '1107', '1108', '1109', '1110', '1111', '1112',\n",
       "       '1113_cp', '1114_cp', '1115_cp', '1116_cp', '1117_cp', '1118_cp',\n",
       "       '1119', '1120', '1121', '1122', '1123', '1124', '1125', '1126',\n",
       "       '1127', '1128', '1129', '1130', '1131', '1132', '1133', '1134',\n",
       "       '1135', '1136', '1137', '1138', '1139', '1140', '1141', '1142',\n",
       "       '1143', '1144', '1145', '1146', '1147', '1148', '1149', '1150',\n",
       "       '1151', '1152', '1153', '1154', '1155', '1156', '1157', '1158',\n",
       "       '1159', '1160', '1161', '1162', '1163', '1164', '1165', '1166',\n",
       "       '1167', '1168', '1169', '1170', '1171', '1172', '1173_cp',\n",
       "       '1174_cp', '1175_cp', '1176_cp', '1177_cp', '1178_cp', '1179',\n",
       "       '1180', '1181', '1182', '1183', '1184', '1185', '1186', '1187',\n",
       "       '1188', '1189', '1190', '1191', '1192', '1193', '1194', '1195',\n",
       "       '1196', '1197', '1198', '1199', '12', '1200', '1201', '1202',\n",
       "       '1203', '1204', '1205', '1206', '1207', '1208', '1209', '1210',\n",
       "       '1211', '1212', '1213', '1214', '1215', '1216', '1217', '1218',\n",
       "       '1219', '1220', '1221', '1222', '1223', '1224', '1225', '1226',\n",
       "       '1227', '1228', '1229', '1230', '1231', '1232', '13', '14', '15',\n",
       "       '16', '17', '18', '19', '2', '20', '2001', '2002', '2003', '2004',\n",
       "       '2005', '2006', '2008', '2009', '2010', '2011', '2012', '2013',\n",
       "       '21', '22', '23', '24', '25', '26', '27', '28', '29', '3', '30',\n",
       "       '31', '32', '33', '34', '35', '36', '37', '38', '39', '4', '40',\n",
       "       '41', '42', '43', '44', '45', '46', '47', '5', '6', '7', '8',\n",
       "       '861_cp', '862_cp', '863_cp', '864_cp', '865_cp', '866_cp',\n",
       "       '867_cp', '868_cp', '869_cp', '870_cp', '871_cp', '872_cp', '873',\n",
       "       '874', '875', '876', '877', '878', '879', '880', '881', '882',\n",
       "       '883', '884', '885', '886', '887', '888', '889', '890', '891',\n",
       "       '892', '893', '894', '895', '896', '897', '898', '899', '9', '900',\n",
       "       '901', '902', '903', '904', '905', '906', '907', '908', '909',\n",
       "       '910', '911', '912', '913', '914', '915', '916', '917', '918',\n",
       "       '919', '920', '921', '922', '923', '924', '925', '926', '927_cp',\n",
       "       '928_cp', '929_cp', '930_cp', '931_cp', '932_cp', '933', '934',\n",
       "       '935', '936', '937', '938', '939', '940', '941', '942', '943',\n",
       "       '944', '945', '946', '947', '948', '949', '950', '951', '952',\n",
       "       '953', '954', '955', '956', '957', '958', '959', '960', '961',\n",
       "       '962', '963', '964', '965', '966', '967', '968', '969', '970',\n",
       "       '971', '972', '973', '974', '975', '976', '977', '978', '979',\n",
       "       '980', '981', '982', '983', '984', '985', '986', '987_cp',\n",
       "       '988_cp', '989_cp', '990_cp', '991_cp', '992_cp', '993', '994',\n",
       "       '995', '996', '997', '998', '999', 'x'], dtype='<U7')"
      ]
     },
     "execution_count": 9,
     "metadata": {},
     "output_type": "execute_result"
    }
   ],
   "source": [
    "import numpy as np\n",
    "test = os.listdir('res\\\\trn\\\\')\n",
    "avl_labels_og = [] # avaliable labels in the \n",
    "for i in test:\n",
    "    if '_temp_flow' in i:\n",
    "        prefix = i[:-14]\n",
    "    elif '_control_signal' in i:\n",
    "        prefix = i[:-19]\n",
    "    elif '_energy' in i:\n",
    "        prefix = i[:-11]\n",
    "    else:\n",
    "        continue\n",
    "    avl_labels_og.append(prefix)      \n",
    "avl_labels_og = np.array(avl_labels_og)\n",
    "avl_labels_og = np.unique(avl_labels_og)\n",
    "avl_labels_og"
   ]
  },
  {
   "cell_type": "code",
   "execution_count": 13,
   "id": "5f9f3012",
   "metadata": {},
   "outputs": [
    {
     "data": {
      "text/plain": [
       "['1100',\n",
       " '1101',\n",
       " '1102',\n",
       " '1103',\n",
       " '1104',\n",
       " '1105',\n",
       " '1106',\n",
       " '1107',\n",
       " '1108',\n",
       " '1109',\n",
       " '1110',\n",
       " '1111',\n",
       " '1112',\n",
       " '1113',\n",
       " '1114',\n",
       " '1115']"
      ]
     },
     "execution_count": 13,
     "metadata": {},
     "output_type": "execute_result"
    }
   ],
   "source": [
    "import os\n",
    "avl_labels = np.array([''.join(filter(str.isdigit, s)) for s in avl_labels_og])\n",
    "labels_all = list(range(1100,1116))\n",
    "labels_all = [str(i) for i in labels_all]\n",
    "labels = [i for i in labels_all if i in avl_labels]\n",
    "labels"
   ]
  },
  {
   "cell_type": "code",
   "execution_count": 14,
   "id": "e6a914c8",
   "metadata": {},
   "outputs": [
    {
     "data": {
      "text/plain": [
       "['1100',\n",
       " '1101',\n",
       " '1102',\n",
       " '1103',\n",
       " '1104',\n",
       " '1105',\n",
       " '1106',\n",
       " '1107',\n",
       " '1108',\n",
       " '1109',\n",
       " '1110',\n",
       " '1111',\n",
       " '1112',\n",
       " '1113_cp',\n",
       " '1114_cp',\n",
       " '1115_cp']"
      ]
     },
     "execution_count": 14,
     "metadata": {},
     "output_type": "execute_result"
    }
   ],
   "source": [
    "og_labels = []\n",
    "for alo in avl_labels_og:\n",
    "     if any(alo.startswith(l) for l in labels):\n",
    "        og_labels.append(alo)\n",
    "og_labels"
   ]
  },
  {
   "cell_type": "code",
   "execution_count": 10,
   "id": "ab19947e",
   "metadata": {
    "scrolled": true
   },
   "outputs": [
    {
     "data": {
      "text/plain": [
       "['1181',\n",
       " '1182',\n",
       " '1183',\n",
       " '1184',\n",
       " '1185',\n",
       " '1186',\n",
       " '1187',\n",
       " '1188',\n",
       " '1189',\n",
       " '1190',\n",
       " '1191',\n",
       " '1192',\n",
       " '1193',\n",
       " '1194',\n",
       " '1195',\n",
       " '1196',\n",
       " '1197',\n",
       " '1198',\n",
       " '1199',\n",
       " '1200',\n",
       " '1201',\n",
       " '1202',\n",
       " '1203',\n",
       " '1204',\n",
       " '1205',\n",
       " '1206',\n",
       " '1207',\n",
       " '1208',\n",
       " '1209',\n",
       " '1210',\n",
       " '1211',\n",
       " '1212',\n",
       " '1213',\n",
       " '1214',\n",
       " '1215',\n",
       " '1216',\n",
       " '1217',\n",
       " '1218',\n",
       " '1219',\n",
       " '1220',\n",
       " '1221',\n",
       " '1222',\n",
       " '1223',\n",
       " '1224',\n",
       " '1225',\n",
       " '1226',\n",
       " '1227',\n",
       " '1228',\n",
       " '1229',\n",
       " '1230',\n",
       " '1231',\n",
       " '1232']"
      ]
     },
     "execution_count": 10,
     "metadata": {},
     "output_type": "execute_result"
    }
   ],
   "source": [
    "import numpy as np\n",
    "labels = [str(i) for i in np.arange(1181,1233)]\n",
    "labels = [label for label in avl_labels_og if any(label.startswith(num) for num in labels)]\n",
    "labels"
   ]
  },
  {
   "cell_type": "code",
   "execution_count": 4,
   "id": "6a8e7261",
   "metadata": {},
   "outputs": [
    {
     "data": {
      "text/plain": [
       "123"
      ]
     },
     "execution_count": 4,
     "metadata": {},
     "output_type": "execute_result"
    }
   ],
   "source": [
    "redo = pd.read_csv('res\\\\redo.csv',index_col=0)\n",
    "redo_index = redo.index\n",
    "labels = []\n",
    "for i in redo.index:\n",
    "    if redo['design_case'].loc[i]=='cp_PV':\n",
    "        labels.append(str(i)+'_cp')\n",
    "    else:\n",
    "        labels.append(str(i))\n",
    "len(labels)"
   ]
  },
  {
   "cell_type": "code",
   "execution_count": 11,
   "id": "e1630e42",
   "metadata": {
    "scrolled": true
   },
   "outputs": [
    {
     "name": "stdout",
     "output_type": "stream",
     "text": [
      "5.538338851928711\n"
     ]
    }
   ],
   "source": [
    "from joblib import Parallel, delayed\n",
    "import time\n",
    "num_processes = 2  # Change this to the desired number of processes\n",
    "t1 = time.time()\n",
    "Parallel(n_jobs=num_processes)(delayed(read_modify_files)(label) for label in labels)\n",
    "t2 = time.time()\n",
    "print((t2-t1)/60)"
   ]
  },
  {
   "cell_type": "code",
   "execution_count": 44,
   "id": "a5e98dc3",
   "metadata": {},
   "outputs": [],
   "source": [
    "label = '0'\n",
    "prefix = directory + trn_folder + label\n",
    "temp_flow = pd.read_csv(prefix+'_temp_flow.txt', delimiter=\",\",index_col=0)\n",
    "energy = pd.read_csv(prefix+'_energy.txt', delimiter=\",\", index_col=0)\n",
    "controls = pd.read_csv(prefix+'_control_signal.txt', delimiter=\",\",index_col=0)\n",
    "\n",
    "temp_flow.columns = [col.strip() for col in temp_flow.columns]\n",
    "energy.columns = [col.strip() for col in energy.columns]\n",
    "controls.columns = [col.strip() for col in controls.columns]\n",
    "\n",
    "temp_flow.drop(columns=['T2_dhw','T3_dhw','T4_dhw','T5_dhw',\n",
    "                        'T2_sh','T3_sh','T4_sh','T5_sh',\n",
    "                        'Taux2tap', 'maux2tap',], \n",
    "               inplace=True, errors='ignore')\n",
    "energy.drop(columns=['Qaux_tap',], inplace=True, errors='ignore')"
   ]
  }
 ],
 "metadata": {
  "kernelspec": {
   "display_name": "Python 3",
   "language": "python",
   "name": "python3"
  },
  "language_info": {
   "codemirror_mode": {
    "name": "ipython",
    "version": 3
   },
   "file_extension": ".py",
   "mimetype": "text/x-python",
   "name": "python",
   "nbconvert_exporter": "python",
   "pygments_lexer": "ipython3",
   "version": "3.8.8"
  }
 },
 "nbformat": 4,
 "nbformat_minor": 5
}
